{
 "cells": [
  {
   "cell_type": "markdown",
   "metadata": {},
   "source": [
    "# DSCI 512 Lecture 4: Trees\n"
   ]
  },
  {
   "cell_type": "markdown",
   "metadata": {},
   "source": [
    "Outline: \n",
    "\n",
    "- Recursive data structures\n",
    "- Simple trees \n",
    "- Binary search trees\n",
    "- Nearest neighbours intro \n",
    "- $k$-d trees\n",
    "- Amortization\n",
    "- True/False questions"
   ]
  },
  {
   "cell_type": "markdown",
   "metadata": {},
   "source": [
    "## Recursive data structures"
   ]
  },
  {
   "cell_type": "markdown",
   "metadata": {},
   "source": [
    "- We have seen various nested data structures, like lists of lists:"
   ]
  },
  {
   "cell_type": "code",
   "execution_count": null,
   "metadata": {},
   "outputs": [],
   "source": [
    "x = [[1,2,3],['a','b','c']]"
   ]
  },
  {
   "cell_type": "markdown",
   "metadata": {},
   "source": [
    "Or dicts of dicts"
   ]
  },
  {
   "cell_type": "code",
   "execution_count": 2,
   "metadata": {},
   "outputs": [],
   "source": [
    "pos_counts = {\"fight\":{\"VB\": 55,\"NN\":23}, \"clobber\":{\"VB\":7}}"
   ]
  },
  {
   "cell_type": "markdown",
   "metadata": {},
   "source": [
    "![](https://upload.wikimedia.org/wikipedia/commons/7/71/Russian-Matroshka.jpg)\n",
    "\n",
    "(Image attribution to Fanghong, from [Wikipedia article](https://en.wikipedia.org/wiki/Matryoshka_doll).)"
   ]
  },
  {
   "cell_type": "markdown",
   "metadata": {},
   "source": [
    "- We can call these \"nested data structures\". We could also call them \"hierarchical\".\n",
    "- But we can go a step beyond that, where the definition of the data type is ITSELF recursive.\n",
    "- Consider a Russian Doll _data type_, which would define various physical attributes (size, colour, etc.) plus a link to the doll that fits inside it.\n",
    "- We'll actually use the metaphor of a magical treasure box where each box contains both another box as well as a \"treasure\" "
   ]
  },
  {
   "cell_type": "code",
   "execution_count": 3,
   "metadata": {},
   "outputs": [],
   "source": [
    "class TreasureBox:\n",
    "    def __init__(self, treasure):\n",
    "        self.innerTreasureBox = None\n",
    "        self.treasure = treasure\n",
    "        \n",
    "    def append_outer(self, treasure):\n",
    "        \"\"\"Add a new treasure box to the outside, put everything else inside it.\"\"\"\n",
    "        new_box = TreasureBox(treasure)\n",
    "        new_box.innerTreasureBox = self\n",
    "        return new_box\n",
    "\n",
    "    def append_inner(self, treasure):  \n",
    "        \"\"\"Add a new treasure box inside the innermost current box.\"\"\"\n",
    "        if self.innerTreasureBox is None:\n",
    "            new_box = self.innerTreasureBox = TreasureBox(treasure)\n",
    "        else:\n",
    "            new_box =  self.innerTreasureBox.append_inner(treasure)\n",
    "        return new_box\n",
    "        \n",
    "    def get(self, depth):\n",
    "        \"\"\"Get the treasure by going depth levels deep into the treasure boxes.\"\"\"\n",
    "        if depth == 0:\n",
    "            return self.treasure\n",
    "\n",
    "        if self.innerTreasureBox is None:\n",
    "            return None # Index out of bounds\n",
    "    \n",
    "        return self.innerTreasureBox.get(depth-1)"
   ]
  },
  {
   "cell_type": "code",
   "execution_count": 5,
   "metadata": {},
   "outputs": [],
   "source": [
    "box = TreasureBox(5)\n",
    "\n",
    "box = box.append_outer(7)\n",
    "box = box.append_outer(10)"
   ]
  },
  {
   "cell_type": "markdown",
   "metadata": {},
   "source": [
    "Note that the box variable points to the outermost box.\n",
    "\n",
    "The get function allows us to recusively step into the boxes and get their treasures"
   ]
  },
  {
   "cell_type": "code",
   "execution_count": 6,
   "metadata": {},
   "outputs": [
    {
     "data": {
      "text/plain": [
       "10"
      ]
     },
     "execution_count": 6,
     "metadata": {},
     "output_type": "execute_result"
    }
   ],
   "source": [
    "box.get(0)"
   ]
  },
  {
   "cell_type": "code",
   "execution_count": 7,
   "metadata": {},
   "outputs": [
    {
     "data": {
      "text/plain": [
       "7"
      ]
     },
     "execution_count": 7,
     "metadata": {},
     "output_type": "execute_result"
    }
   ],
   "source": [
    "box.get(1)"
   ]
  },
  {
   "cell_type": "code",
   "execution_count": 8,
   "metadata": {},
   "outputs": [
    {
     "data": {
      "text/plain": [
       "5"
      ]
     },
     "execution_count": 8,
     "metadata": {},
     "output_type": "execute_result"
    }
   ],
   "source": [
    "box.get(2)"
   ]
  },
  {
   "cell_type": "code",
   "execution_count": 9,
   "metadata": {},
   "outputs": [],
   "source": [
    "box.get(3)"
   ]
  },
  {
   "cell_type": "code",
   "execution_count": 10,
   "metadata": {},
   "outputs": [],
   "source": [
    "box = TreasureBox(5)\n",
    "\n",
    "box.append_inner(7)\n",
    "box.append_inner(10)"
   ]
  },
  {
   "cell_type": "markdown",
   "metadata": {},
   "source": [
    "Note that box still points to the outer box, since we didn't assign it."
   ]
  },
  {
   "cell_type": "code",
   "execution_count": 11,
   "metadata": {},
   "outputs": [
    {
     "data": {
      "text/plain": [
       "5"
      ]
     },
     "execution_count": 11,
     "metadata": {},
     "output_type": "execute_result"
    }
   ],
   "source": [
    "box.get(0)"
   ]
  },
  {
   "cell_type": "code",
   "execution_count": 12,
   "metadata": {},
   "outputs": [
    {
     "data": {
      "text/plain": [
       "7"
      ]
     },
     "execution_count": 12,
     "metadata": {},
     "output_type": "execute_result"
    }
   ],
   "source": [
    "box.get(1)"
   ]
  },
  {
   "cell_type": "code",
   "execution_count": 13,
   "metadata": {},
   "outputs": [
    {
     "data": {
      "text/plain": [
       "10"
      ]
     },
     "execution_count": 13,
     "metadata": {},
     "output_type": "execute_result"
    }
   ],
   "source": [
    "box.get(2)"
   ]
  },
  {
   "cell_type": "code",
   "execution_count": 14,
   "metadata": {},
   "outputs": [],
   "source": [
    "box.get(3)"
   ]
  },
  {
   "cell_type": "markdown",
   "metadata": {},
   "source": [
    "- In computer science, this is called a [linked list](https://en.wikipedia.org/wiki/Linked_list).\n",
    "- It's not just a nested data structure (list of lists); the data type itself is recursive. \n",
    "- (optional) Note that our generators are like linked lists, hopping from one item to the next."
   ]
  },
  {
   "cell_type": "markdown",
   "metadata": {},
   "source": [
    "Take-home ideas:\n",
    "\n",
    "- Relationship between recursive function calls (see `append_inner` and `get`) and recursive data types (see `__init__`).\n",
    "- The signature of a recursive data type is that an instance of the class contains one or more instances of that type.\n",
    "  - In our case, each `TreasureBox` contains another `TreasureBox` (or `None`).\n",
    "- Recursion is an important idea in understanding algorithms _and_ data structures."
   ]
  },
  {
   "cell_type": "markdown",
   "metadata": {},
   "source": [
    "## Trees basics"
   ]
  },
  {
   "cell_type": "markdown",
   "metadata": {},
   "source": [
    "Trees are recursive data structures, like the linked lists above."
   ]
  },
  {
   "cell_type": "markdown",
   "metadata": {},
   "source": [
    "![](https://upload.wikimedia.org/wikipedia/commons/2/2e/Organizational_chart.svg)\n",
    "\n",
    "(Image attribution to TotoBaggins, from [Wikipedia article](https://en.wikipedia.org/wiki/Organizational_chart).)"
   ]
  },
  {
   "cell_type": "markdown",
   "metadata": {},
   "source": [
    "Tree terminology:\n",
    "\n",
    "- A tree is either empty or a node with zero or more _children_ that are themselves trees (or \"subtrees\").\n",
    "- If $X$ is the child of $Y$, then $Y$ is the _parent_ of $X$ (e.g. Captain A is a child of Colonel B; Colonel B is the parent of Captain A).\n",
    "- The _root_ is the only node without a parent (e.g. General).\n",
    "- A _leaf_ is a node that does not have children (e.g. Private A).\n",
    "- An _internal node_ is a node that is not a leaf (e.g. Captain A).\n",
    "- The _height_ of the tree is the number of nodes on the longest path from the root to a leaf (here, 5).\n",
    "- Some trees might have a _label_ associated with each node (or other some other data which it contains, e.g. a _value_)\n"
   ]
  },
  {
   "cell_type": "markdown",
   "metadata": {},
   "source": [
    "Let's build a simple _binary tree_  class using Python. A binary tree is a tree where each node has at most 2 children. So each tree node will have a label and two children:"
   ]
  },
  {
   "cell_type": "code",
   "execution_count": 8,
   "metadata": {},
   "outputs": [],
   "source": [
    "class BinaryTree:\n",
    "    def __init__(self,label):\n",
    "        #my code here\n",
    "        self.label = label\n",
    "        self.left = None\n",
    "        self.right = None      \n",
    "        #my code here"
   ]
  },
  {
   "cell_type": "markdown",
   "metadata": {},
   "source": [
    "Let's manually build a binary tree containing some of the information in the example above"
   ]
  },
  {
   "cell_type": "code",
   "execution_count": 9,
   "metadata": {},
   "outputs": [],
   "source": [
    "\n",
    "root = BinaryTree(\"General\")\n",
    "root.left = BinaryTree(\"Colonel A\")\n",
    "root.right = BinaryTree(\"Colonel B\")\n",
    "#my code here\n",
    "root.right.left = BinaryTree(\"Captain A\")\n",
    "root.right.right = BinaryTree(\"Captain B\")\n",
    "#my code here"
   ]
  },
  {
   "cell_type": "markdown",
   "metadata": {},
   "source": [
    "**Questions**: What are the number of leaf nodes in our tree? Internal nodes? What is the height?"
   ]
  },
  {
   "cell_type": "markdown",
   "metadata": {},
   "source": [
    "**Answers**: <span style=\"background-color:black;\"> There are 3 leaf nodes, 2 internal nodes (General and Colonel B), and the height of the tree is 3 </span>"
   ]
  },
  {
   "cell_type": "markdown",
   "metadata": {},
   "source": [
    "We can exhaustively search this simple tree looking for a particular label using a recursive function"
   ]
  },
  {
   "cell_type": "code",
   "execution_count": 10,
   "metadata": {},
   "outputs": [],
   "source": [
    "def full_search(tree, target):\n",
    "    # my code here\n",
    "    if tree == None:\n",
    "        return False\n",
    "    if tree.label == target:\n",
    "        return True\n",
    "    else:\n",
    "        return full_search(tree.left,target) or full_search(tree.right,target)\n",
    "    # my code here"
   ]
  },
  {
   "cell_type": "code",
   "execution_count": 11,
   "metadata": {},
   "outputs": [
    {
     "name": "stdout",
     "output_type": "stream",
     "text": [
      "True\n",
      "False\n"
     ]
    }
   ],
   "source": [
    "print(full_search(root,\"Captain A\"))\n",
    "print(full_search(root,\"Private A\"))"
   ]
  },
  {
   "cell_type": "markdown",
   "metadata": {},
   "source": [
    "Exercise: Modify `full_search` to become a function called `count_ranks` which counts how many nodes of our tree of ranks have labels which start with a particular rank (e.g. Colonel). Don't assume that any particular rank is at any particular depth in the tree"
   ]
  },
  {
   "cell_type": "code",
   "execution_count": 24,
   "metadata": {},
   "outputs": [],
   "source": [
    "def count_ranks(tree, rank):\n",
    "    # your code here\n",
    "    if tree == None:\n",
    "        return 0\n",
    "    count = 0\n",
    "    if tree.label.startswith(rank):\n",
    "        count += 1\n",
    "    return count + count_ranks(tree.left,rank) + count_ranks(tree.right,rank)\n",
    "    # your code here"
   ]
  },
  {
   "cell_type": "code",
   "execution_count": 25,
   "metadata": {},
   "outputs": [
    {
     "name": "stdout",
     "output_type": "stream",
     "text": [
      "2\n",
      "2\n"
     ]
    }
   ],
   "source": [
    "print(count_ranks(root,\"Colonel\"))\n",
    "print(count_ranks(root,\"Captain\"))"
   ]
  },
  {
   "cell_type": "markdown",
   "metadata": {},
   "source": [
    "## Binary search trees"
   ]
  },
  {
   "cell_type": "markdown",
   "metadata": {},
   "source": [
    "- In lab, you are implementing a set based on trees instead of a hash table.\n",
    "- In particular this data structure is called a [binary search tree](https://www.geeksforgeeks.org/binary-search-tree-data-structure/).\n",
    "- A binary tree is a _binary search tree_ if, for all nodes, all keys in its left subtree are smaller than its key, and all keys in its right subtree are larger than its key.\n",
    "- Requirement to use BSTs: we must be able to compare keys.\n",
    "- Compare this to a hash table: we need to be able to hash the keys. "
   ]
  },
  {
   "cell_type": "markdown",
   "metadata": {},
   "source": [
    "Computational complexity: \n",
    "\n",
    "- Binary search trees (BSTs) can be slow if they become very unbalanced.\n",
    "- Industrial strength implementations stay balanced and are still efficient.\n",
    "- Deletion is more tricky and we won't cover it here.\n",
    "- But the take-home message is that search/insert/delete all run in $O(\\log n)$ time, which is pretty fast."
   ]
  },
  {
   "cell_type": "markdown",
   "metadata": {},
   "source": [
    "## Nearest neighbours intro"
   ]
  },
  {
   "cell_type": "markdown",
   "metadata": {},
   "source": [
    "- A common problem in data science is to find the _nearest neighbours_ of a point.\n",
    "- We can start in 2D:"
   ]
  },
  {
   "cell_type": "code",
   "execution_count": 26,
   "metadata": {},
   "outputs": [
    {
     "data": {
      "image/png": "[encoded data removed]",
      "text/plain": [
       "<Figure size 432x288 with 1 Axes>"
      ]
     },
     "metadata": {},
     "output_type": "display_data"
    }
   ],
   "source": [
    "import numpy as np\n",
    "import matplotlib.pyplot as plt\n",
    "%matplotlib inline\n",
    "\n",
    "n = 20\n",
    "np.random.seed(1)\n",
    "X = np.random.rand(n,2)\n",
    "plt.scatter(X[:,0], X[:,1]);\n",
    "plt.plot(0.5, 0.5, '.r', markersize=12);"
   ]
  },
  {
   "cell_type": "markdown",
   "metadata": {},
   "source": [
    "- Which blue points are nearest to the red (\"query\") point?\n",
    "  - Note: to define \"nearest\" we need a notion of _distance_.\n",
    "  - For now, we'll use Euclidean distance.\n",
    "  - In future courses, this might change.\n",
    "  - Choosing a distance metric is actually important in ML."
   ]
  },
  {
   "cell_type": "markdown",
   "metadata": {},
   "source": [
    "The algorithmic approach is:\n",
    "\n",
    "1. Find the distance from the red point to all the blue points.\n",
    "2. Find the smallest distances."
   ]
  },
  {
   "cell_type": "code",
   "execution_count": 27,
   "metadata": {},
   "outputs": [],
   "source": [
    "# It's OK if you don't understand this code, especially during lecture\n",
    "\n",
    "def nearest_neighbour(data, query):\n",
    "    \"\"\"\n",
    "    Find points in the data that are nearest to the query point.\n",
    "    \n",
    "    Arguments:\n",
    "    data -- (numpy.ndarray) a 2D array containing the points as rows\n",
    "    query -- (numpy.ndarray) a 1D array containing the query point\n",
    "    \"\"\"\n",
    "    if query.ndim == 1:\n",
    "        query = query[None]\n",
    "        \n",
    "    return np.argsort(np.sum((data - query)**2,axis=1))"
   ]
  },
  {
   "cell_type": "code",
   "execution_count": 28,
   "metadata": {},
   "outputs": [
    {
     "data": {
      "text/plain": [
       "array([ 8,  4,  5,  0, 17, 11,  3, 18, 15, 16,  9,  6, 14,  7,  1,  2, 19,\n",
       "       12, 10, 13], dtype=int64)"
      ]
     },
     "execution_count": 28,
     "metadata": {},
     "output_type": "execute_result"
    }
   ],
   "source": [
    "query = np.array([0.5,0.5])\n",
    "nn = nearest_neighbour(X, query)\n",
    "nn"
   ]
  },
  {
   "cell_type": "code",
   "execution_count": 29,
   "metadata": {},
   "outputs": [
    {
     "data": {
      "text/plain": [
       "array([0.4173048 , 0.55868983])"
      ]
     },
     "execution_count": 29,
     "metadata": {},
     "output_type": "execute_result"
    }
   ],
   "source": [
    "X[nn[0]]"
   ]
  },
  {
   "cell_type": "code",
   "execution_count": 30,
   "metadata": {},
   "outputs": [
    {
     "data": {
      "text/plain": [
       "array([0.39676747, 0.53881673])"
      ]
     },
     "execution_count": 30,
     "metadata": {},
     "output_type": "execute_result"
    }
   ],
   "source": [
    "X[nn[1]]"
   ]
  },
  {
   "cell_type": "markdown",
   "metadata": {},
   "source": [
    "**Question:** what is the time complexity if we have $n$ points in $d$ dimensions?"
   ]
  },
  {
   "cell_type": "markdown",
   "metadata": {},
   "source": [
    "**Answer:** <span style=\"background-color:black;\"> $O(nd)$, because we have to loop over all $n$ points, and computing the distance requires looping over the $d$ dimensions.</span>\n",
    "\n",
    "- Problem: this may be way too slow!\n",
    "- For example, if you want to find similar items on Amazon, and they have a billion items, you don't want to have to look through _all_ of them every time."
   ]
  },
  {
   "cell_type": "markdown",
   "metadata": {},
   "source": [
    "## $k$-d trees\n"
   ]
  },
  {
   "cell_type": "markdown",
   "metadata": {},
   "source": [
    "- Sometimes we speed things up with faster algorihtms.\n",
    "- But, as we've seen with trees and hash tables, sometime we speed things up with _better data structures_. \n",
    "- One of the classic ways to speed up nearest neighbours is a data structure called the [$k$-d tree](https://en.wikipedia.org/wiki/K-d_tree)."
   ]
  },
  {
   "cell_type": "code",
   "execution_count": 31,
   "metadata": {},
   "outputs": [],
   "source": [
    "# Students:\n",
    "# You do not need to read/understand this code,\n",
    "# But I think you're capable of understanding it with a bit of time spent.\n",
    "# Feel free to ask if you have questions!\n",
    "\n",
    "class KDTree:\n",
    "    def __init__(self):\n",
    "        self.location = None\n",
    "        self.leftSubTree = None\n",
    "        self.rightSubTree = None\n",
    "        self.dim = None\n",
    "        self.data = None\n",
    "        \n",
    "    def build(self, data, depth=0):\n",
    "        \"\"\"\n",
    "        Build the k-d tree from the given data.\n",
    "        Implementation inspired by https://en.wikipedia.org/wiki/K-d_tree\n",
    "        \n",
    "        Arguments:\n",
    "        data -- (numpy.ndarray) a 2D array where each row is a point in space\n",
    "        depth -- (int) this can be ignored, for internal bookkeeping (default: 0)\n",
    "        \"\"\"\n",
    "        nrows = data.shape[0]\n",
    "        self.dim = depth % data.shape[1]\n",
    "        self.data = data\n",
    "        \n",
    "        self.location = np.median(data[:,self.dim])\n",
    "        # above, or just data[nrows//2,dim] after sorting\n",
    "        # although this one will average if there's a tie.\n",
    "        \n",
    "        if nrows == 1:\n",
    "            return\n",
    "        \n",
    "        data = data[np.argsort(data[:,self.dim])]\n",
    "        \n",
    "        self.leftSubTree = KDTree()\n",
    "        self.leftSubTree.build(data[:nrows//2], depth+1)\n",
    "        \n",
    "        self.rightSubTree = KDTree()\n",
    "        self.rightSubTree.build(data[nrows//2:], depth+1)\n",
    "    \n",
    "    def approximateNearestNeighbour(self, query):\n",
    "        \"\"\"\n",
    "        Find the nearest neighbor to the query point.\n",
    "        However, this is just approximate; it finds a point in\n",
    "        the same rectangle, not necessarily the actual nearest neighbour.\n",
    "        This is just for educational purposes; a correct algorithm\n",
    "        exists but it's too messy to put here.\n",
    "        \n",
    "        Arguments:\n",
    "        query -- (numpy.ndarray) a point in space\n",
    "        \"\"\"\n",
    "        if self.data.shape[0] == 1:\n",
    "            return self.data[0]\n",
    "        \n",
    "        if query[self.dim] < self.location:\n",
    "            return self.leftSubTree.approximateNearestNeighbour(query)\n",
    "        else:\n",
    "            return self.rightSubTree.approximateNearestNeighbour(query)\n",
    "    \n",
    "    def plot2d(self, depth=1, minx=0.0, maxx=1.0, miny=0.0, maxy=1.0):\n",
    "        \"\"\"\n",
    "        Plot the k-d tree.\n",
    "        \n",
    "        Arguments:\n",
    "        depth -- (int) how deep to go down the tree when plotting (defult: 0)\n",
    "        minx -- (int) the left   edge of the plot (default: 0.0)\n",
    "        maxx -- (int) the right  edge of the plot (default: 1.0)\n",
    "        miny -- (int) the bottom edge of the plot (default: 0.0)\n",
    "        maxy -- (int) the top    edge of the plot (default: 0.0)\n",
    "        \"\"\"\n",
    "        if depth == 0:\n",
    "            return\n",
    "                \n",
    "        if self.dim == 0:\n",
    "            plt.plot((self.location, self.location), (miny, maxy), 'k');\n",
    "            if self.leftSubTree is not None:\n",
    "                self.leftSubTree.plot2d( depth-1, minx=minx, maxx=self.location, miny=miny, maxy=maxy)\n",
    "            if self.rightSubTree is not None:\n",
    "                self.rightSubTree.plot2d(depth-1, minx=self.location, maxx=maxx, miny=miny, maxy=maxy)\n",
    "        elif self.dim == 1:\n",
    "            plt.plot((minx, maxx), (self.location, self.location), 'k');\n",
    "            if self.leftSubTree is not None:\n",
    "                self.leftSubTree.plot2d( depth-1, minx=minx, maxx=maxx, miny=miny, maxy=self.location)\n",
    "            if self.rightSubTree is not None:\n",
    "                self.rightSubTree.plot2d(depth-1, minx=minx, maxx=maxx, miny=self.location, maxy=maxy)\n"
   ]
  },
  {
   "cell_type": "markdown",
   "metadata": {},
   "source": [
    "Basic idea: \n",
    "- In each recursive step, there is a certain number of datapoints. If there's only one, we're done.\n",
    "- Otherwise, for one of the two dimensions (we alternate back and forth), find the median value along the dimension\n",
    "- Split the data into two subsets based on being above or below that median, and build a (sub)tree for each of those subsets\n",
    "- Starting from the full dataset, you will create a tree where each leaf is a datapoint\n",
    "- You can find an approximate nearest neighbour by tranversing the down the tree using the same decision points as were used to original split the data, the final leaf is the desired neighbour"
   ]
  },
  {
   "cell_type": "code",
   "execution_count": 32,
   "metadata": {},
   "outputs": [],
   "source": [
    "kdt = KDTree()\n",
    "kdt.build(X)"
   ]
  },
  {
   "cell_type": "code",
   "execution_count": 33,
   "metadata": {},
   "outputs": [
    {
     "data": {
      "image/png": "[encoded data removed]",
      "text/plain": [
       "<Figure size 432x288 with 1 Axes>"
      ]
     },
     "metadata": {},
     "output_type": "display_data"
    }
   ],
   "source": [
    "plt.scatter(X[:,0], X[:,1]);\n",
    "kdt.plot2d(depth=1)"
   ]
  },
  {
   "cell_type": "code",
   "execution_count": 35,
   "metadata": {},
   "outputs": [
    {
     "data": {
      "image/png": "[encoded data removed]",
      "text/plain": [
       "<Figure size 432x288 with 1 Axes>"
      ]
     },
     "metadata": {},
     "output_type": "display_data"
    }
   ],
   "source": [
    "plt.scatter(X[:,0], X[:,1]);\n",
    "kdt.plot2d(depth=2)"
   ]
  },
  {
   "cell_type": "code",
   "execution_count": 36,
   "metadata": {},
   "outputs": [
    {
     "data": {
      "image/png": "[encoded data removed]",
      "text/plain": [
       "<Figure size 432x288 with 1 Axes>"
      ]
     },
     "metadata": {},
     "output_type": "display_data"
    }
   ],
   "source": [
    "plt.scatter(X[:,0], X[:,1]);\n",
    "kdt.plot2d(depth=3)"
   ]
  },
  {
   "cell_type": "code",
   "execution_count": 37,
   "metadata": {},
   "outputs": [
    {
     "data": {
      "image/png": "[encoded data removed]",
      "text/plain": [
       "<Figure size 432x288 with 1 Axes>"
      ]
     },
     "metadata": {},
     "output_type": "display_data"
    }
   ],
   "source": [
    "plt.scatter(X[:,0], X[:,1]);\n",
    "kdt.plot2d(depth=4)"
   ]
  },
  {
   "cell_type": "code",
   "execution_count": 38,
   "metadata": {},
   "outputs": [
    {
     "data": {
      "text/plain": [
       "array([0.87638915, 0.89460666])"
      ]
     },
     "execution_count": 38,
     "metadata": {},
     "output_type": "execute_result"
    }
   ],
   "source": [
    "kdt.approximateNearestNeighbour(np.array([1,1]))"
   ]
  },
  {
   "cell_type": "code",
   "execution_count": 39,
   "metadata": {},
   "outputs": [
    {
     "data": {
      "text/plain": [
       "array([0.69187711, 0.31551563])"
      ]
     },
     "execution_count": 39,
     "metadata": {},
     "output_type": "execute_result"
    }
   ],
   "source": [
    "kdt.approximateNearestNeighbour(np.array([0.5,0.5]))"
   ]
  },
  {
   "cell_type": "markdown",
   "metadata": {},
   "source": [
    "- Doesn't work perfectly here, but there is a fast correct algorithm to find the true nearest neighbour\n",
    "- See [`sklearn.neighbors.KDTree`](https://scikit-learn.org/stable/modules/generated/sklearn.neighbors.KDTree.html#sklearn.neighbors.KDTree).\n",
    "- However, $k$-d trees get slow when the number of dimensions is large.\n",
    "- Some alternative methods are discussed below."
   ]
  },
  {
   "cell_type": "markdown",
   "metadata": {},
   "source": [
    "#### Timing experiments"
   ]
  },
  {
   "cell_type": "code",
   "execution_count": 40,
   "metadata": {},
   "outputs": [],
   "source": [
    "from collections import defaultdict\n",
    "import pandas as pd\n",
    "import sklearn.neighbors"
   ]
  },
  {
   "cell_type": "code",
   "execution_count": 43,
   "metadata": {},
   "outputs": [
    {
     "name": "stdout",
     "output_type": "stream",
     "text": [
      "n:  100\n",
      "  KDTree\n",
      "  Brute force\n",
      "n:  1000\n",
      "  KDTree\n",
      "  Brute force\n",
      "n:  10000\n",
      "  KDTree\n",
      "  Brute force\n",
      "n:  100000\n",
      "  KDTree\n",
      "  Brute force\n"
     ]
    }
   ],
   "source": [
    "n_sizes = [100, 1000, 10000, 100000]\n",
    "\n",
    "results = defaultdict(list)\n",
    "results[\"n\"] = n_sizes\n",
    "\n",
    "d = 10\n",
    "\n",
    "for n in n_sizes:\n",
    "    print('n: ', n) \n",
    "    X = np.random.rand(n, d)\n",
    "    query = np.random.rand(1, d)\n",
    "    \n",
    "    print(\"  KDTree\")\n",
    "    time = %timeit -q -o -r 3 sklearn.neighbors.KDTree(X)\n",
    "    results[\"KDTree init\"].append(time.average)\n",
    "    KDT = sklearn.neighbors.KDTree(X)\n",
    "\n",
    "    time = %timeit -q -o -r 3 KDT.query(query)\n",
    "    results[\"KDTree query\"].append(time.average)\n",
    "\n",
    "    print(\"  Brute force\")\n",
    "    time = %timeit -q -o -r 3 nearest_neighbour(X, query)\n",
    "    results[\"Brute force\"].append(time.average)\n"
   ]
  },
  {
   "cell_type": "code",
   "execution_count": 44,
   "metadata": {},
   "outputs": [
    {
     "data": {
      "text/html": [
       "<div>\n",
       "<style scoped>\n",
       "    .dataframe tbody tr th:only-of-type {\n",
       "        vertical-align: middle;\n",
       "    }\n",
       "\n",
       "    .dataframe tbody tr th {\n",
       "        vertical-align: top;\n",
       "    }\n",
       "\n",
       "    .dataframe thead th {\n",
       "        text-align: right;\n",
       "    }\n",
       "</style>\n",
       "<table border=\"1\" class=\"dataframe\">\n",
       "  <thead>\n",
       "    <tr style=\"text-align: right;\">\n",
       "      <th></th>\n",
       "      <th>n</th>\n",
       "      <th>KDTree init</th>\n",
       "      <th>KDTree query</th>\n",
       "      <th>Brute force</th>\n",
       "    </tr>\n",
       "  </thead>\n",
       "  <tbody>\n",
       "    <tr>\n",
       "      <th>0</th>\n",
       "      <td>100</td>\n",
       "      <td>0.000057</td>\n",
       "      <td>0.000044</td>\n",
       "      <td>0.000015</td>\n",
       "    </tr>\n",
       "    <tr>\n",
       "      <th>1</th>\n",
       "      <td>1000</td>\n",
       "      <td>0.000519</td>\n",
       "      <td>0.000061</td>\n",
       "      <td>0.000085</td>\n",
       "    </tr>\n",
       "    <tr>\n",
       "      <th>2</th>\n",
       "      <td>10000</td>\n",
       "      <td>0.008075</td>\n",
       "      <td>0.000117</td>\n",
       "      <td>0.000974</td>\n",
       "    </tr>\n",
       "    <tr>\n",
       "      <th>3</th>\n",
       "      <td>100000</td>\n",
       "      <td>0.152193</td>\n",
       "      <td>0.000157</td>\n",
       "      <td>0.018892</td>\n",
       "    </tr>\n",
       "  </tbody>\n",
       "</table>\n",
       "</div>"
      ],
      "text/plain": [
       "        n  KDTree init  KDTree query  Brute force\n",
       "0     100     0.000057      0.000044     0.000015\n",
       "1    1000     0.000519      0.000061     0.000085\n",
       "2   10000     0.008075      0.000117     0.000974\n",
       "3  100000     0.152193      0.000157     0.018892"
      ]
     },
     "execution_count": 44,
     "metadata": {},
     "output_type": "execute_result"
    }
   ],
   "source": [
    "df = pd.DataFrame(results, columns=list(results.keys()))\n",
    "df"
   ]
  },
  {
   "cell_type": "markdown",
   "metadata": {},
   "source": [
    "**Question:** what does the time complexity look like for the 3 columns?"
   ]
  },
  {
   "cell_type": "markdown",
   "metadata": {},
   "source": [
    "**Answer:** <span style=\"background-color:black;\"> brute force looks linear, the query looks logarithmic(?), the initialization grows _faster than linear_, perhaps $O(n \\log n)$ or perhaps something else, we won't worry about that here. </span>"
   ]
  },
  {
   "cell_type": "markdown",
   "metadata": {},
   "source": [
    "**Question:** which is better, the $k$-d tree or brute force?"
   ]
  },
  {
   "cell_type": "markdown",
   "metadata": {},
   "source": [
    "**Answer:** <span style=\"background-color:black;\">it depends how many queries you do.</span>"
   ]
  },
  {
   "cell_type": "markdown",
   "metadata": {},
   "source": [
    "## Amortization"
   ]
  },
  {
   "cell_type": "markdown",
   "metadata": {},
   "source": [
    "Let's focus on $n=10000$, and $d=10$. Then,\n",
    "\n",
    "- $k$-d tree initialization takes $\\approx 8$ ms\n",
    "- $k$-d tree query takes $\\approx 0.1$ ms\n",
    "- brute force search takes $\\approx 1$ ms\n",
    "\n",
    "**Question:** How many queries do we need to do such that the $k$-d tree is better?"
   ]
  },
  {
   "cell_type": "markdown",
   "metadata": {},
   "source": [
    "**Answer:** <span style=\"background-color:black;\"> around 9. </span>\n",
    "\n",
    "- So if we're doing 100 queries, the $k$-d tree is much better.\n",
    "- This reflects a general phenomenon in algorithms: _doing a lot of work up front to save time later_.\n",
    "- We say the up-front effort is _amortized_ (or spread out) over the many queries.\n",
    "- In some cases, we can make more precise calculations.\n",
    "  - For example, we say hash table operations are $O(1)$.\n",
    "  - In fact, once in a while a slower operation must be done.\n",
    "  - However, we can show that an $O(n)$ operation only needs to be done every $1/n$ steps.\n",
    "  - In which case we say the cost is amortized and the overall cost is still $O(1)$. "
   ]
  },
  {
   "cell_type": "markdown",
   "metadata": {},
   "source": [
    "## True/False questions"
   ]
  },
  {
   "cell_type": "markdown",
   "metadata": {},
   "source": [
    "1. A `TreasureBox` contains a copy of itself.\n",
    "2. If you have a `TreasureBox` with $n$ items, adding a new `TreasureBox` inside of all the others is $O(n)$.\n",
    "3. A tree is similar to the `TreasureBox`, except that you can have multiple treasure boxes inside each treasure box.\n",
    "4. A binary tree of height 4 can have at most 8 leaves. \n",
    "5. A binary search tree would be an appropriate data structure to store the military org chart above."
   ]
  },
  {
   "cell_type": "markdown",
   "metadata": {},
   "source": [
    "#### Round 2"
   ]
  },
  {
   "cell_type": "markdown",
   "metadata": {},
   "source": [
    "1. Computing the (Euclidean) distance between two points in $d$ dimensions takes $O(d)$ time.\n",
    "2. To find the nearest neighbour of a query point within a dataset, we must search through all $n$ points in the dataset.\n",
    "3. After a $k$-d tree partitions the space, the nearest neighbour to a query point will be in the same partition (region) as the query point.\n",
    "4. The more times you try to find nearest neighbours within the same dataset, the more advantagous the $k$-d tree becomes (vs. brute force)."
   ]
  }
 ],
 "metadata": {
  "kernelspec": {
   "display_name": "Python 3",
   "language": "python",
   "name": "python3"
  },
  "language_info": {
   "codemirror_mode": {
    "name": "ipython",
    "version": 3
   },
   "file_extension": ".py",
   "mimetype": "text/x-python",
   "name": "python",
   "nbconvert_exporter": "python",
   "pygments_lexer": "ipython3",
   "version": "3.6.5"
  }
 },
 "nbformat": 4,
 "nbformat_minor": 4
}
