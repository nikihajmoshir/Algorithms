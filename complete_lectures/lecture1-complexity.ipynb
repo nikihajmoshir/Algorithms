{
 "cells": [
  {
   "cell_type": "markdown",
   "metadata": {},
   "source": [
    "# DSCI 512 Lecture 1: Complexity\n",
    "\n",
    "- Code demos \n",
    "- Time complexity \n",
    "- Big O\n",
    "- Space complexity\n",
    "- True/False questions"
   ]
  },
  {
   "cell_type": "markdown",
   "metadata": {},
   "source": [
    "## Code demos"
   ]
  },
  {
   "cell_type": "markdown",
   "metadata": {},
   "source": [
    "#### Demo 1: searching (list vs. set)\n",
    "\n",
    "- Is a certain value present in a collection of items?"
   ]
  },
  {
   "cell_type": "code",
   "execution_count": 4,
   "metadata": {},
   "outputs": [],
   "source": [
    "n = 10000000\n",
    "x = list(range(n))"
   ]
  },
  {
   "cell_type": "code",
   "execution_count": 5,
   "metadata": {},
   "outputs": [
    {
     "data": {
      "text/plain": [
       "False"
      ]
     },
     "execution_count": 5,
     "metadata": {},
     "output_type": "execute_result"
    }
   ],
   "source": [
    "-1 in x"
   ]
  },
  {
   "cell_type": "code",
   "execution_count": 6,
   "metadata": {},
   "outputs": [
    {
     "name": "stdout",
     "output_type": "stream",
     "text": [
      "103 ms ± 3.73 ms per loop (mean ± std. dev. of 7 runs, 10 loops each)\n"
     ]
    }
   ],
   "source": [
    "%timeit (-1 in x)"
   ]
  },
  {
   "cell_type": "code",
   "execution_count": 90,
   "metadata": {},
   "outputs": [],
   "source": [
    "x = set(range(n))"
   ]
  },
  {
   "cell_type": "code",
   "execution_count": 91,
   "metadata": {},
   "outputs": [
    {
     "data": {
      "text/plain": [
       "False"
      ]
     },
     "execution_count": 91,
     "metadata": {},
     "output_type": "execute_result"
    }
   ],
   "source": [
    "-1 in x"
   ]
  },
  {
   "cell_type": "code",
   "execution_count": 92,
   "metadata": {},
   "outputs": [
    {
     "name": "stdout",
     "output_type": "stream",
     "text": [
      "39.2 ns ± 2.25 ns per loop (mean ± std. dev. of 7 runs, 10000000 loops each)\n"
     ]
    }
   ],
   "source": [
    "%timeit (-1 in x)"
   ]
  },
  {
   "cell_type": "markdown",
   "metadata": {},
   "source": [
    "How could I have predicted this outcome?"
   ]
  },
  {
   "cell_type": "markdown",
   "metadata": {},
   "source": [
    "Note: we were cheating a little bit, because _creating_ the set takes longer than creating the list. However, as we can see, it's still fast."
   ]
  },
  {
   "cell_type": "markdown",
   "metadata": {},
   "source": [
    "#### Demo 2: sorting (insertion vs. quick)"
   ]
  },
  {
   "cell_type": "code",
   "execution_count": 7,
   "metadata": {},
   "outputs": [],
   "source": [
    "n = 10000\n",
    "x = list(range(n))"
   ]
  },
  {
   "cell_type": "code",
   "execution_count": 8,
   "metadata": {},
   "outputs": [
    {
     "ename": "NameError",
     "evalue": "name 'np' is not defined",
     "output_type": "error",
     "traceback": [
      "\u001b[0;31m---------------------------------------------------------------------------\u001b[0m",
      "\u001b[0;31mNameError\u001b[0m                                 Traceback (most recent call last)",
      "\u001b[0;32m<ipython-input-8-3ca5a81e845c>\u001b[0m in \u001b[0;36m<module>\u001b[0;34m\u001b[0m\n\u001b[0;32m----> 1\u001b[0;31m \u001b[0mnp\u001b[0m\u001b[0;34m.\u001b[0m\u001b[0mrandom\u001b[0m\u001b[0;34m.\u001b[0m\u001b[0mshuffle\u001b[0m\u001b[0;34m(\u001b[0m\u001b[0mx\u001b[0m\u001b[0;34m)\u001b[0m\u001b[0;34m\u001b[0m\u001b[0;34m\u001b[0m\u001b[0m\n\u001b[0m",
      "\u001b[0;31mNameError\u001b[0m: name 'np' is not defined"
     ]
    }
   ],
   "source": [
    "np.random.shuffle(x)"
   ]
  },
  {
   "cell_type": "code",
   "execution_count": 9,
   "metadata": {},
   "outputs": [
    {
     "data": {
      "text/plain": [
       "[0, 1, 2, 3, 4, 5, 6, 7, 8, 9]"
      ]
     },
     "execution_count": 9,
     "metadata": {},
     "output_type": "execute_result"
    }
   ],
   "source": [
    "x[:10]"
   ]
  },
  {
   "cell_type": "code",
   "execution_count": 96,
   "metadata": {},
   "outputs": [],
   "source": [
    "# We will revisit this code next lecture\n",
    "\n",
    "def insertion_sort(x):\n",
    "    '''sorts x by iterative finding the smallest value and moving it to the front of the list'''\n",
    "    n = len(x)\n",
    "    for i in range(n):\n",
    "        # Get the index of the smallest value from location i onward\n",
    "        min_ind = i\n",
    "        for j in range(i+1, n):\n",
    "            if x[j] < x[min_ind]:\n",
    "                min_ind = j\n",
    "        # move it to i\n",
    "        x[i], x[min_ind] = x[min_ind], x[i]\n",
    "    return x"
   ]
  },
  {
   "cell_type": "code",
   "execution_count": 97,
   "metadata": {},
   "outputs": [
    {
     "data": {
      "text/plain": [
       "[0, 1, 2, 3, 4, 5, 6, 7, 8, 9]"
      ]
     },
     "execution_count": 97,
     "metadata": {},
     "output_type": "execute_result"
    }
   ],
   "source": [
    "insertion_sort(x)\n",
    "x[:10]"
   ]
  },
  {
   "cell_type": "code",
   "execution_count": 98,
   "metadata": {},
   "outputs": [
    {
     "name": "stdout",
     "output_type": "stream",
     "text": [
      "4.06 s ± 0 ns per loop (mean ± std. dev. of 1 run, 1 loop each)\n"
     ]
    }
   ],
   "source": [
    "np.random.shuffle(x)\n",
    "%timeit -r1 -n1 insertion_sort(x)"
   ]
  },
  {
   "cell_type": "code",
   "execution_count": 99,
   "metadata": {},
   "outputs": [],
   "source": [
    "np.random.shuffle(x)\n",
    "x.sort()"
   ]
  },
  {
   "cell_type": "code",
   "execution_count": 100,
   "metadata": {},
   "outputs": [
    {
     "data": {
      "text/plain": [
       "[0, 1, 2, 3, 4, 5, 6, 7, 8, 9]"
      ]
     },
     "execution_count": 100,
     "metadata": {},
     "output_type": "execute_result"
    }
   ],
   "source": [
    "x[:10]"
   ]
  },
  {
   "cell_type": "code",
   "execution_count": 101,
   "metadata": {},
   "outputs": [
    {
     "name": "stdout",
     "output_type": "stream",
     "text": [
      "2.44 ms ± 0 ns per loop (mean ± std. dev. of 1 run, 1 loop each)\n"
     ]
    }
   ],
   "source": [
    "np.random.shuffle(x)\n",
    "%timeit -r1 -n1 x.sort()"
   ]
  },
  {
   "cell_type": "markdown",
   "metadata": {},
   "source": [
    "How could I have predicted this outcome?"
   ]
  },
  {
   "cell_type": "markdown",
   "metadata": {},
   "source": [
    "#### Demo 3: batch operations (loop vs. vectorized)"
   ]
  },
  {
   "cell_type": "code",
   "execution_count": 102,
   "metadata": {},
   "outputs": [],
   "source": [
    "n = 10000000\n",
    "x = np.random.rand(n)\n",
    "y = np.zeros(n)"
   ]
  },
  {
   "cell_type": "code",
   "execution_count": 103,
   "metadata": {},
   "outputs": [
    {
     "data": {
      "text/plain": [
       "array([0.51522312, 0.90093835, 0.87627316, 0.54391901, 0.31663761,\n",
       "       0.26942198, 0.44498055, 0.39775507, 0.78244389, 0.73732709])"
      ]
     },
     "execution_count": 103,
     "metadata": {},
     "output_type": "execute_result"
    }
   ],
   "source": [
    "x[:10]"
   ]
  },
  {
   "cell_type": "code",
   "execution_count": 104,
   "metadata": {},
   "outputs": [
    {
     "data": {
      "text/plain": [
       "array([0., 0., 0., 0., 0., 0., 0., 0., 0., 0.])"
      ]
     },
     "execution_count": 104,
     "metadata": {},
     "output_type": "execute_result"
    }
   ],
   "source": [
    "y[:10]"
   ]
  },
  {
   "cell_type": "code",
   "execution_count": 105,
   "metadata": {},
   "outputs": [],
   "source": [
    "for i in range(n):\n",
    "    y[i] = x[i] * 2"
   ]
  },
  {
   "cell_type": "code",
   "execution_count": 106,
   "metadata": {
    "scrolled": true
   },
   "outputs": [
    {
     "data": {
      "text/plain": [
       "array([1.03044625, 1.8018767 , 1.75254632, 1.08783802, 0.63327521,\n",
       "       0.53884397, 0.88996111, 0.79551015, 1.56488778, 1.47465419])"
      ]
     },
     "execution_count": 106,
     "metadata": {},
     "output_type": "execute_result"
    }
   ],
   "source": [
    "y[:10]"
   ]
  },
  {
   "cell_type": "code",
   "execution_count": 107,
   "metadata": {},
   "outputs": [
    {
     "name": "stdout",
     "output_type": "stream",
     "text": [
      "4.03 s ± 0 ns per loop (mean ± std. dev. of 1 run, 1 loop each)\n"
     ]
    }
   ],
   "source": [
    "%%timeit -r1 -n1\n",
    "for i in range(n):\n",
    "    y[i] = x[i] * 2"
   ]
  },
  {
   "cell_type": "code",
   "execution_count": 108,
   "metadata": {},
   "outputs": [],
   "source": [
    "y = np.zeros(n)"
   ]
  },
  {
   "cell_type": "code",
   "execution_count": 109,
   "metadata": {},
   "outputs": [],
   "source": [
    "y = x * 2"
   ]
  },
  {
   "cell_type": "code",
   "execution_count": 110,
   "metadata": {},
   "outputs": [
    {
     "data": {
      "text/plain": [
       "array([1.03044625, 1.8018767 , 1.75254632, 1.08783802, 0.63327521,\n",
       "       0.53884397, 0.88996111, 0.79551015, 1.56488778, 1.47465419])"
      ]
     },
     "execution_count": 110,
     "metadata": {},
     "output_type": "execute_result"
    }
   ],
   "source": [
    "y[:10]"
   ]
  },
  {
   "cell_type": "code",
   "execution_count": 111,
   "metadata": {},
   "outputs": [
    {
     "name": "stdout",
     "output_type": "stream",
     "text": [
      "37.3 ms ± 0 ns per loop (mean ± std. dev. of 1 run, 1 loop each)\n"
     ]
    }
   ],
   "source": [
    "%timeit -r1 -n1 y = x * 2"
   ]
  },
  {
   "cell_type": "markdown",
   "metadata": {},
   "source": [
    "- How could I have predicted this outcome?"
   ]
  },
  {
   "cell_type": "markdown",
   "metadata": {},
   "source": [
    "## Time complexity"
   ]
  },
  {
   "cell_type": "markdown",
   "metadata": {},
   "source": [
    "- There are many factors here, one of them is the *complexity* of the algorithm\n",
    "- We need a language for talking about how fast an algorithm is, in terms of the input size $n$.\n",
    "- For now, let's ask ourselves: \"if we double $n$, what happens to the number of steps?\""
   ]
  },
  {
   "cell_type": "markdown",
   "metadata": {},
   "source": [
    "#### Examples from the above demos\n",
    "\n",
    "For each of the following, what happens to the runtime if we double $n$?\n",
    "\n",
    "- Finding whether a number is in a list.\n",
    "- Finding whether a number is in a set.\n",
    "- Sorting with my code.\n",
    "- Sorting with `sort`.\n",
    "- Doubling with a loop.\n",
    "- Doubling with numpy.\n",
    "  \n"
   ]
  },
  {
   "cell_type": "markdown",
   "metadata": {},
   "source": [
    "## Big O\n",
    "\n",
    "- We will formalize time complexity using _Big O notation_. \n",
    "  - In addition to $O$, there is also $o$, $\\omega$, $\\Omega$, $\\theta$, $\\Theta$, and more. But Big O is the most common and we'll only discuss Big O.\n",
    "  - We will not go into the mathematical details but if you're interested, you can read about it online (e.g. the [Wikipedia article](https://en.wikipedia.org/wiki/Big_O_notation)).\n",
    "- The Big O tells us the **approximate number of steps** an algorithm performs **as a function of the input size** (i.e. $n$ above).\n"
   ]
  },
  {
   "cell_type": "markdown",
   "metadata": {},
   "source": [
    "#### Common runtimes\n",
    "\n",
    "- For example, if doubling $n$ causing the runtime to change 4x, then we say the complexity is $O(n^2)$\n",
    "  - The function $f(n)=n^2$ has the property that $f(2n)=4f(n)$\n",
    "\n",
    "\n",
    "| Big O  &nbsp; &nbsp; &nbsp; &nbsp; &nbsp; &nbsp; &nbsp; &nbsp; &nbsp; &nbsp;&nbsp; &nbsp; &nbsp; &nbsp; &nbsp; &nbsp; &nbsp;  &nbsp; &nbsp; &nbsp;&nbsp; &nbsp; &nbsp; &nbsp; &nbsp; &nbsp; |  name  | change in runtime if I double $n$? |\n",
    "|-------|--------|-------|\n",
    "| $O(1)$ | constant | same |\n",
    "| $O(\\log n)$ | logarithmic | increased by a constant |\n",
    "| $O(n)$ | linear | 2x | \n",
    "| $O(n \\log n)$ | linearithmic | roughly 2x | \n",
    "| $O(n^2)$ | quadratic | 4x |\n",
    "| $O(n^3)$ | cubic | 8x |\n",
    "| $O(n^k)$ | polynomial | increase by a factor of $2^k$ | \n",
    "| $O(2^n)$ | exponential | squared |\n",
    "\n",
    "- The exponential case is so bad that we just use the same name, \"exponential\" for a lot of cases, like $O(3^n),O(k^n),O(n!)$, etc\n",
    "- For $O(2^n)$, increasing $n$ by 1 causes the runtime to double!"
   ]
  },
  {
   "cell_type": "markdown",
   "metadata": {},
   "source": [
    "#### Back to the examples from earlier\n",
    "\n",
    "For each of the following, what is the time complexity in Big O notation?\n",
    "\n",
    "- Finding whether a number is in a list: <span style=\"background-color:black;\"> $O(n)$ </span>\n",
    "- Finding whether a number is in a set: <span style=\"background-color:black;\"> $O(1)$ </span>\n",
    "- Sorting with my code:<span style=\"background-color:black;\"> $O(n^2)$ </span>\n",
    "- Sorting with `sort`:<span style=\"background-color:black;\"> $O(n \\log n)$ </span>\n",
    "- Doubling with a loop: <span style=\"background-color:black;\">  $O(n)$ </span>\n",
    "- Doubling with numpy: <span style=\"background-color:black;\">$O(n)$ </span>\n",
    "  "
   ]
  },
  {
   "cell_type": "markdown",
   "metadata": {},
   "source": [
    "#### Plotting runtimes"
   ]
  },
  {
   "cell_type": "code",
   "execution_count": 114,
   "metadata": {},
   "outputs": [
    {
     "data": {
      "image/png": "[encoded data removed]",
      "text/plain": [
       "<Figure size 432x288 with 1 Axes>"
      ]
     },
     "metadata": {
      "needs_background": "light"
     },
     "output_type": "display_data"
    }
   ],
   "source": [
    "n = np.arange(1,30)\n",
    "plt.plot(n, 0*n+1, label=\"$O(1)$\")\n",
    "plt.plot(n, np.log(n), label=\"$O(\\log n))$\")\n",
    "plt.plot(n, n, label=\"$O(n)$\")\n",
    "plt.plot(n, n*np.log(n), label=\"$O(n \\log n)$\")\n",
    "plt.plot(n, n**2., label=\"$O(n^2)$\")\n",
    "plt.plot(n, n**3., label=\"$O(n^3)$\")\n",
    "plt.plot(n, 2.**n, label=\"$O(2^n)$\")\n",
    "plt.ylim(0,100)\n",
    "plt.xlabel('$n$')\n",
    "plt.ylabel('$f(n)$')\n",
    "plt.legend();"
   ]
  },
  {
   "cell_type": "markdown",
   "metadata": {},
   "source": [
    "It is also common to look at log-log plots:"
   ]
  },
  {
   "cell_type": "code",
   "execution_count": 115,
   "metadata": {},
   "outputs": [
    {
     "data": {
      "image/png": "[encoded data removed]",
      "text/plain": [
       "<Figure size 432x288 with 1 Axes>"
      ]
     },
     "metadata": {
      "needs_background": "light"
     },
     "output_type": "display_data"
    }
   ],
   "source": [
    "n = 10.0**np.arange(1,3,0.1)\n",
    "plt.loglog(n, 0*n+1, label=\"$O(1)$\")\n",
    "plt.loglog(n, np.log(n), label=\"$O(\\log n))$\")\n",
    "plt.loglog(n, n, label=\"$O(n)$\")\n",
    "plt.loglog(n, n*np.log(n), label=\"$O(n \\log n)$\")\n",
    "plt.loglog(n, n**2., label=\"$O(n^2)$\")\n",
    "plt.loglog(n, n**3., label=\"$O(n^3)$\")\n",
    "plt.loglog(n, 2.**n, label=\"$O(2^n)$\")\n",
    "plt.xlabel('$n$')\n",
    "plt.ylabel('$f(n)$')\n",
    "plt.legend();"
   ]
  },
  {
   "cell_type": "markdown",
   "metadata": {},
   "source": [
    "Above: exponential is _BAD_! Removing that curve..."
   ]
  },
  {
   "cell_type": "code",
   "execution_count": 116,
   "metadata": {},
   "outputs": [
    {
     "data": {
      "image/png": "[encoded data removed]",
      "text/plain": [
       "<Figure size 432x288 with 1 Axes>"
      ]
     },
     "metadata": {
      "needs_background": "light"
     },
     "output_type": "display_data"
    }
   ],
   "source": [
    "n = 10.0**np.arange(1,3,0.1)\n",
    "plt.loglog(n, 0*n+1, label=\"$O(1)$\")\n",
    "plt.loglog(n, np.log(n), label=\"$O(\\log n))$\")\n",
    "plt.loglog(n, n, label=\"$O(n)$\")\n",
    "plt.loglog(n, n*np.log(n), label=\"$O(n \\log n)$\")\n",
    "plt.loglog(n, n**2., label=\"$O(n^2)$\")\n",
    "plt.loglog(n, n**3., label=\"$O(n^3)$\")\n",
    "# plt.loglog(n, 2.**n, label=\"$O(2^n)$\")\n",
    "plt.xlabel('$n$')\n",
    "plt.ylabel('$f(n)$')\n",
    "plt.legend();"
   ]
  },
  {
   "cell_type": "markdown",
   "metadata": {},
   "source": [
    "In log-log plots, polynomials turn into straight lines, with slope equal to the exponent."
   ]
  },
  {
   "cell_type": "markdown",
   "metadata": {},
   "source": [
    "#### Constant factors are not included in Big-O\n",
    "\n",
    "- In Big O notation, we ignore constants.\n",
    "  - If an algorithm takes $2n + 1$ steps, we write $O(n)$, not $O(2n + 1$).\n",
    "  - We're interested in the big picture, not the details.\n",
    "- This can be misleading at times.\n",
    "  - Is code that runs in $O(\\log n)$ time faster than code that runs in $O(n)$ time?\n",
    "  - Not always! It depends on the constants.\n",
    "  - You will see an example of this phenomenon in lab 2.\n",
    "- What affects the Big O?\n",
    "  - Typically, just the algorithm.\n",
    "- What affects the constant?\n",
    "  - The algorithm.\n",
    "    - Does it take $n$ steps or $2n$ steps or $100000n$ steps?\n",
    "    - How complicated is each step?\n",
    "  - The _implementation_.\n",
    "    - How fast is your programming language?\n",
    "    - How fast are your libraries (e.g. Numpy)?\n",
    "    - How fast is your laptop?\n",
    "    - Is there an opportunity for parallel computation?\n",
    "- The implementation issues are quite complicated. You may need to experiment!\n",
    "\n",
    "#### What if the number of steps depends on the kind of input rather than just its size?\n",
    "\n",
    "- We'll see some examples of this later in the course\n",
    "- Usually Big O is an upper bound: generally, think of the worse case scenario"
   ]
  },
  {
   "cell_type": "markdown",
   "metadata": {},
   "source": [
    "## Space complexity"
   ]
  },
  {
   "cell_type": "markdown",
   "metadata": {},
   "source": [
    "- If code takes too long to run, that might be a problem.\n",
    "- Another possible problem is running out of memory.\n",
    "  - Note: this is NOT the same as \"disk space\"."
   ]
  },
  {
   "cell_type": "code",
   "execution_count": 30,
   "metadata": {},
   "outputs": [
    {
     "data": {
      "text/plain": [
       "svmem(total=17033633792, available=8197791744, percent=51.9, used=8835842048, free=8197791744)"
      ]
     },
     "execution_count": 30,
     "metadata": {},
     "output_type": "execute_result"
    }
   ],
   "source": [
    "import psutil\n",
    "psutil.virtual_memory()"
   ]
  },
  {
   "cell_type": "markdown",
   "metadata": {},
   "source": [
    "- Apparently I have about 16 GB of RAM.\n",
    "- A number typically takes up 8 bytes, so I can store around 2 billion numbers.\n",
    "  - Actually less, because I have other stuff going on, not just Python.\n",
    "  - Plus, there's overhead from within Python.\n",
    "- If my code needs to store 2 billion numbers _at the same time_, I can't run it on my laptop. \n",
    "- We also analyze space complexity using Big O notation."
   ]
  },
  {
   "cell_type": "markdown",
   "metadata": {},
   "source": [
    "\n",
    "- With _time complexity_, we tend to think more about the _algorithms_.\n",
    "- With _space complexity_, we tend to think more about the _data structures_.\n",
    "\n",
    "Example 1:\n",
    "\n",
    "```python\n",
    "x = np.zeros(5)\n",
    "```\n"
   ]
  },
  {
   "cell_type": "markdown",
   "metadata": {},
   "source": [
    "Space complexity: <span style=\"background-color:black;\">$O(1)$</span>"
   ]
  },
  {
   "cell_type": "markdown",
   "metadata": {},
   "source": [
    "Example 2:\n",
    "\n",
    "```python\n",
    "x = np.zeros(n)\n",
    "```"
   ]
  },
  {
   "cell_type": "markdown",
   "metadata": {},
   "source": [
    "Space complexity: <span style=\"background-color:black;\">$O(n)$</span>"
   ]
  },
  {
   "cell_type": "markdown",
   "metadata": {},
   "source": [
    "Example 3:\n",
    "\n",
    "```python\n",
    "x = np.zeros((n,n))\n",
    "```"
   ]
  },
  {
   "cell_type": "markdown",
   "metadata": {},
   "source": [
    "Space complexity: <span style=\"background-color:black;\">$O(n^2)$</span>"
   ]
  },
  {
   "cell_type": "markdown",
   "metadata": {},
   "source": [
    "Example 4:\n",
    "\n",
    "```python\n",
    "x = zeros((n,n,5))\n",
    "```"
   ]
  },
  {
   "cell_type": "markdown",
   "metadata": {},
   "source": [
    "Space complexity: <span style=\"background-color:black;\">$O(n^2)$</span>"
   ]
  },
  {
   "cell_type": "markdown",
   "metadata": {},
   "source": [
    "Example 5:\n",
    "\n",
    "```python\n",
    "x = zeros((n,n,n))\n",
    "```"
   ]
  },
  {
   "cell_type": "markdown",
   "metadata": {},
   "source": [
    "Space complexity: <span style=\"background-color:black;\">$O(n^3)$</span>"
   ]
  },
  {
   "cell_type": "markdown",
   "metadata": {},
   "source": [
    "Example 6: \n",
    "\n",
    "You have $n$ users on your social network site, and you want to store a \"level of friendship\" between every pair of users."
   ]
  },
  {
   "cell_type": "markdown",
   "metadata": {},
   "source": [
    "Space complexity: <span style=\"background-color:black;\">$O(n^2)$</span>"
   ]
  },
  {
   "cell_type": "markdown",
   "metadata": {},
   "source": [
    "Example 7:\n",
    "\n",
    "You have $n$ users on your social network site, and you want to store who is friends with who."
   ]
  },
  {
   "cell_type": "markdown",
   "metadata": {},
   "source": [
    "Space complexity: <span style=\"background-color:black;\">it depends! If each user only has a constant (independent of $n$) number of friends, then $O(n)$. But in the worst case it could be $O(n^2)$.</span>"
   ]
  },
  {
   "cell_type": "markdown",
   "metadata": {},
   "source": [
    "So, can we check how much space a particular python object is taking up in memory? Yup, with sys.getsizeof. Let's check the size of some basic Python datatypes."
   ]
  },
  {
   "cell_type": "code",
   "execution_count": 33,
   "metadata": {},
   "outputs": [],
   "source": [
    "from sys import getsizeof"
   ]
  },
  {
   "cell_type": "code",
   "execution_count": 36,
   "metadata": {},
   "outputs": [
    {
     "data": {
      "text/plain": [
       "28"
      ]
     },
     "execution_count": 36,
     "metadata": {},
     "output_type": "execute_result"
    }
   ],
   "source": [
    "getsizeof(100)"
   ]
  },
  {
   "cell_type": "code",
   "execution_count": 35,
   "metadata": {},
   "outputs": [
    {
     "data": {
      "text/plain": [
       "24"
      ]
     },
     "execution_count": 35,
     "metadata": {},
     "output_type": "execute_result"
    }
   ],
   "source": [
    "getsizeof(1.5)"
   ]
  },
  {
   "cell_type": "code",
   "execution_count": 37,
   "metadata": {},
   "outputs": [
    {
     "data": {
      "text/plain": [
       "54"
      ]
     },
     "execution_count": 37,
     "metadata": {},
     "output_type": "execute_result"
    }
   ],
   "source": [
    "getsizeof(\"hello\")"
   ]
  },
  {
   "cell_type": "code",
   "execution_count": 38,
   "metadata": {},
   "outputs": [
    {
     "data": {
      "text/plain": [
       "60"
      ]
     },
     "execution_count": 38,
     "metadata": {},
     "output_type": "execute_result"
    }
   ],
   "source": [
    "getsizeof(\"hello world\")"
   ]
  },
  {
   "cell_type": "code",
   "execution_count": 39,
   "metadata": {},
   "outputs": [
    {
     "data": {
      "text/plain": [
       "49"
      ]
     },
     "execution_count": 39,
     "metadata": {},
     "output_type": "execute_result"
    }
   ],
   "source": [
    "getsizeof(\"\")"
   ]
  },
  {
   "cell_type": "markdown",
   "metadata": {},
   "source": [
    "Since everything in Python is actually a full-fledged object, there's a surprising amount of basic overhead for even basic datatypes. One reason to prefer data structures like numpy arrays is that they eliminate much of this overhead.\n",
    "\n",
    "Now let's look at lists."
   ]
  },
  {
   "cell_type": "code",
   "execution_count": 40,
   "metadata": {},
   "outputs": [
    {
     "data": {
      "text/plain": [
       "64"
      ]
     },
     "execution_count": 40,
     "metadata": {},
     "output_type": "execute_result"
    }
   ],
   "source": [
    "getsizeof([])"
   ]
  },
  {
   "cell_type": "code",
   "execution_count": 44,
   "metadata": {},
   "outputs": [
    {
     "data": {
      "text/plain": [
       "72"
      ]
     },
     "execution_count": 44,
     "metadata": {},
     "output_type": "execute_result"
    }
   ],
   "source": [
    "getsizeof([1])"
   ]
  },
  {
   "cell_type": "code",
   "execution_count": 41,
   "metadata": {},
   "outputs": [
    {
     "data": {
      "text/plain": [
       "80"
      ]
     },
     "execution_count": 41,
     "metadata": {},
     "output_type": "execute_result"
    }
   ],
   "source": [
    "getsizeof([1,2])"
   ]
  },
  {
   "cell_type": "code",
   "execution_count": 42,
   "metadata": {},
   "outputs": [
    {
     "data": {
      "text/plain": [
       "80"
      ]
     },
     "execution_count": 42,
     "metadata": {},
     "output_type": "execute_result"
    }
   ],
   "source": [
    "getsizeof([\"hello\",\"goodbye\"])"
   ]
  },
  {
   "cell_type": "code",
   "execution_count": 43,
   "metadata": {},
   "outputs": [
    {
     "data": {
      "text/plain": [
       "80"
      ]
     },
     "execution_count": 43,
     "metadata": {},
     "output_type": "execute_result"
    }
   ],
   "source": [
    "getsizeof([\"hello world\",\"goodbye world\"])"
   ]
  },
  {
   "cell_type": "markdown",
   "metadata": {},
   "source": [
    "We can see from this getsizeof only gives you the size of the container, not the contents. To get the total size in this simple case, we can loop, though for more complex data structures, recursion is recommended."
   ]
  },
  {
   "cell_type": "code",
   "execution_count": 45,
   "metadata": {},
   "outputs": [
    {
     "name": "stdout",
     "output_type": "stream",
     "text": [
      "240\n"
     ]
    }
   ],
   "source": [
    "L =  [\"hello world\",\"goodbye world\"]\n",
    "# my code here\n",
    "total = 0\n",
    "total += getsizeof(L)\n",
    "for S in L:\n",
    "    total += getsizeof(L)\n",
    "\n",
    "print(total)\n",
    "# my code here"
   ]
  },
  {
   "cell_type": "markdown",
   "metadata": {},
   "source": [
    "A final deflating (or perhaps encouraging?) note: for many of the basic Python scripts one writes, particularly those involving offline data manipulation, it's not worth getting too worked up about how much time or space is being used.\n",
    "\n",
    "Of course, all things being equal you should always prefer to write efficient code, but if the expected $n$ is low enough and/or the code isn't going to be run often, trying to improve time/space complexity might be a waste of *your* valuable time and memory!"
   ]
  },
  {
   "cell_type": "markdown",
   "metadata": {},
   "source": [
    "## True/False questions"
   ]
  },
  {
   "cell_type": "markdown",
   "metadata": {},
   "source": [
    "Assume Algorithm A runs in $O(n)$ time and Algorithm B runs in $O\\left(\\sqrt{n}\\right)$ time.\n",
    "\n",
    "1. Running Algorithm A will take longer than running Algorithm B.\n",
    "2. Running Algorithm A with $n=20000$ will probably take 2x as long as running it with $n=10000$.\n",
    "3. Running Algorithm A with $n=2$ will probably take 2x as long as running it with $n=1$.\n",
    "4. Running Algorithm B with $n=20000$ will probably take 4x as long as running it with $n=10000$.\n",
    "5. If Algorithm B is the best algorithm for a given task, then there is no way to further speed up one's code.\n",
    "6. To get the total memory used by an instance of a class, it is sufficient to call getsizeof on all the Python objects contained in self"
   ]
  }
 ],
 "metadata": {
  "kernelspec": {
   "display_name": "Python 3",
   "language": "python",
   "name": "python3"
  },
  "language_info": {
   "codemirror_mode": {
    "name": "ipython",
    "version": 3
   },
   "file_extension": ".py",
   "mimetype": "text/x-python",
   "name": "python",
   "nbconvert_exporter": "python",
   "pygments_lexer": "ipython3",
   "version": "3.7.3"
  }
 },
 "nbformat": 4,
 "nbformat_minor": 4
}
