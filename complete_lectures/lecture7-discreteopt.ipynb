{
 "cells": [
  {
   "cell_type": "markdown",
   "metadata": {},
   "source": [
    "# DSCI 512 Lecture 7: Discrete Optimization"
   ]
  },
  {
   "cell_type": "markdown",
   "metadata": {},
   "source": [
    "Outline:\n",
    "\n",
    "- Discrete optimization introduction \n",
    "- Constraints\n",
    "- Example: TA assignment\n",
    "- Formulating an optimization problem\n",
    "- Types of discrete optimization problems\n",
    "- T/F questions"
   ]
  },
  {
   "cell_type": "markdown",
   "metadata": {},
   "source": [
    "## Discrete optimization introduction"
   ]
  },
  {
   "cell_type": "markdown",
   "metadata": {},
   "source": [
    "- _Optimization_ refers to maximizing or minimizing a function with respect to its inputs.\n",
    "  - For example, find the minimum of $f(x)=(x-0.9)^2$. The answer is $0$, when $x=0.9$.\n",
    "- _Discrete optimization_ refers to optimization where the variables are _discrete_ (as opposed to continuous).\n",
    "  - For example, find the minimum of $f(x)=(x-0.9)^2$ where $x$ is an integer. The answer is $0.01$, when $x=1$.\n",
    "\n",
    "\n"
   ]
  },
  {
   "cell_type": "markdown",
   "metadata": {},
   "source": [
    "#### Example problem\n",
    "\n",
    "Another example: find the length-8 string of letters (e.g. `aaaaaaaa`, `abcdefgh`, etc.) that contains the most English words in it.\n",
    "\n",
    "- Because the problem is discrete, we can count the number of \"options\" or \"configurations\".\n",
    "  - In the first case above, $x$ is any integer so there are infinitely many.\n",
    "  - In this example, if we're just using the 26 lower-case letters, we have $26^8$ possibilities."
   ]
  },
  {
   "cell_type": "code",
   "execution_count": 3,
   "metadata": {},
   "outputs": [
    {
     "data": {
      "text/plain": [
       "208827064576"
      ]
     },
     "execution_count": 3,
     "metadata": {},
     "output_type": "execute_result"
    }
   ],
   "source": [
    "26**8"
   ]
  },
  {
   "cell_type": "markdown",
   "metadata": {},
   "source": [
    "- That is a lot!\n"
   ]
  },
  {
   "cell_type": "markdown",
   "metadata": {},
   "source": [
    "If the number of possibilities is finite, you can enumerate (or list) all possible configurations (inputs).\n",
    "  - In our example, there is `aaaaaaaa`, `aaaaaaab`, `aaaaaaac`, ..., `zzzzzzzz`. \n",
    "  - This is called \"brute force search\".\n",
    "  - Often, it's not computationally feasible to search through all possible combinations because there are too many. "
   ]
  },
  {
   "cell_type": "markdown",
   "metadata": {},
   "source": [
    "#### Specifying an optimization problem\n",
    "\n",
    "To specify the problem, we need to specify a few things:\n",
    "\n",
    "1. A specification of the space of possible inputs.\n",
    "2. An _objective function_ which takes an input and computes a score. \n",
    "3. Are we maximizing or minimizing?\n",
    "\n",
    "In the above, the space of possible inputs is all length-8 strings. And the objective function is the number of English words in the string, and we are maximizing it. "
   ]
  },
  {
   "cell_type": "markdown",
   "metadata": {},
   "source": [
    "#### Solving an optimization problem with brute force (example)\n",
    "\n",
    "- First, let's implement the objective function in Python"
   ]
  },
  {
   "cell_type": "code",
   "execution_count": 10,
   "metadata": {},
   "outputs": [
    {
     "data": {
      "text/plain": [
       "{'apple', 'ea', 'he', 'heap', 'th', 'the'}"
      ]
     },
     "execution_count": 10,
     "metadata": {},
     "output_type": "execute_result"
    }
   ],
   "source": [
    "from nltk.corpus import words\n",
    "\n",
    "word_list = {word for word in words.words() if word.islower() and len(word) > 1}\n",
    "\n",
    "def english_words_in_string(s):\n",
    "    \"\"\"\n",
    "    Find all the English words within a string.\n",
    "    \n",
    "    Parameters\n",
    "    ----------\n",
    "    s : str\n",
    "        The input string.\n",
    "       \n",
    "    Returns\n",
    "    -------\n",
    "    set\n",
    "        The set of English words contained in s.\n",
    "        \n",
    "    Example\n",
    "    -------\n",
    "    >>> english_words_in_string(\"theapple\")\n",
    "    {'a', 'apple', 'e', 'ea', 'h', 'he', 'heap', 'l', 'p', 't', 'th', 'the'}    \n",
    "    \"\"\"\n",
    "    \n",
    "    words = set()\n",
    "    for start in range(len(s)):\n",
    "        for end in range(start+1, len(s)+1):\n",
    "            if s[start:end] in word_list:\n",
    "                words.add(s[start:end])\n",
    "    return words\n",
    "\n",
    "english_words_in_string(\"theapple\")"
   ]
  },
  {
   "cell_type": "markdown",
   "metadata": {},
   "source": [
    "It looks like the length-8 string `theapple` contains a few words (though is `th` really a word?! And what about the word `app`?!)."
   ]
  },
  {
   "cell_type": "markdown",
   "metadata": {},
   "source": [
    "Next, let's implement the objective function:"
   ]
  },
  {
   "cell_type": "code",
   "execution_count": 11,
   "metadata": {},
   "outputs": [
    {
     "data": {
      "text/plain": [
       "6"
      ]
     },
     "execution_count": 11,
     "metadata": {},
     "output_type": "execute_result"
    }
   ],
   "source": [
    "def objective_fun(s):\n",
    "    \"\"\"Count the number of English words contained within a string.\"\"\"\n",
    "    return len(english_words_in_string(s))\n",
    "\n",
    "objective_fun(\"theapple\")"
   ]
  },
  {
   "cell_type": "markdown",
   "metadata": {},
   "source": [
    "The objective function for `theapple` is 6. We are trying to find the string (or strings - the solution is not always unique) that make this value as large as possible."
   ]
  },
  {
   "cell_type": "markdown",
   "metadata": {},
   "source": [
    "Let's try this only using the first 5 letters of the alphabet, so the code isn't too slow. We should only have"
   ]
  },
  {
   "cell_type": "code",
   "execution_count": 3,
   "metadata": {},
   "outputs": [
    {
     "data": {
      "text/plain": [
       "390625"
      ]
     },
     "execution_count": 3,
     "metadata": {},
     "output_type": "execute_result"
    }
   ],
   "source": [
    "5**8"
   ]
  },
  {
   "cell_type": "markdown",
   "metadata": {},
   "source": [
    "possibilities, which is reasonable. We'll grab some code from lab 2:"
   ]
  },
  {
   "cell_type": "code",
   "execution_count": 12,
   "metadata": {},
   "outputs": [],
   "source": [
    "def get_inputs(letters, n):\n",
    "    \"\"\"\n",
    "    Return all length-n strings using letters.\n",
    "    \n",
    "    Parameters\n",
    "    ----------\n",
    "    letters : list\n",
    "        The list of letters (could be a string or a list)\n",
    "    \n",
    "    n : int\n",
    "        The desired length.\n",
    "        \n",
    "    Returns\n",
    "    -------\n",
    "    list\n",
    "        A list of the resulting strings.\n",
    "        \n",
    "    Examples\n",
    "    --------\n",
    "    get_inputs(['a', 'b', 'c'], 2)\n",
    "    ['aa', 'ab', 'ac', 'ba', 'bb', 'bc', 'ca', 'cb', 'cc']\n",
    "    \"\"\"\n",
    "    \n",
    "    if n == 0:\n",
    "        return [\"\"]\n",
    "    \n",
    "    return [letter + l for letter in letters for l in get_inputs(letters, n-1)]"
   ]
  },
  {
   "cell_type": "code",
   "execution_count": 13,
   "metadata": {},
   "outputs": [],
   "source": [
    "inputs = get_inputs(['a', 'b', 'c', 'd', 'e'], 8)"
   ]
  },
  {
   "cell_type": "code",
   "execution_count": 14,
   "metadata": {},
   "outputs": [
    {
     "data": {
      "text/plain": [
       "['aaaaaaaa',\n",
       " 'aaaaaaab',\n",
       " 'aaaaaaac',\n",
       " 'aaaaaaad',\n",
       " 'aaaaaaae',\n",
       " 'aaaaaaba',\n",
       " 'aaaaaabb',\n",
       " 'aaaaaabc',\n",
       " 'aaaaaabd',\n",
       " 'aaaaaabe']"
      ]
     },
     "execution_count": 14,
     "metadata": {},
     "output_type": "execute_result"
    }
   ],
   "source": [
    "inputs[:10] # print out the first 10"
   ]
  },
  {
   "cell_type": "code",
   "execution_count": 15,
   "metadata": {},
   "outputs": [
    {
     "data": {
      "text/plain": [
       "13"
      ]
     },
     "execution_count": 15,
     "metadata": {},
     "output_type": "execute_result"
    }
   ],
   "source": [
    "import numpy as np\n",
    "\n",
    "scores = list(map(objective_fun, inputs))\n",
    "np.max(scores)"
   ]
  },
  {
   "cell_type": "markdown",
   "metadata": {},
   "source": [
    "13 words, wow! Let's see what string led to this:"
   ]
  },
  {
   "cell_type": "code",
   "execution_count": 9,
   "metadata": {},
   "outputs": [
    {
     "data": {
      "text/plain": [
       "'cabacade'"
      ]
     },
     "execution_count": 9,
     "metadata": {},
     "output_type": "execute_result"
    }
   ],
   "source": [
    "best_s = inputs[np.argmax(scores)]\n",
    "best_s"
   ]
  },
  {
   "cell_type": "markdown",
   "metadata": {},
   "source": [
    "And the words:"
   ]
  },
  {
   "cell_type": "code",
   "execution_count": 10,
   "metadata": {},
   "outputs": [
    {
     "data": {
      "text/plain": [
       "{'aba',\n",
       " 'abac',\n",
       " 'abaca',\n",
       " 'ad',\n",
       " 'ade',\n",
       " 'ba',\n",
       " 'bac',\n",
       " 'ca',\n",
       " 'cab',\n",
       " 'caba',\n",
       " 'cad',\n",
       " 'cade',\n",
       " 'de'}"
      ]
     },
     "execution_count": 10,
     "metadata": {},
     "output_type": "execute_result"
    }
   ],
   "source": [
    "english_words_in_string(best_s)"
   ]
  },
  {
   "cell_type": "markdown",
   "metadata": {},
   "source": [
    "We can also check if the solution is unique:"
   ]
  },
  {
   "cell_type": "code",
   "execution_count": 11,
   "metadata": {},
   "outputs": [
    {
     "data": {
      "text/plain": [
       "array([ 0,  0,  0, ..., 13, 13, 13])"
      ]
     },
     "execution_count": 11,
     "metadata": {},
     "output_type": "execute_result"
    }
   ],
   "source": [
    "np.sort(scores)"
   ]
  },
  {
   "cell_type": "markdown",
   "metadata": {},
   "source": [
    "Looks like the solution is not unique (we see several 13's). "
   ]
  },
  {
   "cell_type": "markdown",
   "metadata": {},
   "source": [
    "#### Another example: shortest path in a graph\n",
    "\n",
    "- Last week, we talked about finding the shortest path between two nodes $A$ and $B$ in a graph.\n",
    "- This is itself a discrete optimization problem.\n",
    "\n",
    "1. Possible inputs: all possible paths from $A$ to $B$.\n",
    "2. Objective function: the length of the path.\n",
    "3. We are minimizing.\n",
    "4. We won't actually do this because there is an even better way, see next lecture"
   ]
  },
  {
   "cell_type": "markdown",
   "metadata": {},
   "source": [
    "#### Solving an optimization problem\n",
    "\n",
    "- There are many ways to go about solving an optimization problem. \n",
    "- In general, one possibility is _brute force_ in which all possible inputs are considered.\n",
    "- That's the approach we just took in our toy example above.\n",
    "- But this is often infeasible because it would be too slow.\n",
    "  - Think about $26^8$ strings.\n",
    "  - Think about all possible paths between two nodes in the Facebook graph!\n",
    "- So, the hard part about optimization is often in finding clever ways to solve the problem faster, that still give the correct solution.\n",
    "  - E.g. breadth-first search to find the shortest distance in a graph.\n",
    "  - For the English words problem, there is nothing better than brute force. But there often is.\n",
    "- The other hard part can be coverting a conceptual idea into the right mathematical form as an optimization problem. This is called _formulating_ the problem."
   ]
  },
  {
   "cell_type": "markdown",
   "metadata": {},
   "source": [
    "## Constraints\n",
    "\n",
    "- A popular way of expressing the space of possible inputs is to put _constraints_ on the possibilities.\n",
    "- Example: all length-8 strings such that each letter appears at most twice.\n",
    "  - `aabbccdd` is valid, `abcdefgh` is valid, but `aaabbbcc` is _not_ valid (\"violates the constraint\").\n",
    "- You could say that this is just a change in the possible inputs, and it is.\n",
    "  - But, because of how these problems are solved under the hood, we often think of constraints as a separate thing.\n",
    "  "
   ]
  },
  {
   "cell_type": "markdown",
   "metadata": {},
   "source": [
    "(Updated) To specify an optimization problem, we need to specify a few things:\n",
    "\n",
    "1. A specification of the space of possible inputs.\n",
    "2. An _objective function_ which takes an input and computes a score. \n",
    "4. (Optional) A set of _constraints_, which take an input and return true/false.\n",
    "3. Are we maximizing or minimizing?"
   ]
  },
  {
   "cell_type": "code",
   "execution_count": 12,
   "metadata": {},
   "outputs": [],
   "source": [
    "def characters_appear_at_most_twice(s, n=2):\n",
    "    \"\"\"\n",
    "    Checks whether all characters appear at most n times in s.\n",
    "    If any character appears n+1 or more times, returns False.\n",
    "    \n",
    "    Parameters\n",
    "    ----------\n",
    "    s : str\n",
    "        The input string\n",
    "    n : int, optional\n",
    "        The maximum number of times a character is allowed to appear (default: 2)\n",
    "        \n",
    "    Returns\n",
    "    -------\n",
    "    bool\n",
    "        Whether or not all characters appear at most twice\n",
    "        \n",
    "    Examples\n",
    "    --------\n",
    "    >>> characters_appear_at_most_twice(\"aabbccdef\")\n",
    "    True\n",
    "    >>> characters_appear_at_most_twice(\"aaa\")\n",
    "    False\n",
    "    >>> characters_appear_at_most_twice(\"aaa\", 5)\n",
    "    True\n",
    "    \"\"\"\n",
    "    \n",
    "    return max(s.count(char) for char in s) <= n"
   ]
  },
  {
   "cell_type": "code",
   "execution_count": 13,
   "metadata": {},
   "outputs": [],
   "source": [
    "assert characters_appear_at_most_twice(\"aabbccdef\")\n",
    "assert not characters_appear_at_most_twice(\"aaa\")\n",
    "assert characters_appear_at_most_twice(\"aaa\", 5)"
   ]
  },
  {
   "cell_type": "markdown",
   "metadata": {},
   "source": [
    "Now we can solve the _constrained optimization problem_:"
   ]
  },
  {
   "cell_type": "code",
   "execution_count": 14,
   "metadata": {},
   "outputs": [
    {
     "data": {
      "text/plain": [
       "['aaaaaaaa',\n",
       " 'aaaaaaab',\n",
       " 'aaaaaaac',\n",
       " 'aaaaaaad',\n",
       " 'aaaaaaae',\n",
       " 'aaaaaaba',\n",
       " 'aaaaaabb',\n",
       " 'aaaaaabc',\n",
       " 'aaaaaabd',\n",
       " 'aaaaaabe']"
      ]
     },
     "execution_count": 14,
     "metadata": {},
     "output_type": "execute_result"
    }
   ],
   "source": [
    "inputs[:10] # the ones from before"
   ]
  },
  {
   "cell_type": "code",
   "execution_count": 15,
   "metadata": {},
   "outputs": [],
   "source": [
    "constrained_inputs = [s for s in inputs if characters_appear_at_most_twice(s)]"
   ]
  },
  {
   "cell_type": "code",
   "execution_count": 16,
   "metadata": {},
   "outputs": [
    {
     "data": {
      "text/plain": [
       "['aabbccdd',\n",
       " 'aabbccde',\n",
       " 'aabbcced',\n",
       " 'aabbccee',\n",
       " 'aabbcdcd',\n",
       " 'aabbcdce',\n",
       " 'aabbcddc',\n",
       " 'aabbcdde',\n",
       " 'aabbcdec',\n",
       " 'aabbcded']"
      ]
     },
     "execution_count": 16,
     "metadata": {},
     "output_type": "execute_result"
    }
   ],
   "source": [
    "constrained_inputs[:10]"
   ]
  },
  {
   "cell_type": "code",
   "execution_count": 17,
   "metadata": {},
   "outputs": [
    {
     "data": {
      "text/plain": [
       "12"
      ]
     },
     "execution_count": 17,
     "metadata": {},
     "output_type": "execute_result"
    }
   ],
   "source": [
    "constrained_scores = list(map(objective_fun, constrained_inputs))\n",
    "np.max(constrained_scores)"
   ]
  },
  {
   "cell_type": "code",
   "execution_count": 18,
   "metadata": {},
   "outputs": [
    {
     "data": {
      "text/plain": [
       "'babedade'"
      ]
     },
     "execution_count": 18,
     "metadata": {},
     "output_type": "execute_result"
    }
   ],
   "source": [
    "constrained_best_s = constrained_inputs[np.argmax(constrained_scores)]\n",
    "constrained_best_s"
   ]
  },
  {
   "cell_type": "code",
   "execution_count": 19,
   "metadata": {},
   "outputs": [
    {
     "data": {
      "text/plain": [
       "{'abed',\n",
       " 'ad',\n",
       " 'ade',\n",
       " 'ba',\n",
       " 'babe',\n",
       " 'be',\n",
       " 'bed',\n",
       " 'bedad',\n",
       " 'da',\n",
       " 'dad',\n",
       " 'dade',\n",
       " 'de'}"
      ]
     },
     "execution_count": 19,
     "metadata": {},
     "output_type": "execute_result"
    }
   ],
   "source": [
    "english_words_in_string(constrained_best_s)"
   ]
  },
  {
   "cell_type": "markdown",
   "metadata": {},
   "source": [
    "Some things to note:\n",
    "\n",
    "- The constrained optimum can be equal to, or worse than, the unconstrained optimum.\n",
    "  - In this case it was worse - we got 12 words instead of 13 by not allowing repeats. \n",
    "- It is possible to have multiple constraints.\n",
    "  - In this case we only had one constraint.\n",
    "  - In general, for an input to be valid, _all_ the constraints must be satisfied. \n",
    "  - For example: each letter appears at most twice AND the string is a palindrome AND it does not contain the substring \"ab\" (3 constraints)."
   ]
  },
  {
   "cell_type": "markdown",
   "metadata": {},
   "source": [
    "## Example: TA assignment\n",
    "\n",
    "Consider the problem of assigning TAs to labs in MDS."
   ]
  },
  {
   "cell_type": "code",
   "execution_count": 2,
   "metadata": {},
   "outputs": [
    {
     "data": {
      "text/html": [
       "<div>\n",
       "<style scoped>\n",
       "    .dataframe tbody tr th:only-of-type {\n",
       "        vertical-align: middle;\n",
       "    }\n",
       "\n",
       "    .dataframe tbody tr th {\n",
       "        vertical-align: top;\n",
       "    }\n",
       "\n",
       "    .dataframe thead th {\n",
       "        text-align: right;\n",
       "    }\n",
       "</style>\n",
       "<table border=\"1\" class=\"dataframe\">\n",
       "  <thead>\n",
       "    <tr style=\"text-align: right;\">\n",
       "      <th></th>\n",
       "      <th>availability</th>\n",
       "      <th>R_proficiency</th>\n",
       "      <th>python_proficiency</th>\n",
       "      <th>can_teach</th>\n",
       "      <th>enthusiastic</th>\n",
       "    </tr>\n",
       "    <tr>\n",
       "      <th>name</th>\n",
       "      <th></th>\n",
       "      <th></th>\n",
       "      <th></th>\n",
       "      <th></th>\n",
       "      <th></th>\n",
       "    </tr>\n",
       "  </thead>\n",
       "  <tbody>\n",
       "    <tr>\n",
       "      <th>Alice</th>\n",
       "      <td>MTW</td>\n",
       "      <td>competent</td>\n",
       "      <td>expert</td>\n",
       "      <td>[542, 551, 552]</td>\n",
       "      <td>[511, 571, 513]</td>\n",
       "    </tr>\n",
       "    <tr>\n",
       "      <th>Bob</th>\n",
       "      <td>MTWR</td>\n",
       "      <td>competent</td>\n",
       "      <td>none</td>\n",
       "      <td>[551, 523, 531, 552, 561]</td>\n",
       "      <td>[551, 523, 561]</td>\n",
       "    </tr>\n",
       "    <tr>\n",
       "      <th>Carol</th>\n",
       "      <td>MT</td>\n",
       "      <td>expert</td>\n",
       "      <td>expert</td>\n",
       "      <td>[542, 551, 523, 552, 571, 513]</td>\n",
       "      <td>[551, 552, 571]</td>\n",
       "    </tr>\n",
       "    <tr>\n",
       "      <th>Chuck</th>\n",
       "      <td>MW</td>\n",
       "      <td>expert</td>\n",
       "      <td>beginner</td>\n",
       "      <td>[511, 551, 531, 561]</td>\n",
       "      <td>[521, 542, 523]</td>\n",
       "    </tr>\n",
       "    <tr>\n",
       "      <th>Dan</th>\n",
       "      <td>MTR</td>\n",
       "      <td>expert</td>\n",
       "      <td>expert</td>\n",
       "      <td>[511, 521, 512, 552, 532, 571, 513]</td>\n",
       "      <td>[521, 512, 552]</td>\n",
       "    </tr>\n",
       "    <tr>\n",
       "      <th>Erin</th>\n",
       "      <td>R</td>\n",
       "      <td>expert</td>\n",
       "      <td>expert</td>\n",
       "      <td>[512, 532, 513]</td>\n",
       "      <td>[512, 513]</td>\n",
       "    </tr>\n",
       "    <tr>\n",
       "      <th>Faith</th>\n",
       "      <td>MTWR</td>\n",
       "      <td>competent</td>\n",
       "      <td>expert</td>\n",
       "      <td>[511, 521, 523, 531, 512, 561, 571, 513]</td>\n",
       "      <td>[521, 512, 513]</td>\n",
       "    </tr>\n",
       "    <tr>\n",
       "      <th>Grace</th>\n",
       "      <td>MR</td>\n",
       "      <td>beginner</td>\n",
       "      <td>expert</td>\n",
       "      <td>[521, 523, 512]</td>\n",
       "      <td>[511]</td>\n",
       "    </tr>\n",
       "    <tr>\n",
       "      <th>Heidi</th>\n",
       "      <td>TWR</td>\n",
       "      <td>expert</td>\n",
       "      <td>competent</td>\n",
       "      <td>[531]</td>\n",
       "      <td>[511, 551, 523, 552, 561, 532, 571]</td>\n",
       "    </tr>\n",
       "    <tr>\n",
       "      <th>Ivan</th>\n",
       "      <td>MTW</td>\n",
       "      <td>expert</td>\n",
       "      <td>none</td>\n",
       "      <td>[542, 551, 532, 571]</td>\n",
       "      <td>[511, 521]</td>\n",
       "    </tr>\n",
       "    <tr>\n",
       "      <th>Judy</th>\n",
       "      <td>MTR</td>\n",
       "      <td>competent</td>\n",
       "      <td>competent</td>\n",
       "      <td>[511, 542, 523, 531, 512, 561]</td>\n",
       "      <td>[511, 542, 531]</td>\n",
       "    </tr>\n",
       "  </tbody>\n",
       "</table>\n",
       "</div>"
      ],
      "text/plain": [
       "      availability R_proficiency python_proficiency  \\\n",
       "name                                                  \n",
       "Alice          MTW     competent             expert   \n",
       "Bob           MTWR     competent               none   \n",
       "Carol           MT        expert             expert   \n",
       "Chuck           MW        expert           beginner   \n",
       "Dan            MTR        expert             expert   \n",
       "Erin             R        expert             expert   \n",
       "Faith         MTWR     competent             expert   \n",
       "Grace           MR      beginner             expert   \n",
       "Heidi          TWR        expert          competent   \n",
       "Ivan           MTW        expert               none   \n",
       "Judy           MTR     competent          competent   \n",
       "\n",
       "                                      can_teach  \\\n",
       "name                                              \n",
       "Alice                           [542, 551, 552]   \n",
       "Bob                   [551, 523, 531, 552, 561]   \n",
       "Carol            [542, 551, 523, 552, 571, 513]   \n",
       "Chuck                      [511, 551, 531, 561]   \n",
       "Dan         [511, 521, 512, 552, 532, 571, 513]   \n",
       "Erin                            [512, 532, 513]   \n",
       "Faith  [511, 521, 523, 531, 512, 561, 571, 513]   \n",
       "Grace                           [521, 523, 512]   \n",
       "Heidi                                     [531]   \n",
       "Ivan                       [542, 551, 532, 571]   \n",
       "Judy             [511, 542, 523, 531, 512, 561]   \n",
       "\n",
       "                              enthusiastic  \n",
       "name                                        \n",
       "Alice                      [511, 571, 513]  \n",
       "Bob                        [551, 523, 561]  \n",
       "Carol                      [551, 552, 571]  \n",
       "Chuck                      [521, 542, 523]  \n",
       "Dan                        [521, 512, 552]  \n",
       "Erin                            [512, 513]  \n",
       "Faith                      [521, 512, 513]  \n",
       "Grace                                [511]  \n",
       "Heidi  [511, 551, 523, 552, 561, 532, 571]  \n",
       "Ivan                            [511, 521]  \n",
       "Judy                       [511, 542, 531]  "
      ]
     },
     "execution_count": 2,
     "metadata": {},
     "output_type": "execute_result"
    }
   ],
   "source": [
    "import pandas as pd\n",
    "\n",
    "TAs_df = pd.read_csv(\"data/TA_apps.csv\").set_index(\"name\")\n",
    "str_to_list = lambda s: list(map(int,s.split(\",\")))\n",
    "TAs_df[\"can_teach\"   ] = TAs_df[\"can_teach\"  ].apply(str_to_list)\n",
    "TAs_df[\"enthusiastic\"] = TAs_df[\"enthusiastic\"].apply(str_to_list)\n",
    "TAs_df"
   ]
  },
  {
   "cell_type": "code",
   "execution_count": 3,
   "metadata": {},
   "outputs": [],
   "source": [
    "TAs = TAs_df.index.values.tolist()"
   ]
  },
  {
   "cell_type": "code",
   "execution_count": 4,
   "metadata": {},
   "outputs": [
    {
     "data": {
      "text/html": [
       "<div>\n",
       "<style scoped>\n",
       "    .dataframe tbody tr th:only-of-type {\n",
       "        vertical-align: middle;\n",
       "    }\n",
       "\n",
       "    .dataframe tbody tr th {\n",
       "        vertical-align: top;\n",
       "    }\n",
       "\n",
       "    .dataframe thead th {\n",
       "        text-align: right;\n",
       "    }\n",
       "</style>\n",
       "<table border=\"1\" class=\"dataframe\">\n",
       "  <thead>\n",
       "    <tr style=\"text-align: right;\">\n",
       "      <th></th>\n",
       "      <th>course_title</th>\n",
       "      <th>slug</th>\n",
       "      <th>block</th>\n",
       "      <th>primary_lang</th>\n",
       "      <th>lab_days</th>\n",
       "    </tr>\n",
       "    <tr>\n",
       "      <th>course_number</th>\n",
       "      <th></th>\n",
       "      <th></th>\n",
       "      <th></th>\n",
       "      <th></th>\n",
       "      <th></th>\n",
       "    </tr>\n",
       "  </thead>\n",
       "  <tbody>\n",
       "    <tr>\n",
       "      <th>511</th>\n",
       "      <td>Programming for Data Science</td>\n",
       "      <td>prog-dsci</td>\n",
       "      <td>1</td>\n",
       "      <td>both</td>\n",
       "      <td>WR</td>\n",
       "    </tr>\n",
       "    <tr>\n",
       "      <th>521</th>\n",
       "      <td>Computing Platforms for Data Science</td>\n",
       "      <td>platforms-dsci</td>\n",
       "      <td>1</td>\n",
       "      <td>both</td>\n",
       "      <td>MT</td>\n",
       "    </tr>\n",
       "    <tr>\n",
       "      <th>542</th>\n",
       "      <td>Communication and Argumentation</td>\n",
       "      <td>comm-arg</td>\n",
       "      <td>1</td>\n",
       "      <td>none</td>\n",
       "      <td>WR</td>\n",
       "    </tr>\n",
       "    <tr>\n",
       "      <th>551</th>\n",
       "      <td>Descriptive Statistics and Probability for Dat...</td>\n",
       "      <td>stat-prob-dsci</td>\n",
       "      <td>1</td>\n",
       "      <td>none</td>\n",
       "      <td>MT</td>\n",
       "    </tr>\n",
       "    <tr>\n",
       "      <th>512</th>\n",
       "      <td>Algorithms and Data Structures</td>\n",
       "      <td>alg-data-struct</td>\n",
       "      <td>2</td>\n",
       "      <td>python</td>\n",
       "      <td>WR</td>\n",
       "    </tr>\n",
       "    <tr>\n",
       "      <th>523</th>\n",
       "      <td>Data Wrangling</td>\n",
       "      <td>data-wrangling</td>\n",
       "      <td>2</td>\n",
       "      <td>R</td>\n",
       "      <td>WR</td>\n",
       "    </tr>\n",
       "    <tr>\n",
       "      <th>531</th>\n",
       "      <td>Data Visualization I</td>\n",
       "      <td>viz-1</td>\n",
       "      <td>2</td>\n",
       "      <td>both</td>\n",
       "      <td>MT</td>\n",
       "    </tr>\n",
       "    <tr>\n",
       "      <th>552</th>\n",
       "      <td>Statistical Inference and Computation I</td>\n",
       "      <td>stat-inf-1</td>\n",
       "      <td>2</td>\n",
       "      <td>R</td>\n",
       "      <td>MT</td>\n",
       "    </tr>\n",
       "    <tr>\n",
       "      <th>513</th>\n",
       "      <td>Databases and Data Retrieval</td>\n",
       "      <td>database-data-retr</td>\n",
       "      <td>3</td>\n",
       "      <td>both</td>\n",
       "      <td>WR</td>\n",
       "    </tr>\n",
       "    <tr>\n",
       "      <th>561</th>\n",
       "      <td>Regression I</td>\n",
       "      <td>regr-1</td>\n",
       "      <td>3</td>\n",
       "      <td>R</td>\n",
       "      <td>MT</td>\n",
       "    </tr>\n",
       "    <tr>\n",
       "      <th>571</th>\n",
       "      <td>Supervised Learning I</td>\n",
       "      <td>sup-learn-1</td>\n",
       "      <td>3</td>\n",
       "      <td>python</td>\n",
       "      <td>MT</td>\n",
       "    </tr>\n",
       "    <tr>\n",
       "      <th>532</th>\n",
       "      <td>Data Visualization II</td>\n",
       "      <td>viz-2</td>\n",
       "      <td>3</td>\n",
       "      <td>both</td>\n",
       "      <td>WR</td>\n",
       "    </tr>\n",
       "  </tbody>\n",
       "</table>\n",
       "</div>"
      ],
      "text/plain": [
       "                                                    course_title  \\\n",
       "course_number                                                      \n",
       "511                                 Programming for Data Science   \n",
       "521                         Computing Platforms for Data Science   \n",
       "542                              Communication and Argumentation   \n",
       "551            Descriptive Statistics and Probability for Dat...   \n",
       "512                               Algorithms and Data Structures   \n",
       "523                                               Data Wrangling   \n",
       "531                                         Data Visualization I   \n",
       "552                      Statistical Inference and Computation I   \n",
       "513                                 Databases and Data Retrieval   \n",
       "561                                                 Regression I   \n",
       "571                                        Supervised Learning I   \n",
       "532                                        Data Visualization II   \n",
       "\n",
       "                             slug  block primary_lang lab_days  \n",
       "course_number                                                   \n",
       "511                     prog-dsci      1         both       WR  \n",
       "521                platforms-dsci      1         both       MT  \n",
       "542                      comm-arg      1         none       WR  \n",
       "551                stat-prob-dsci      1         none       MT  \n",
       "512               alg-data-struct      2       python       WR  \n",
       "523                data-wrangling      2            R       WR  \n",
       "531                         viz-1      2         both       MT  \n",
       "552                    stat-inf-1      2            R       MT  \n",
       "513            database-data-retr      3         both       WR  \n",
       "561                        regr-1      3            R       MT  \n",
       "571                   sup-learn-1      3       python       MT  \n",
       "532                         viz-2      3         both       WR  "
      ]
     },
     "execution_count": 4,
     "metadata": {},
     "output_type": "execute_result"
    }
   ],
   "source": [
    "courses_df = pd.read_csv(\"data/MDS_courses_term_1.csv\").set_index(\"course_number\")\n",
    "courses_df"
   ]
  },
  {
   "cell_type": "code",
   "execution_count": 5,
   "metadata": {},
   "outputs": [],
   "source": [
    "courses = courses_df.index.values.tolist()"
   ]
  },
  {
   "cell_type": "code",
   "execution_count": 6,
   "metadata": {},
   "outputs": [],
   "source": [
    "blocks = set(courses_df[\"block\"])"
   ]
  },
  {
   "cell_type": "markdown",
   "metadata": {},
   "source": [
    "Goal: match TAs to courses so that our staffing needs are covered in the best way possible.\n",
    "\n",
    "Ok, let's make this more concrete. Here are the **constraints**:\n",
    "\n",
    "- Each course should be assigned exactly 2 TAs.\n",
    "- A TA can only cover one course at a time (i.e., in a given block).\n",
    "- A TA can only be assigned to a course they have listed as \"can teach\" or \"enthusiastic to teach\".\n",
    "- To cover a course, the TA must be available for one of the two lab days (for simplicity).\n",
    "\n",
    "And here is the **objective**:\n",
    "\n",
    "- We want to maximize the number of assigned courses that TAs are enthusiastic about."
   ]
  },
  {
   "cell_type": "markdown",
   "metadata": {},
   "source": [
    "Let's try solving this by hand (on the whiteboard)"
   ]
  },
  {
   "cell_type": "markdown",
   "metadata": {},
   "source": [
    "## Formulating an optimization problem using PuLP"
   ]
  },
  {
   "cell_type": "markdown",
   "metadata": {},
   "source": [
    "We can solve discrete optimization problems like the TA assignment problem using the PuLP Linear Programming package. Let's work through the steps required to do this"
   ]
  },
  {
   "cell_type": "code",
   "execution_count": 7,
   "metadata": {},
   "outputs": [],
   "source": [
    "import pulp"
   ]
  },
  {
   "cell_type": "markdown",
   "metadata": {},
   "source": [
    "#### First, are we maximizing or minimizing?\n",
    "\n",
    "We are maximizing. Let's set up our \"problem\""
   ]
  },
  {
   "cell_type": "code",
   "execution_count": 8,
   "metadata": {},
   "outputs": [],
   "source": [
    "prob = pulp.LpProblem(\"TA assignments\", pulp.LpMaximize)"
   ]
  },
  {
   "cell_type": "markdown",
   "metadata": {},
   "source": [
    "#### Setting up the decision variables"
   ]
  },
  {
   "cell_type": "markdown",
   "metadata": {},
   "source": [
    "- For this problem, what are our _decision variables_? \n",
    "- Turns out such problems are best handled with _binary variables_.\n",
    "\n",
    "Let $x_{ij}$ be $1$ if TA $i$ is assigned to course $j$, and 0 otherwise."
   ]
  },
  {
   "cell_type": "code",
   "execution_count": 17,
   "metadata": {},
   "outputs": [
    {
     "data": {
      "text/html": [
       "<div>\n",
       "<style scoped>\n",
       "    .dataframe tbody tr th:only-of-type {\n",
       "        vertical-align: middle;\n",
       "    }\n",
       "\n",
       "    .dataframe tbody tr th {\n",
       "        vertical-align: top;\n",
       "    }\n",
       "\n",
       "    .dataframe thead th {\n",
       "        text-align: right;\n",
       "    }\n",
       "</style>\n",
       "<table border=\"1\" class=\"dataframe\">\n",
       "  <thead>\n",
       "    <tr style=\"text-align: right;\">\n",
       "      <th></th>\n",
       "      <th>511</th>\n",
       "      <th>521</th>\n",
       "      <th>542</th>\n",
       "      <th>551</th>\n",
       "      <th>512</th>\n",
       "      <th>523</th>\n",
       "      <th>531</th>\n",
       "      <th>552</th>\n",
       "      <th>513</th>\n",
       "      <th>561</th>\n",
       "      <th>571</th>\n",
       "      <th>532</th>\n",
       "    </tr>\n",
       "  </thead>\n",
       "  <tbody>\n",
       "    <tr>\n",
       "      <th>Alice</th>\n",
       "      <td>0</td>\n",
       "      <td>0</td>\n",
       "      <td>0</td>\n",
       "      <td>0</td>\n",
       "      <td>0</td>\n",
       "      <td>0</td>\n",
       "      <td>0</td>\n",
       "      <td>0</td>\n",
       "      <td>0</td>\n",
       "      <td>0</td>\n",
       "      <td>0</td>\n",
       "      <td>0</td>\n",
       "    </tr>\n",
       "    <tr>\n",
       "      <th>Bob</th>\n",
       "      <td>1</td>\n",
       "      <td>0</td>\n",
       "      <td>0</td>\n",
       "      <td>0</td>\n",
       "      <td>1</td>\n",
       "      <td>1</td>\n",
       "      <td>0</td>\n",
       "      <td>0</td>\n",
       "      <td>0</td>\n",
       "      <td>0</td>\n",
       "      <td>0</td>\n",
       "      <td>1</td>\n",
       "    </tr>\n",
       "    <tr>\n",
       "      <th>Carol</th>\n",
       "      <td>0</td>\n",
       "      <td>0</td>\n",
       "      <td>0</td>\n",
       "      <td>1</td>\n",
       "      <td>0</td>\n",
       "      <td>0</td>\n",
       "      <td>1</td>\n",
       "      <td>1</td>\n",
       "      <td>0</td>\n",
       "      <td>1</td>\n",
       "      <td>0</td>\n",
       "      <td>0</td>\n",
       "    </tr>\n",
       "    <tr>\n",
       "      <th>Chuck</th>\n",
       "      <td>0</td>\n",
       "      <td>0</td>\n",
       "      <td>1</td>\n",
       "      <td>0</td>\n",
       "      <td>0</td>\n",
       "      <td>0</td>\n",
       "      <td>0</td>\n",
       "      <td>0</td>\n",
       "      <td>0</td>\n",
       "      <td>0</td>\n",
       "      <td>1</td>\n",
       "      <td>0</td>\n",
       "    </tr>\n",
       "    <tr>\n",
       "      <th>Dan</th>\n",
       "      <td>0</td>\n",
       "      <td>1</td>\n",
       "      <td>0</td>\n",
       "      <td>0</td>\n",
       "      <td>0</td>\n",
       "      <td>0</td>\n",
       "      <td>0</td>\n",
       "      <td>0</td>\n",
       "      <td>0</td>\n",
       "      <td>0</td>\n",
       "      <td>0</td>\n",
       "      <td>0</td>\n",
       "    </tr>\n",
       "    <tr>\n",
       "      <th>Erin</th>\n",
       "      <td>1</td>\n",
       "      <td>1</td>\n",
       "      <td>0</td>\n",
       "      <td>0</td>\n",
       "      <td>0</td>\n",
       "      <td>1</td>\n",
       "      <td>1</td>\n",
       "      <td>0</td>\n",
       "      <td>0</td>\n",
       "      <td>0</td>\n",
       "      <td>1</td>\n",
       "      <td>0</td>\n",
       "    </tr>\n",
       "    <tr>\n",
       "      <th>Faith</th>\n",
       "      <td>1</td>\n",
       "      <td>0</td>\n",
       "      <td>0</td>\n",
       "      <td>0</td>\n",
       "      <td>0</td>\n",
       "      <td>0</td>\n",
       "      <td>1</td>\n",
       "      <td>0</td>\n",
       "      <td>0</td>\n",
       "      <td>0</td>\n",
       "      <td>0</td>\n",
       "      <td>0</td>\n",
       "    </tr>\n",
       "    <tr>\n",
       "      <th>Grace</th>\n",
       "      <td>0</td>\n",
       "      <td>0</td>\n",
       "      <td>1</td>\n",
       "      <td>0</td>\n",
       "      <td>0</td>\n",
       "      <td>0</td>\n",
       "      <td>0</td>\n",
       "      <td>1</td>\n",
       "      <td>0</td>\n",
       "      <td>0</td>\n",
       "      <td>0</td>\n",
       "      <td>0</td>\n",
       "    </tr>\n",
       "    <tr>\n",
       "      <th>Heidi</th>\n",
       "      <td>1</td>\n",
       "      <td>1</td>\n",
       "      <td>0</td>\n",
       "      <td>0</td>\n",
       "      <td>0</td>\n",
       "      <td>0</td>\n",
       "      <td>0</td>\n",
       "      <td>0</td>\n",
       "      <td>0</td>\n",
       "      <td>0</td>\n",
       "      <td>0</td>\n",
       "      <td>1</td>\n",
       "    </tr>\n",
       "    <tr>\n",
       "      <th>Ivan</th>\n",
       "      <td>0</td>\n",
       "      <td>1</td>\n",
       "      <td>0</td>\n",
       "      <td>1</td>\n",
       "      <td>0</td>\n",
       "      <td>0</td>\n",
       "      <td>0</td>\n",
       "      <td>0</td>\n",
       "      <td>0</td>\n",
       "      <td>0</td>\n",
       "      <td>0</td>\n",
       "      <td>0</td>\n",
       "    </tr>\n",
       "    <tr>\n",
       "      <th>Judy</th>\n",
       "      <td>0</td>\n",
       "      <td>0</td>\n",
       "      <td>0</td>\n",
       "      <td>0</td>\n",
       "      <td>0</td>\n",
       "      <td>0</td>\n",
       "      <td>1</td>\n",
       "      <td>0</td>\n",
       "      <td>0</td>\n",
       "      <td>0</td>\n",
       "      <td>1</td>\n",
       "      <td>0</td>\n",
       "    </tr>\n",
       "  </tbody>\n",
       "</table>\n",
       "</div>"
      ],
      "text/plain": [
       "       511  521  542  551  512  523  531  552  513  561  571  532\n",
       "Alice    0    0    0    0    0    0    0    0    0    0    0    0\n",
       "Bob      1    0    0    0    1    1    0    0    0    0    0    1\n",
       "Carol    0    0    0    1    0    0    1    1    0    1    0    0\n",
       "Chuck    0    0    1    0    0    0    0    0    0    0    1    0\n",
       "Dan      0    1    0    0    0    0    0    0    0    0    0    0\n",
       "Erin     1    1    0    0    0    1    1    0    0    0    1    0\n",
       "Faith    1    0    0    0    0    0    1    0    0    0    0    0\n",
       "Grace    0    0    1    0    0    0    0    1    0    0    0    0\n",
       "Heidi    1    1    0    0    0    0    0    0    0    0    0    1\n",
       "Ivan     0    1    0    1    0    0    0    0    0    0    0    0\n",
       "Judy     0    0    0    0    0    0    1    0    0    0    1    0"
      ]
     },
     "execution_count": 17,
     "metadata": {},
     "output_type": "execute_result"
    }
   ],
   "source": [
    "x_df = pd.DataFrame(data=(np.random.rand(len(TAs),len(courses))<.2).astype(int), index=TAs, columns=courses)\n",
    "x_df"
   ]
  },
  {
   "cell_type": "code",
   "execution_count": 18,
   "metadata": {},
   "outputs": [],
   "source": [
    "x = pulp.LpVariable.dicts(\"x\", (TAs, courses), 0, 1, pulp.LpInteger) "
   ]
  },
  {
   "cell_type": "markdown",
   "metadata": {},
   "source": [
    "- (Optional) How many possibilities are there?\n",
    "  - With $11$ TAs, $12$ courses, and $2$ TAs per course: around $11^{12\\times 2}\\approx10^{25}$\n",
    "  - With $11\\times 12$ binary variables, we get $2^{11\\times12}\\approx10^{40}$.\n",
    "  - Our formulation has _more_ configurations because it doesn't have the \"2 TAs per course\" constraint hardwired into it. This seems \"redundant\" but is actually the way to go because it allows us to use PuLP."
   ]
  },
  {
   "cell_type": "markdown",
   "metadata": {},
   "source": [
    "#### Setting up the constraints"
   ]
  },
  {
   "cell_type": "markdown",
   "metadata": {},
   "source": [
    "We now have to change our English constraints into constraints on $x$. IN PuLP, you just \"add\" the contraints to the problem. Your contraints should be a boolean expressions where at one side is some (pulp) function of the decision variable.\n",
    "\n",
    "_Each course should be assigned exactly 2 TAs._\n",
    "  - For all courses $j$, we require $\\sum_i x_{ij} = 2$\n",
    "  - That is, the sum of TAs for DSCI 511 equals 2, the sum of TAs for DSCI 521 equals 2, ...\n"
   ]
  },
  {
   "cell_type": "code",
   "execution_count": 19,
   "metadata": {},
   "outputs": [],
   "source": [
    "TAS_PER_COURSE = 2\n",
    "\n",
    "for course in courses:\n",
    "    prob += pulp.lpSum(x[TA][course] for TA in TAs) == TAS_PER_COURSE"
   ]
  },
  {
   "cell_type": "markdown",
   "metadata": {},
   "source": [
    "You don't has to use comprehensions here, but you do need to use lpSum, you cannot sum using sum or np.sum. The below is equivalent to the above."
   ]
  },
  {
   "cell_type": "code",
   "execution_count": 20,
   "metadata": {},
   "outputs": [],
   "source": [
    "for course in courses:\n",
    "    course_TAs = []\n",
    "    for TA in TAs:\n",
    "        course_TAs.append(x[TA][course])\n",
    "    prob += pulp.lpSum(course_TAs) == TAS_PER_COURSE"
   ]
  },
  {
   "cell_type": "markdown",
   "metadata": {},
   "source": [
    "<br>\n",
    "\n",
    "_A TA can only cover one course at a time (i.e., in a given block)._\n",
    "  - For all TAs $i$, for all blocks, we require $\\sum_j x_{ij} \\leq 1$\n",
    "  - That is, the sum of Alice's Block 1 courses is at most 1, the sum of Bob's Block 1 courses is at most 1, ..."
   ]
  },
  {
   "cell_type": "code",
   "execution_count": 21,
   "metadata": {},
   "outputs": [],
   "source": [
    "# my code here\n",
    "for TA in TAs:\n",
    "    for block in blocks:\n",
    "        prob += pulp.lpSum(x[TA][course] for course in courses if courses_df.loc[course][\"block\"] == block) <= 1\n",
    "# my code here"
   ]
  },
  {
   "cell_type": "markdown",
   "metadata": {},
   "source": [
    "<br> \n",
    "\n",
    "_A TA can only be assigned to a course they have listed as \"can teach\" or \"enthusiastic to teach\"._\n",
    "  - For all $i,j$ such that canteach$(i,j)$ is false and enthusiastic$(i,j)$ is false, $x_{ij}=0$\n",
    "  - That is, Bob cannot teach 511 because canteach(Bob,511) is false and enthusiastic(Bob,511) is false, ...\n",
    " \n"
   ]
  },
  {
   "cell_type": "code",
   "execution_count": 36,
   "metadata": {},
   "outputs": [],
   "source": [
    "# my code here\n",
    "for TA in TAs:\n",
    "    for course in courses:\n",
    "        if course not in TAs_df.loc[TA][\"can_teach\"] and course not in TAs_df.loc[TA][\"enthusiastic\"]:\n",
    "            prob += x[TA][course] == 0\n",
    "# my code here"
   ]
  },
  {
   "cell_type": "markdown",
   "metadata": {},
   "source": [
    "<br> \n",
    "\n",
    "Exercise: _To cover a course, the TA must be available for one of the two lab days._\n",
    "  - For all $i,j$ such that available$(i,\\text{day1}(j))$ is false and available$(i,\\text{day2}(j))$ is false, $x_{ij}=0$\n",
    "  - That is, Carol cannot teach DSCI 542 because available(Carol,W) is false and available(Carol,Th) is false\n",
    "    - And day1(542) is W, day2(542) is Th.\n",
    "  "
   ]
  },
  {
   "cell_type": "code",
   "execution_count": 37,
   "metadata": {},
   "outputs": [],
   "source": [
    "#your code here\n",
    "for TA in TAs:\n",
    "    for course in courses:\n",
    "        if courses_df.loc[course][\"lab_days\"][0] not in TAs_df.loc[TA][\"availability\"] and courses_df.loc[course][\"lab_days\"][1] not in TAs_df.loc[TA][\"availability\"]:\n",
    "            prob += x[TA][course] == 0\n",
    "#your code here"
   ]
  },
  {
   "cell_type": "markdown",
   "metadata": {},
   "source": [
    "#### Setting up the objective\n",
    "\n",
    "_We want to maximize the number of assigned courses that TAs are enthusiastic about._\n",
    "  - Maximize the following objective: for all $i,j$ such that enthusiastic$(i,j)$ is true, $\\sum_{ij} x_{ij}$\n",
    "  \n",
    "(Optional) Another way of writing this:\n",
    "  - Maximize $\\sum_{ij} \\text{enthusiastic}(i,j)x_{ij}$\n",
    "  - This assumes the values of enthusiastic$(i,j)$ are either 0 or 1, so that the product 1 is only when the TA is enthusiastic and assigned to the course.\n",
    "  - It's generally a common pattern to be multiplying some known quantities by the decision variables.\n",
    "  \n",
    "In PuLP you also just \"add\" the objective function. PuLP figures out the difference between the constraints and the objective function based on their type (the former is boolean)"
   ]
  },
  {
   "cell_type": "code",
   "execution_count": 38,
   "metadata": {},
   "outputs": [],
   "source": [
    "prob += pulp.lpSum(x[TA][course] for TA in TAs for course in courses if course in TAs_df.loc[TA][\"enthusiastic\"])"
   ]
  },
  {
   "cell_type": "markdown",
   "metadata": {},
   "source": [
    "#### Solving the problem"
   ]
  },
  {
   "cell_type": "code",
   "execution_count": 39,
   "metadata": {},
   "outputs": [
    {
     "data": {
      "text/plain": [
       "1"
      ]
     },
     "execution_count": 39,
     "metadata": {},
     "output_type": "execute_result"
    }
   ],
   "source": [
    "prob.solve()"
   ]
  },
  {
   "cell_type": "code",
   "execution_count": 40,
   "metadata": {},
   "outputs": [
    {
     "data": {
      "text/plain": [
       "'Optimal'"
      ]
     },
     "execution_count": 40,
     "metadata": {},
     "output_type": "execute_result"
    }
   ],
   "source": [
    "pulp.LpStatus[prob.status]"
   ]
  },
  {
   "cell_type": "code",
   "execution_count": 41,
   "metadata": {},
   "outputs": [
    {
     "name": "stdout",
     "output_type": "stream",
     "text": [
      "We have 21 enthusiastic courses out of a possible 24.\n"
     ]
    }
   ],
   "source": [
    "print(\"We have %d enthusiastic courses out of a possible %d.\" % \n",
    "      (pulp.value(prob.objective), len(courses)*TAS_PER_COURSE))"
   ]
  },
  {
   "cell_type": "markdown",
   "metadata": {},
   "source": [
    "#### Printing the results"
   ]
  },
  {
   "cell_type": "code",
   "execution_count": 42,
   "metadata": {},
   "outputs": [
    {
     "data": {
      "text/html": [
       "<div>\n",
       "<style scoped>\n",
       "    .dataframe tbody tr th:only-of-type {\n",
       "        vertical-align: middle;\n",
       "    }\n",
       "\n",
       "    .dataframe tbody tr th {\n",
       "        vertical-align: top;\n",
       "    }\n",
       "\n",
       "    .dataframe thead th {\n",
       "        text-align: right;\n",
       "    }\n",
       "</style>\n",
       "<table border=\"1\" class=\"dataframe\">\n",
       "  <thead>\n",
       "    <tr style=\"text-align: right;\">\n",
       "      <th></th>\n",
       "      <th>1</th>\n",
       "      <th>2</th>\n",
       "      <th>3</th>\n",
       "    </tr>\n",
       "  </thead>\n",
       "  <tbody>\n",
       "    <tr>\n",
       "      <th>Alice</th>\n",
       "      <td></td>\n",
       "      <td></td>\n",
       "      <td>571</td>\n",
       "    </tr>\n",
       "    <tr>\n",
       "      <th>Bob</th>\n",
       "      <td>551</td>\n",
       "      <td>531</td>\n",
       "      <td>561</td>\n",
       "    </tr>\n",
       "    <tr>\n",
       "      <th>Carol</th>\n",
       "      <td>551</td>\n",
       "      <td>552</td>\n",
       "      <td>571</td>\n",
       "    </tr>\n",
       "    <tr>\n",
       "      <th>Chuck</th>\n",
       "      <td>542</td>\n",
       "      <td>523</td>\n",
       "      <td>561</td>\n",
       "    </tr>\n",
       "    <tr>\n",
       "      <th>Dan</th>\n",
       "      <td>521</td>\n",
       "      <td>552</td>\n",
       "      <td></td>\n",
       "    </tr>\n",
       "    <tr>\n",
       "      <th>Erin</th>\n",
       "      <td></td>\n",
       "      <td>512</td>\n",
       "      <td>513</td>\n",
       "    </tr>\n",
       "    <tr>\n",
       "      <th>Faith</th>\n",
       "      <td>521</td>\n",
       "      <td>512</td>\n",
       "      <td>513</td>\n",
       "    </tr>\n",
       "    <tr>\n",
       "      <th>Grace</th>\n",
       "      <td>511</td>\n",
       "      <td></td>\n",
       "      <td></td>\n",
       "    </tr>\n",
       "    <tr>\n",
       "      <th>Heidi</th>\n",
       "      <td></td>\n",
       "      <td>523</td>\n",
       "      <td>532</td>\n",
       "    </tr>\n",
       "    <tr>\n",
       "      <th>Ivan</th>\n",
       "      <td>511</td>\n",
       "      <td></td>\n",
       "      <td>532</td>\n",
       "    </tr>\n",
       "    <tr>\n",
       "      <th>Judy</th>\n",
       "      <td>542</td>\n",
       "      <td>531</td>\n",
       "      <td></td>\n",
       "    </tr>\n",
       "  </tbody>\n",
       "</table>\n",
       "</div>"
      ],
      "text/plain": [
       "         1    2    3\n",
       "Alice            571\n",
       "Bob    551  531  561\n",
       "Carol  551  552  571\n",
       "Chuck  542  523  561\n",
       "Dan    521  552     \n",
       "Erin        512  513\n",
       "Faith  521  512  513\n",
       "Grace  511          \n",
       "Heidi       523  532\n",
       "Ivan   511       532\n",
       "Judy   542  531     "
      ]
     },
     "execution_count": 42,
     "metadata": {},
     "output_type": "execute_result"
    }
   ],
   "source": [
    "out_df_by_TA = pd.DataFrame(\"\", index=TAs, columns=blocks)\n",
    "for TA in TAs:\n",
    "    for course in courses:\n",
    "        if pulp.value(x[TA][course]) == 1:\n",
    "            out_df_by_TA.at[TA, courses_df.loc[course][\"block\"]] = course\n",
    "out_df_by_TA"
   ]
  },
  {
   "cell_type": "code",
   "execution_count": 43,
   "metadata": {},
   "outputs": [
    {
     "name": "stdout",
     "output_type": "stream",
     "text": [
      "511: Grace, Ivan, \n",
      "521: Dan, Faith, \n",
      "542: Chuck, Judy, \n",
      "551: Bob, Carol, \n",
      "512: Erin, Faith, \n",
      "523: Chuck, Heidi, \n",
      "531: Bob, Judy, \n",
      "552: Carol, Dan, \n",
      "513: Erin, Faith, \n",
      "561: Bob, Chuck, \n",
      "571: Alice, Carol, \n",
      "532: Heidi, Ivan, \n"
     ]
    }
   ],
   "source": [
    "for course in courses:\n",
    "    print(course, end=\": \")\n",
    "    for TA in TAs:\n",
    "        if pulp.value(x[TA][course]) == 1:\n",
    "            print(TA, end=', ')\n",
    "    print(\"\")"
   ]
  },
  {
   "cell_type": "code",
   "execution_count": 44,
   "metadata": {},
   "outputs": [
    {
     "name": "stdout",
     "output_type": "stream",
     "text": [
      "Grace   is enthusiastic about DSCI 511!\n",
      "Ivan    is enthusiastic about DSCI 511!\n",
      "Dan     is enthusiastic about DSCI 521!\n",
      "Faith   is enthusiastic about DSCI 521!\n",
      "Chuck   is enthusiastic about DSCI 542!\n",
      "Judy    is enthusiastic about DSCI 542!\n",
      "Bob     is enthusiastic about DSCI 551!\n",
      "Carol   is enthusiastic about DSCI 551!\n",
      "Erin    is enthusiastic about DSCI 512!\n",
      "Faith   is enthusiastic about DSCI 512!\n",
      "Chuck   is enthusiastic about DSCI 523!\n",
      "Heidi   is enthusiastic about DSCI 523!\n",
      "Judy    is enthusiastic about DSCI 531!\n",
      "Carol   is enthusiastic about DSCI 552!\n",
      "Dan     is enthusiastic about DSCI 552!\n",
      "Erin    is enthusiastic about DSCI 513!\n",
      "Faith   is enthusiastic about DSCI 513!\n",
      "Bob     is enthusiastic about DSCI 561!\n",
      "Alice   is enthusiastic about DSCI 571!\n",
      "Carol   is enthusiastic about DSCI 571!\n",
      "Heidi   is enthusiastic about DSCI 532!\n"
     ]
    }
   ],
   "source": [
    "# Enthusiastic courses\n",
    "for course in courses:\n",
    "    for TA in TAs:\n",
    "        if pulp.value(x[TA][course]) == 1 and course in TAs_df.loc[TA][\"enthusiastic\"]:\n",
    "            print(\"%-7s is enthusiastic about DSCI %d!\" % (TA, course))"
   ]
  },
  {
   "cell_type": "markdown",
   "metadata": {},
   "source": [
    "#### What they actually do for MDS TAs:\n",
    "\n",
    "- Match TA programming language proficiency with courses.\n",
    "- Respect TA preferences on max or min number of courses (e.g. 1-2 courses, exactly 3 courses, etc).\n",
    "- Allow the script to under/over staff if necessary (big term in the objective).\n",
    "- And more!\n"
   ]
  },
  {
   "cell_type": "markdown",
   "metadata": {},
   "source": [
    "## Types of discrete optimization problems\n",
    "\n",
    "- We tend to classify discrete optimization problems into different types, based on the tricks we can use to solve them.\n",
    "- For example, some tough optimization problems are said to be [NP-complete](https://en.wikipedia.org/wiki/NP-completeness). We won't go into detail here, but it's related to the idea that you have to use brute force.\n",
    "- Other optimization problems are called _linear_. Discrete optimization problems that are linear are called [integer linear programs](https://en.wikipedia.org/wiki/Integer_programming). \n",
    "  - There is a technical definition of linear optimization problems, but in short the objective and constraints must be linear functions of the inputs. \n",
    "  - In Python, we can conveniently solve linear optimization problems using the [PuLP](https://pythonhosted.org/PuLP/) package.\n",
    "  - The way these solvers work is outside the scope of MDS.\n",
    "- In general, if your optimization problem falls into a more restrictive class of problems, there are probably tools to solve them faster. \n",
    "- Next class we'll talk about another class of problems that can be solved fast, using \"dynamic programming\"."
   ]
  },
  {
   "cell_type": "markdown",
   "metadata": {},
   "source": [
    "## T/F questions\n",
    "\n",
    "1. A solver will violate the constraints if this results in huge gains for the objective function.\n",
    "2. All discrete optimization problems have unique solution.\n",
    "3. All discrete optimization problems have a solution.\n",
    "4. PuLP can be use to solve any optimization problem, but it may be very slow for some problems."
   ]
  },
  {
   "cell_type": "code",
   "execution_count": null,
   "metadata": {},
   "outputs": [],
   "source": []
  }
 ],
 "metadata": {
  "kernelspec": {
   "display_name": "Python 3",
   "language": "python",
   "name": "python3"
  },
  "language_info": {
   "codemirror_mode": {
    "name": "ipython",
    "version": 3
   },
   "file_extension": ".py",
   "mimetype": "text/x-python",
   "name": "python",
   "nbconvert_exporter": "python",
   "pygments_lexer": "ipython3",
   "version": "3.6.5"
  }
 },
 "nbformat": 4,
 "nbformat_minor": 4
}
