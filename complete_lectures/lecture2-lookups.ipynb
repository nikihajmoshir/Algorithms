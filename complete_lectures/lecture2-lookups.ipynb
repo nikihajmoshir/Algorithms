{
 "cells": [
  {
   "cell_type": "markdown",
   "metadata": {},
   "source": [
    "# DSCI 512 Lecture 2: Lookups\n"
   ]
  },
  {
   "cell_type": "markdown",
   "metadata": {},
   "source": [
    "- Linear search and binary search intro\n",
    "- Code timings \n",
    "- Sorting\n",
    "- Hash tables, hash functions \n",
    "- T/F questions"
   ]
  },
  {
   "cell_type": "markdown",
   "metadata": {},
   "source": [
    "## Linear search and binary search intro"
   ]
  },
  {
   "cell_type": "markdown",
   "metadata": {},
   "source": [
    "Today we are going to focus on finding things. Let's start with the simpliest way of finding something in a list with unknown contents: just iterating through it."
   ]
  },
  {
   "cell_type": "code",
   "execution_count": 3,
   "metadata": {},
   "outputs": [],
   "source": [
    "def search_unsorted(data, key):\n",
    "    \"\"\"\n",
    "    Searches the key in data using linear search \n",
    "    and returns True if found and False otherwise. \n",
    "    \n",
    "    Arguments:\n",
    "    data -- (list) the elements to search within\n",
    "    key -- (int) the key to search for\n",
    "    \"\"\"\n",
    "    # my code here\n",
    "    for element in data:\n",
    "        if element == key:\n",
    "            return True\n",
    "    return False\n",
    "    # my code here\n"
   ]
  },
  {
   "cell_type": "code",
   "execution_count": 4,
   "metadata": {},
   "outputs": [
    {
     "name": "stdout",
     "output_type": "stream",
     "text": [
      "Success\n"
     ]
    }
   ],
   "source": [
    "# Some tests\n",
    "\n",
    "# key is the first element in the list\n",
    "assert search_unsorted([4,7,9,-12,1000], 4)\n",
    "\n",
    "# key is the last element in the list\n",
    "assert search_unsorted([4,7,9,-12,1000], 1000)\n",
    "\n",
    "# key occurs multiple times in the list\n",
    "assert search_unsorted([4,7,9,-12,4,1000], 4)\n",
    "\n",
    "# key is larger than the largest element in the list\n",
    "assert not search_unsorted([4,7,9,-12,1000], 2000)\n",
    "\n",
    "# key is smaller than the smallest element in the list\n",
    "assert not search_unsorted([4,7,9,-12,1000], -18)\n",
    "\n",
    "# nothing is in an empty list\n",
    "assert not search_unsorted([], 1)\n",
    "print(\"Success\")"
   ]
  },
  {
   "cell_type": "markdown",
   "metadata": {},
   "source": [
    "**Question:** What is the time complexity of the `search_unsorted`, as a function of the length of the list, $n$? "
   ]
  },
  {
   "cell_type": "markdown",
   "metadata": {},
   "source": [
    "**Answer:** <span style=\"background-color:black;\">The time complexity of the *search_unsorted* function is $O(n)$ because in the worst case the function loops over $n$ elements.</span>"
   ]
  },
  {
   "cell_type": "markdown",
   "metadata": {},
   "source": [
    "Now let's doing something more clever. If we happen to know that our input is sorted, we can search in a better way"
   ]
  },
  {
   "cell_type": "code",
   "execution_count": 5,
   "metadata": {},
   "outputs": [],
   "source": [
    "def search_sorted(data, key):\n",
    "    \"\"\"\n",
    "    Searches the key in data using binary search \n",
    "    and returns True if found and False otherwise. \n",
    "    \n",
    "    Arguments\n",
    "    data -- (list) the elements to search within\n",
    "    key -- (int) the key to search for\n",
    "    \"\"\"\n",
    "    low = 0 \n",
    "    high = len(data) - 1 \n",
    "    #my code here\n",
    "    while (low <= high):\n",
    "        mid = (high + low)//2\n",
    "        if data[mid] == key:\n",
    "            return True\n",
    "        if key < data[mid]:\n",
    "            high = mid - 1\n",
    "        else:\n",
    "            low = mid + 1\n",
    "    return False\n",
    "    #my code here"
   ]
  },
  {
   "cell_type": "code",
   "execution_count": 6,
   "metadata": {},
   "outputs": [],
   "source": [
    "data = [-12,4,7,9,45,45,987,1000,2000]"
   ]
  },
  {
   "cell_type": "code",
   "execution_count": 7,
   "metadata": {},
   "outputs": [
    {
     "name": "stdout",
     "output_type": "stream",
     "text": [
      "Success\n"
     ]
    }
   ],
   "source": [
    "# Test cases for binary search\n",
    "\n",
    "# key is the first element in the list\n",
    "assert search_sorted(data, -12) == True\n",
    "\n",
    "# key is the last element in the list\n",
    "assert search_sorted(data, 2000) == True\n",
    "\n",
    "# key occurs multiple times in the list\n",
    "assert search_sorted(data, 45) == True\n",
    "\n",
    "# key is larger than the largest element in the list\n",
    "assert search_sorted(data, 3000) == False\n",
    "\n",
    "# key is smaller than the smallest element in the list\n",
    "assert search_sorted(data, -18) == False\n",
    "\n",
    "# nothing is in an empty list\n",
    "assert search_unsorted([], 1) == False\n",
    "print(\"Success\")"
   ]
  },
  {
   "cell_type": "markdown",
   "metadata": {},
   "source": [
    "**Question:** What is the time complexity of the `search_sorted`, as a function of the length of the list, $n$? "
   ]
  },
  {
   "cell_type": "markdown",
   "metadata": {},
   "source": [
    "**Answer:** <span style=\"background-color:black;\"> The time complexity of the *search_sorted* function is $O(\\log n)$ because in the worst case, the function loops over $\\log_2 n$ elements, as the search space reduces by half in each iteration of the loop. </span>"
   ]
  },
  {
   "cell_type": "markdown",
   "metadata": {},
   "source": [
    "**Question:** What happens if you call `search_unsorted` on sorted data? What happens if you call `search_sorted` on unsorted data?"
   ]
  },
  {
   "cell_type": "markdown",
   "metadata": {},
   "source": [
    "**Answer:** The `search_unsorted` function does not care about whether the data is sorted or not. In both cases, it sequentially searches for the key and returns `True` when it is found. The `search_sorted` function, on the other hand, is based on the assumption that the data is sorted in ascending order and you might miss the element you are looking for if called on unsorted data. In binary search, whenever we are in a position, all elements on the left are less than (or equal to in cases where values occur multiple times in the data) the element at the position and all elements on the right are greater than the element at the position, which is helpful in deciding which part of the list the next search should happen.   \n",
    "\n",
    "For example:"
   ]
  },
  {
   "cell_type": "code",
   "execution_count": 8,
   "metadata": {},
   "outputs": [
    {
     "data": {
      "text/plain": [
       "False"
      ]
     },
     "execution_count": 8,
     "metadata": {},
     "output_type": "execute_result"
    }
   ],
   "source": [
    "search_sorted([3,2,1], 1)"
   ]
  },
  {
   "cell_type": "markdown",
   "metadata": {},
   "source": [
    "**Question:** Why doesn't the `search_sorted` function start by verifying that the list is indeed sorted?"
   ]
  },
  {
   "cell_type": "markdown",
   "metadata": {},
   "source": [
    "**Answer:** <span style=\"background-color:black;\"> because this would take $O(n)$ time, defeating the purpose of the $O(\\log\\, n)$ lookup. </span>"
   ]
  },
  {
   "cell_type": "markdown",
   "metadata": {},
   "source": [
    "## Code timing\n",
    "\n",
    "Below we empirically measure the running times of `search_unsorted` and `search_sorted`. "
   ]
  },
  {
   "cell_type": "code",
   "execution_count": 18,
   "metadata": {},
   "outputs": [
    {
     "name": "stdout",
     "output_type": "stream",
     "text": [
      "List size:  100\n",
      "List size:  1000\n",
      "List size:  10000\n",
      "List size:  100000\n",
      "List size:  1000000\n",
      "List size:  10000000\n"
     ]
    }
   ],
   "source": [
    "import numpy as np\n",
    "import pandas as pd\n",
    "from collections import defaultdict\n",
    "\n",
    "list_sizes = [100, 1000, 10000, 100000, 1000000, 10000000]\n",
    "\n",
    "results = defaultdict(list)\n",
    "results[\"size\"] = list_sizes\n",
    "\n",
    "key = -1\n",
    "\n",
    "for list_size in list_sizes:\n",
    "    print('List size: ', list_size) \n",
    "    x = np.random.randint(1e8, size=list_size)\n",
    "    \n",
    "    time = %timeit -q -o -r 1 search_unsorted(x, key)\n",
    "    results[\"Unsorted list linear\"].append(time.average)\n",
    "    # Note: -q prevents it from printing to the terminal\n",
    "    #       -o sends the result to a variable (average time in seconds)\n",
    "    #       -r 3 makes it average only 3 trials instead of the default of 7, which saves time\n",
    "\n",
    "    time = %timeit -q -o -r 1 (key in x)\n",
    "    results[\"Unsorted list in\"].append(time.average)\n",
    "\n",
    "    x.sort()\n",
    "    time = %timeit -q -o -r 1 search_sorted(x, key)\n",
    "    results[\"Sorted list binary\"].append(time.average)\n",
    "    \n",
    "    x_set = set(x)\n",
    "    time = %timeit -q -o -r 1 (key in x_set)\n",
    "    results[\"Python set in\"].append(time.average)"
   ]
  },
  {
   "cell_type": "code",
   "execution_count": 19,
   "metadata": {},
   "outputs": [
    {
     "data": {
      "text/html": [
       "<div>\n",
       "<style scoped>\n",
       "    .dataframe tbody tr th:only-of-type {\n",
       "        vertical-align: middle;\n",
       "    }\n",
       "\n",
       "    .dataframe tbody tr th {\n",
       "        vertical-align: top;\n",
       "    }\n",
       "\n",
       "    .dataframe thead th {\n",
       "        text-align: right;\n",
       "    }\n",
       "</style>\n",
       "<table border=\"1\" class=\"dataframe\">\n",
       "  <thead>\n",
       "    <tr style=\"text-align: right;\">\n",
       "      <th></th>\n",
       "      <th>size</th>\n",
       "      <th>Unsorted list linear</th>\n",
       "      <th>Unsorted list in</th>\n",
       "      <th>Sorted list binary</th>\n",
       "      <th>Python set in</th>\n",
       "    </tr>\n",
       "  </thead>\n",
       "  <tbody>\n",
       "    <tr>\n",
       "      <th>0</th>\n",
       "      <td>100</td>\n",
       "      <td>0.000026</td>\n",
       "      <td>0.000003</td>\n",
       "      <td>0.000005</td>\n",
       "      <td>4.511673e-08</td>\n",
       "    </tr>\n",
       "    <tr>\n",
       "      <th>1</th>\n",
       "      <td>1000</td>\n",
       "      <td>0.000260</td>\n",
       "      <td>0.000004</td>\n",
       "      <td>0.000007</td>\n",
       "      <td>4.631481e-08</td>\n",
       "    </tr>\n",
       "    <tr>\n",
       "      <th>2</th>\n",
       "      <td>10000</td>\n",
       "      <td>0.002780</td>\n",
       "      <td>0.000010</td>\n",
       "      <td>0.000009</td>\n",
       "      <td>3.863441e-08</td>\n",
       "    </tr>\n",
       "    <tr>\n",
       "      <th>3</th>\n",
       "      <td>100000</td>\n",
       "      <td>0.023517</td>\n",
       "      <td>0.000068</td>\n",
       "      <td>0.000013</td>\n",
       "      <td>4.601996e-08</td>\n",
       "    </tr>\n",
       "    <tr>\n",
       "      <th>4</th>\n",
       "      <td>1000000</td>\n",
       "      <td>0.243826</td>\n",
       "      <td>0.000708</td>\n",
       "      <td>0.000014</td>\n",
       "      <td>5.760749e-08</td>\n",
       "    </tr>\n",
       "    <tr>\n",
       "      <th>5</th>\n",
       "      <td>10000000</td>\n",
       "      <td>3.357646</td>\n",
       "      <td>0.010565</td>\n",
       "      <td>0.000018</td>\n",
       "      <td>4.619898e-08</td>\n",
       "    </tr>\n",
       "  </tbody>\n",
       "</table>\n",
       "</div>"
      ],
      "text/plain": [
       "       size  Unsorted list linear  Unsorted list in  Sorted list binary  \\\n",
       "0       100              0.000026          0.000003            0.000005   \n",
       "1      1000              0.000260          0.000004            0.000007   \n",
       "2     10000              0.002780          0.000010            0.000009   \n",
       "3    100000              0.023517          0.000068            0.000013   \n",
       "4   1000000              0.243826          0.000708            0.000014   \n",
       "5  10000000              3.357646          0.010565            0.000018   \n",
       "\n",
       "   Python set in  \n",
       "0   4.511673e-08  \n",
       "1   4.631481e-08  \n",
       "2   3.863441e-08  \n",
       "3   4.601996e-08  \n",
       "4   5.760749e-08  \n",
       "5   4.619898e-08  "
      ]
     },
     "execution_count": 19,
     "metadata": {},
     "output_type": "execute_result"
    }
   ],
   "source": [
    "df = pd.DataFrame(results, columns=list(results.keys()))\n",
    "df"
   ]
  },
  {
   "cell_type": "markdown",
   "metadata": {},
   "source": [
    "Are these consistent with the time complexities we expected?"
   ]
  },
  {
   "cell_type": "markdown",
   "metadata": {},
   "source": [
    "Reading runtimes from a table: what happens of $N$ becomes $10N$?\n",
    "\n",
    "- Linear: time $T$ goes up to $10T$\n",
    "- Logarithmic: time $T$ goes up to $T+\\Delta T$\n",
    "- Constant: time $T$ stays about the same"
   ]
  },
  {
   "cell_type": "code",
   "execution_count": 11,
   "metadata": {},
   "outputs": [],
   "source": [
    "import altair as alt"
   ]
  },
  {
   "cell_type": "code",
   "execution_count": 12,
   "metadata": {},
   "outputs": [
    {
     "data": {
      "text/plain": [
       "RendererRegistry.enable('notebook')"
      ]
     },
     "execution_count": 12,
     "metadata": {},
     "output_type": "execute_result"
    }
   ],
   "source": [
    "alt.renderers.enable('notebook')"
   ]
  },
  {
   "cell_type": "code",
   "execution_count": 20,
   "metadata": {},
   "outputs": [
    {
     "data": {
      "application/javascript": [
       "var spec = {\"config\": {\"view\": {\"width\": 400, \"height\": 300}, \"mark\": {\"tooltip\": null}}, \"data\": {\"name\": \"data-4220b17316eb4c935b7a5b70646ccc79\"}, \"mark\": \"line\", \"encoding\": {\"x\": {\"type\": \"quantitative\", \"field\": \"size\"}, \"y\": {\"type\": \"quantitative\", \"field\": \"Unsorted list linear\"}}, \"$schema\": \"https://vega.github.io/schema/vega-lite/v3.4.0.json\", \"datasets\": {\"data-4220b17316eb4c935b7a5b70646ccc79\": [{\"size\": 100, \"Unsorted list linear\": 2.6002710000011575e-05, \"Unsorted list in\": 2.640748999999687e-06, \"Sorted list binary\": 5.019904999999198e-06, \"Python set in\": 4.511672999999519e-08}, {\"size\": 1000, \"Unsorted list linear\": 0.00025975180000000365, \"Unsorted list in\": 3.5817599999995764e-06, \"Sorted list binary\": 7.4721780000004405e-06, \"Python set in\": 4.631480999998985e-08}, {\"size\": 10000, \"Unsorted list linear\": 0.002779815999999755, \"Unsorted list in\": 1.016818899999862e-05, \"Sorted list binary\": 9.306148000000576e-06, \"Python set in\": 3.8634410000008754e-08}, {\"size\": 100000, \"Unsorted list linear\": 0.023517330000004222, \"Unsorted list in\": 6.824246999999559e-05, \"Sorted list binary\": 1.2685457999998561e-05, \"Python set in\": 4.601996000001236e-08}, {\"size\": 1000000, \"Unsorted list linear\": 0.24382629999990968, \"Unsorted list in\": 0.0007082209999998667, \"Sorted list binary\": 1.3747344000000795e-05, \"Python set in\": 5.760749000000942e-08}, {\"size\": 10000000, \"Unsorted list linear\": 3.3576463000001695, \"Unsorted list in\": 0.010564577999998619, \"Sorted list binary\": 1.820098299999927e-05, \"Python set in\": 4.619898000000831e-08}]}};\n",
       "var opt = {};\n",
       "var type = \"vega-lite\";\n",
       "var id = \"628cb1b2-6930-4131-9eaa-ade2d13e75a2\";\n",
       "\n",
       "var output_area = this;\n",
       "\n",
       "require([\"nbextensions/jupyter-vega/index\"], function(vega) {\n",
       "  var target = document.createElement(\"div\");\n",
       "  target.id = id;\n",
       "  target.className = \"vega-embed\";\n",
       "\n",
       "  var style = document.createElement(\"style\");\n",
       "  style.textContent = [\n",
       "    \".vega-embed .error p {\",\n",
       "    \"  color: firebrick;\",\n",
       "    \"  font-size: 14px;\",\n",
       "    \"}\",\n",
       "  ].join(\"\\\\n\");\n",
       "\n",
       "  // element is a jQuery wrapped DOM element inside the output area\n",
       "  // see http://ipython.readthedocs.io/en/stable/api/generated/\\\n",
       "  // IPython.display.html#IPython.display.Javascript.__init__\n",
       "  element[0].appendChild(target);\n",
       "  element[0].appendChild(style);\n",
       "\n",
       "  vega.render(\"#\" + id, spec, type, opt, output_area);\n",
       "}, function (err) {\n",
       "  if (err.requireType !== \"scripterror\") {\n",
       "    throw(err);\n",
       "  }\n",
       "});\n"
      ],
      "text/plain": [
       "<vega.vegalite.VegaLite at 0x2396a4c8780>"
      ]
     },
     "metadata": {
      "jupyter-vega": "#628cb1b2-6930-4131-9eaa-ade2d13e75a2"
     },
     "output_type": "display_data"
    },
    {
     "data": {
      "text/plain": []
     },
     "execution_count": 20,
     "metadata": {},
     "output_type": "execute_result"
    },
    {
     "data": {
      "image/png": "[encoded data removed]"
     },
     "metadata": {
      "jupyter-vega": "#628cb1b2-6930-4131-9eaa-ade2d13e75a2"
     },
     "output_type": "display_data"
    }
   ],
   "source": [
    "alt.Chart(df).mark_line().encode(\n",
    "    x='size',\n",
    "    y='Unsorted list linear'\n",
    ")"
   ]
  },
  {
   "cell_type": "code",
   "execution_count": 21,
   "metadata": {},
   "outputs": [
    {
     "data": {
      "application/javascript": [
       "var spec = {\"config\": {\"view\": {\"width\": 400, \"height\": 300}, \"mark\": {\"tooltip\": null}, \"axis\": {\"grid\": false}}, \"data\": {\"name\": \"data-cd32cca50b0812f74ccb4b657aa29a54\"}, \"mark\": \"line\", \"encoding\": {\"color\": {\"type\": \"nominal\", \"field\": \"method\"}, \"x\": {\"type\": \"quantitative\", \"field\": \"size\", \"scale\": {\"type\": \"log\"}}, \"y\": {\"type\": \"quantitative\", \"field\": \"time (s)\", \"scale\": {\"type\": \"log\"}}}, \"$schema\": \"https://vega.github.io/schema/vega-lite/v3.4.0.json\", \"datasets\": {\"data-cd32cca50b0812f74ccb4b657aa29a54\": [{\"size\": 100, \"method\": \"Unsorted list linear\", \"time (s)\": 2.6002710000011575e-05}, {\"size\": 1000, \"method\": \"Unsorted list linear\", \"time (s)\": 0.00025975180000000365}, {\"size\": 10000, \"method\": \"Unsorted list linear\", \"time (s)\": 0.002779815999999755}, {\"size\": 100000, \"method\": \"Unsorted list linear\", \"time (s)\": 0.023517330000004222}, {\"size\": 1000000, \"method\": \"Unsorted list linear\", \"time (s)\": 0.24382629999990968}, {\"size\": 10000000, \"method\": \"Unsorted list linear\", \"time (s)\": 3.3576463000001695}, {\"size\": 100, \"method\": \"Unsorted list in\", \"time (s)\": 2.640748999999687e-06}, {\"size\": 1000, \"method\": \"Unsorted list in\", \"time (s)\": 3.5817599999995764e-06}, {\"size\": 10000, \"method\": \"Unsorted list in\", \"time (s)\": 1.016818899999862e-05}, {\"size\": 100000, \"method\": \"Unsorted list in\", \"time (s)\": 6.824246999999559e-05}, {\"size\": 1000000, \"method\": \"Unsorted list in\", \"time (s)\": 0.0007082209999998667}, {\"size\": 10000000, \"method\": \"Unsorted list in\", \"time (s)\": 0.010564577999998619}, {\"size\": 100, \"method\": \"Sorted list binary\", \"time (s)\": 5.019904999999198e-06}, {\"size\": 1000, \"method\": \"Sorted list binary\", \"time (s)\": 7.4721780000004405e-06}, {\"size\": 10000, \"method\": \"Sorted list binary\", \"time (s)\": 9.306148000000576e-06}, {\"size\": 100000, \"method\": \"Sorted list binary\", \"time (s)\": 1.2685457999998561e-05}, {\"size\": 1000000, \"method\": \"Sorted list binary\", \"time (s)\": 1.3747344000000795e-05}, {\"size\": 10000000, \"method\": \"Sorted list binary\", \"time (s)\": 1.820098299999927e-05}, {\"size\": 100, \"method\": \"Python set in\", \"time (s)\": 4.511672999999519e-08}, {\"size\": 1000, \"method\": \"Python set in\", \"time (s)\": 4.631480999998985e-08}, {\"size\": 10000, \"method\": \"Python set in\", \"time (s)\": 3.8634410000008754e-08}, {\"size\": 100000, \"method\": \"Python set in\", \"time (s)\": 4.601996000001236e-08}, {\"size\": 1000000, \"method\": \"Python set in\", \"time (s)\": 5.760749000000942e-08}, {\"size\": 10000000, \"method\": \"Python set in\", \"time (s)\": 4.619898000000831e-08}]}};\n",
       "var opt = {};\n",
       "var type = \"vega-lite\";\n",
       "var id = \"5ccacabd-9b8b-4aa5-8727-6df9d612698c\";\n",
       "\n",
       "var output_area = this;\n",
       "\n",
       "require([\"nbextensions/jupyter-vega/index\"], function(vega) {\n",
       "  var target = document.createElement(\"div\");\n",
       "  target.id = id;\n",
       "  target.className = \"vega-embed\";\n",
       "\n",
       "  var style = document.createElement(\"style\");\n",
       "  style.textContent = [\n",
       "    \".vega-embed .error p {\",\n",
       "    \"  color: firebrick;\",\n",
       "    \"  font-size: 14px;\",\n",
       "    \"}\",\n",
       "  ].join(\"\\\\n\");\n",
       "\n",
       "  // element is a jQuery wrapped DOM element inside the output area\n",
       "  // see http://ipython.readthedocs.io/en/stable/api/generated/\\\n",
       "  // IPython.display.html#IPython.display.Javascript.__init__\n",
       "  element[0].appendChild(target);\n",
       "  element[0].appendChild(style);\n",
       "\n",
       "  vega.render(\"#\" + id, spec, type, opt, output_area);\n",
       "}, function (err) {\n",
       "  if (err.requireType !== \"scripterror\") {\n",
       "    throw(err);\n",
       "  }\n",
       "});\n"
      ],
      "text/plain": [
       "<vega.vegalite.VegaLite at 0x2396a4cf160>"
      ]
     },
     "metadata": {
      "jupyter-vega": "#5ccacabd-9b8b-4aa5-8727-6df9d612698c"
     },
     "output_type": "display_data"
    },
    {
     "data": {
      "text/plain": []
     },
     "execution_count": 21,
     "metadata": {},
     "output_type": "execute_result"
    },
    {
     "data": {
      "image/png": "[encoded data removed]"
     },
     "metadata": {
      "jupyter-vega": "#5ccacabd-9b8b-4aa5-8727-6df9d612698c"
     },
     "output_type": "display_data"
    }
   ],
   "source": [
    "df_long = pd.melt(df, id_vars=\"size\", var_name=\"method\", value_name=\"time (s)\")\n",
    "\n",
    "alt.Chart(df_long).mark_line().encode(\n",
    "    alt.X('size', scale=alt.Scale(type='log')),\n",
    "    alt.Y('time (s)', scale=alt.Scale(type='log')),\n",
    "    color='method'\n",
    ").configure_axis(grid=False)"
   ]
  },
  {
   "cell_type": "markdown",
   "metadata": {},
   "source": [
    "Note that the `binary_search` we wrote is actually slower than the linear search using `in` when the list is smaller than $10,000$ elements. Remember, big-O is just an \"asymptotic\" trend. There could be:\n",
    "\n",
    "- Large/small constants, like $10\\log(n)$ vs. $100000\\log(n)$.\n",
    "- \"Lower order terms\", like $\\log(n)+1$ vs. $\\log(n)+100000$.\n",
    "\n",
    "In this case what we are seeing is perhaps more attributable to the former; the individual steps of our binary search function are almost certainly slower than the individual steps occuring when we use `in` (Why?)"
   ]
  },
  {
   "cell_type": "markdown",
   "metadata": {},
   "source": [
    "We can compare just the faster methods, to see the difference:"
   ]
  },
  {
   "cell_type": "code",
   "execution_count": 22,
   "metadata": {},
   "outputs": [
    {
     "data": {
      "application/javascript": [
       "var spec = {\"config\": {\"view\": {\"width\": 400, \"height\": 300}, \"mark\": {\"tooltip\": null}, \"axis\": {\"grid\": false}}, \"data\": {\"name\": \"data-b50e572bca5aa8b09ecc0777a418a1c1\"}, \"mark\": \"line\", \"encoding\": {\"color\": {\"type\": \"nominal\", \"field\": \"method\"}, \"x\": {\"type\": \"quantitative\", \"field\": \"size\", \"scale\": {\"type\": \"log\"}}, \"y\": {\"type\": \"quantitative\", \"field\": \"time (s)\"}}, \"$schema\": \"https://vega.github.io/schema/vega-lite/v3.4.0.json\", \"datasets\": {\"data-b50e572bca5aa8b09ecc0777a418a1c1\": [{\"size\": 100, \"method\": \"Sorted list binary\", \"time (s)\": 5.019904999999198e-06}, {\"size\": 1000, \"method\": \"Sorted list binary\", \"time (s)\": 7.4721780000004405e-06}, {\"size\": 10000, \"method\": \"Sorted list binary\", \"time (s)\": 9.306148000000576e-06}, {\"size\": 100000, \"method\": \"Sorted list binary\", \"time (s)\": 1.2685457999998561e-05}, {\"size\": 1000000, \"method\": \"Sorted list binary\", \"time (s)\": 1.3747344000000795e-05}, {\"size\": 10000000, \"method\": \"Sorted list binary\", \"time (s)\": 1.820098299999927e-05}, {\"size\": 100, \"method\": \"Python set in\", \"time (s)\": 4.511672999999519e-08}, {\"size\": 1000, \"method\": \"Python set in\", \"time (s)\": 4.631480999998985e-08}, {\"size\": 10000, \"method\": \"Python set in\", \"time (s)\": 3.8634410000008754e-08}, {\"size\": 100000, \"method\": \"Python set in\", \"time (s)\": 4.601996000001236e-08}, {\"size\": 1000000, \"method\": \"Python set in\", \"time (s)\": 5.760749000000942e-08}, {\"size\": 10000000, \"method\": \"Python set in\", \"time (s)\": 4.619898000000831e-08}]}};\n",
       "var opt = {};\n",
       "var type = \"vega-lite\";\n",
       "var id = \"775ab1df-e6f1-4cf3-966a-b8ecde9a771b\";\n",
       "\n",
       "var output_area = this;\n",
       "\n",
       "require([\"nbextensions/jupyter-vega/index\"], function(vega) {\n",
       "  var target = document.createElement(\"div\");\n",
       "  target.id = id;\n",
       "  target.className = \"vega-embed\";\n",
       "\n",
       "  var style = document.createElement(\"style\");\n",
       "  style.textContent = [\n",
       "    \".vega-embed .error p {\",\n",
       "    \"  color: firebrick;\",\n",
       "    \"  font-size: 14px;\",\n",
       "    \"}\",\n",
       "  ].join(\"\\\\n\");\n",
       "\n",
       "  // element is a jQuery wrapped DOM element inside the output area\n",
       "  // see http://ipython.readthedocs.io/en/stable/api/generated/\\\n",
       "  // IPython.display.html#IPython.display.Javascript.__init__\n",
       "  element[0].appendChild(target);\n",
       "  element[0].appendChild(style);\n",
       "\n",
       "  vega.render(\"#\" + id, spec, type, opt, output_area);\n",
       "}, function (err) {\n",
       "  if (err.requireType !== \"scripterror\") {\n",
       "    throw(err);\n",
       "  }\n",
       "});\n"
      ],
      "text/plain": [
       "<vega.vegalite.VegaLite at 0x239690694e0>"
      ]
     },
     "metadata": {
      "jupyter-vega": "#775ab1df-e6f1-4cf3-966a-b8ecde9a771b"
     },
     "output_type": "display_data"
    },
    {
     "data": {
      "text/plain": []
     },
     "execution_count": 22,
     "metadata": {},
     "output_type": "execute_result"
    },
    {
     "data": {
      "image/png": "[encoded data removed]"
     },
     "metadata": {
      "jupyter-vega": "#775ab1df-e6f1-4cf3-966a-b8ecde9a771b"
     },
     "output_type": "display_data"
    }
   ],
   "source": [
    "df_long = pd.melt(df[[\"size\", \"Sorted list binary\", \"Python set in\"]],\n",
    "                      id_vars=\"size\", var_name=\"method\", value_name=\"time (s)\")\n",
    "\n",
    "alt.Chart(df_long).mark_line().encode(\n",
    "    alt.X('size', scale=alt.Scale(type='log')),\n",
    "    alt.Y('time (s)'),\n",
    "    color='method'\n",
    ").configure_axis(grid=False)"
   ]
  },
  {
   "cell_type": "markdown",
   "metadata": {},
   "source": [
    "We can see that the hash table really is constant, but the binary search is logarithmic - in the plot, time is linear in $\\log(N)$."
   ]
  },
  {
   "cell_type": "markdown",
   "metadata": {},
   "source": [
    "## Sorting"
   ]
  },
  {
   "cell_type": "markdown",
   "metadata": {},
   "source": [
    "- Sorting is a very popular topic in Algorithms and Data Structures courses\n",
    "- We'll start with insertion sort."
   ]
  },
  {
   "cell_type": "code",
   "execution_count": 3,
   "metadata": {},
   "outputs": [],
   "source": [
    "def insertion_sort(x):\n",
    "    \"\"\"Sorts x inplace using insertion sort.\"\"\"\n",
    "    \n",
    "    n = len(x)\n",
    "    \n",
    "    for i in range(n):\n",
    "        # Get the index of the smallest value from location i onward\n",
    "        # my code here\n",
    "        min_ind = i\n",
    "        for j in range(i+1, n):\n",
    "            if x[j] < x[min_ind]:\n",
    "                min_ind = j\n",
    "        x[i], x[min_ind] = x[min_ind], x[i] \n",
    "        # my code here\n",
    "        print(x)"
   ]
  },
  {
   "cell_type": "code",
   "execution_count": 6,
   "metadata": {},
   "outputs": [
    {
     "name": "stdout",
     "output_type": "stream",
     "text": [
      "[-12, 9, 1000, 4, 7]\n",
      "[-12, 4, 1000, 9, 7]\n",
      "[-12, 4, 7, 9, 1000]\n",
      "[-12, 4, 7, 9, 1000]\n",
      "[-12, 4, 7, 9, 1000]\n"
     ]
    },
    {
     "data": {
      "text/plain": [
       "[-12, 4, 7, 9, 1000]"
      ]
     },
     "execution_count": 6,
     "metadata": {},
     "output_type": "execute_result"
    }
   ],
   "source": [
    "x = [7, 9,1000,4,-12]\n",
    "insertion_sort(x)\n",
    "x"
   ]
  },
  {
   "cell_type": "markdown",
   "metadata": {},
   "source": [
    "**Question:** What is the time complexity of this method?"
   ]
  },
  {
   "cell_type": "markdown",
   "metadata": {},
   "source": [
    "**Answer:** $O(n^2)$, since there are 2 nested loops over the input. The actual number of steps is more like $n^2/2$."
   ]
  },
  {
   "cell_type": "markdown",
   "metadata": {},
   "source": [
    "- Can we do better than $O(n^2)$? \n",
    "\n",
    "**Question:** could we find a sorting algorithm that takes $\\log(n)$ time?"
   ]
  },
  {
   "cell_type": "markdown",
   "metadata": {},
   "source": [
    "**Answer:** no way, because it takes $n$ steps to even inspect every element of the input!"
   ]
  },
  {
   "cell_type": "markdown",
   "metadata": {},
   "source": [
    "- The real answer is that the best sorting algorithms are $n \\log(n)$ time. This is close enough to $O(n)$ that we should be very happy with the result. \n",
    "- We will look at  $n \\log(n)$ time algorithm [mergesort](https://www.geeksforgeeks.org/merge-sort/) in the next lecture. The built-in Python sort function uses an algorithm called [timsort](https://www.geeksforgeeks.org/timsort/), which is also $n \\log(n)$ and has the nice property that it is very fast for sorted or partially sorted lists"
   ]
  },
  {
   "cell_type": "markdown",
   "metadata": {},
   "source": [
    "## Hash tables, hash functions\n"
   ]
  },
  {
   "cell_type": "markdown",
   "metadata": {},
   "source": [
    "- Python's `set` type needs to support the following operations:\n",
    "  - inserting a new element\n",
    "  - deleting an element\n",
    "  - checking if an element is present"
   ]
  },
  {
   "cell_type": "markdown",
   "metadata": {},
   "source": [
    "How could we implement this using the tools we already have?\n",
    "\n",
    "- Well, what about using linear search to find elements, e.g. a `list`?\n",
    "  - This is too slow\n",
    "- What about using binary search?\n",
    "  - Now searching is fast, but insertion/deletion is slow, because we need to maintain an ordered list\n",
    "- Enter the [hash table](https://en.wikipedia.org/wiki/Hash_table) - to save the day!\n",
    "  - Trees could also work (see Lecture 4), but hash tables are the most popular.\n",
    "  \n",
    "#### Hash functions\n",
    "\n",
    "Python objects have a _hash_:"
   ]
  },
  {
   "cell_type": "code",
   "execution_count": 16,
   "metadata": {},
   "outputs": [
    {
     "data": {
      "text/plain": [
       "-5816527186066543490"
      ]
     },
     "execution_count": 16,
     "metadata": {},
     "output_type": "execute_result"
    }
   ],
   "source": [
    "hash(\"mds-cl\")"
   ]
  },
  {
   "cell_type": "code",
   "execution_count": 17,
   "metadata": {},
   "outputs": [
    {
     "data": {
      "text/plain": [
       "0"
      ]
     },
     "execution_count": 17,
     "metadata": {},
     "output_type": "execute_result"
    }
   ],
   "source": [
    "hash(\"\")"
   ]
  },
  {
   "cell_type": "markdown",
   "metadata": {},
   "source": [
    "Above: it looks like the hash function returns an integer."
   ]
  },
  {
   "cell_type": "code",
   "execution_count": 61,
   "metadata": {},
   "outputs": [
    {
     "data": {
      "text/plain": [
       "1152921504606846981"
      ]
     },
     "execution_count": 61,
     "metadata": {},
     "output_type": "execute_result"
    }
   ],
   "source": [
    "hash(5.5)"
   ]
  },
  {
   "cell_type": "code",
   "execution_count": 58,
   "metadata": {},
   "outputs": [
    {
     "data": {
      "text/plain": [
       "5"
      ]
     },
     "execution_count": 58,
     "metadata": {},
     "output_type": "execute_result"
    }
   ],
   "source": [
    "hash(5)"
   ]
  },
  {
   "cell_type": "code",
   "execution_count": 71,
   "metadata": {},
   "outputs": [
    {
     "data": {
      "text/plain": [
       "-9999"
      ]
     },
     "execution_count": 71,
     "metadata": {},
     "output_type": "execute_result"
    }
   ],
   "source": [
    "hash(-9999)"
   ]
  },
  {
   "cell_type": "markdown",
   "metadata": {},
   "source": [
    "Above: it looks like the hash function of a Python integer is itself. Or at least small enough integers."
   ]
  },
  {
   "cell_type": "code",
   "execution_count": 73,
   "metadata": {},
   "outputs": [
    {
     "data": {
      "text/plain": [
       "2003764205207330319"
      ]
     },
     "execution_count": 73,
     "metadata": {},
     "output_type": "execute_result"
    }
   ],
   "source": [
    "hash(999999999999999999999999)"
   ]
  },
  {
   "cell_type": "markdown",
   "metadata": {},
   "source": [
    "Sometimes it fails?"
   ]
  },
  {
   "cell_type": "code",
   "execution_count": 62,
   "metadata": {},
   "outputs": [
    {
     "ename": "TypeError",
     "evalue": "unhashable type: 'list'",
     "output_type": "error",
     "traceback": [
      "\u001b[0;31m---------------------------------------------------------------------------\u001b[0m",
      "\u001b[0;31mTypeError\u001b[0m                                 Traceback (most recent call last)",
      "\u001b[0;32m<ipython-input-62-35e31e935e9e>\u001b[0m in \u001b[0;36m<module>\u001b[0;34m\u001b[0m\n\u001b[0;32m----> 1\u001b[0;31m \u001b[0mhash\u001b[0m\u001b[0;34m(\u001b[0m\u001b[0;34m[\u001b[0m\u001b[0;36m1\u001b[0m\u001b[0;34m,\u001b[0m\u001b[0;36m2\u001b[0m\u001b[0;34m,\u001b[0m\u001b[0;36m3\u001b[0m\u001b[0;34m]\u001b[0m\u001b[0;34m)\u001b[0m\u001b[0;34m\u001b[0m\u001b[0;34m\u001b[0m\u001b[0m\n\u001b[0m",
      "\u001b[0;31mTypeError\u001b[0m: unhashable type: 'list'"
     ]
    }
   ],
   "source": [
    "hash([1,2,3])"
   ]
  },
  {
   "cell_type": "code",
   "execution_count": 63,
   "metadata": {},
   "outputs": [
    {
     "data": {
      "text/plain": [
       "2528502973977326415"
      ]
     },
     "execution_count": 63,
     "metadata": {},
     "output_type": "execute_result"
    }
   ],
   "source": [
    "hash((1,2,3))"
   ]
  },
  {
   "cell_type": "code",
   "execution_count": 64,
   "metadata": {},
   "outputs": [
    {
     "data": {
      "text/plain": [
       "-9223372036571420425"
      ]
     },
     "execution_count": 64,
     "metadata": {},
     "output_type": "execute_result"
    }
   ],
   "source": [
    "hash(None)"
   ]
  },
  {
   "cell_type": "markdown",
   "metadata": {},
   "source": [
    "If a Python `set` is a hash table (it is!), that means items in it must be hashable:"
   ]
  },
  {
   "cell_type": "code",
   "execution_count": 65,
   "metadata": {},
   "outputs": [],
   "source": [
    "s = set()"
   ]
  },
  {
   "cell_type": "code",
   "execution_count": 66,
   "metadata": {},
   "outputs": [],
   "source": [
    "s.add(5.5)"
   ]
  },
  {
   "cell_type": "code",
   "execution_count": 67,
   "metadata": {},
   "outputs": [],
   "source": [
    "s.add(\"mds\")"
   ]
  },
  {
   "cell_type": "code",
   "execution_count": 68,
   "metadata": {},
   "outputs": [
    {
     "ename": "TypeError",
     "evalue": "unhashable type: 'list'",
     "output_type": "error",
     "traceback": [
      "\u001b[0;31m---------------------------------------------------------------------------\u001b[0m",
      "\u001b[0;31mTypeError\u001b[0m                                 Traceback (most recent call last)",
      "\u001b[0;32m<ipython-input-68-34448ddb2cf0>\u001b[0m in \u001b[0;36m<module>\u001b[0;34m\u001b[0m\n\u001b[0;32m----> 1\u001b[0;31m \u001b[0ms\u001b[0m\u001b[0;34m.\u001b[0m\u001b[0madd\u001b[0m\u001b[0;34m(\u001b[0m\u001b[0;34m[\u001b[0m\u001b[0;36m1\u001b[0m\u001b[0;34m,\u001b[0m\u001b[0;36m2\u001b[0m\u001b[0;34m,\u001b[0m\u001b[0;36m3\u001b[0m\u001b[0;34m]\u001b[0m\u001b[0;34m)\u001b[0m\u001b[0;34m\u001b[0m\u001b[0;34m\u001b[0m\u001b[0m\n\u001b[0m",
      "\u001b[0;31mTypeError\u001b[0m: unhashable type: 'list'"
     ]
    }
   ],
   "source": [
    "s.add([1,2,3])"
   ]
  },
  {
   "cell_type": "code",
   "execution_count": 69,
   "metadata": {},
   "outputs": [],
   "source": [
    "s.add((1,2,3))"
   ]
  },
  {
   "cell_type": "code",
   "execution_count": 70,
   "metadata": {},
   "outputs": [
    {
     "data": {
      "text/plain": [
       "{(1, 2, 3), 5.5, 'mds'}"
      ]
     },
     "execution_count": 70,
     "metadata": {},
     "output_type": "execute_result"
    }
   ],
   "source": [
    "s"
   ]
  },
  {
   "cell_type": "markdown",
   "metadata": {},
   "source": [
    "Note also that order is not preserved in the set. "
   ]
  },
  {
   "cell_type": "markdown",
   "metadata": {},
   "source": [
    "In general, mutable objects are not hashable."
   ]
  },
  {
   "cell_type": "markdown",
   "metadata": {},
   "source": [
    "#### Hash tables\n",
    "\n",
    "- So, it looks like the hash function maps from an object to an integer.\n",
    "- And that Python `set` and `dict` use these hash functions.\n",
    "- How do they work?\n",
    "- The hash table is basically a big array (list), and the hash function (mod the array size) maps an object to its location in the array.\n",
    "  - But it's a bit more complicated than that.\n",
    "  - The array typically expands and contracts automatically as needed.\n",
    "  - These operations may be slow, but averaged or \"amortized\" over many operations, the runtime is $O(1)$\n",
    "  - The hash function depends on this array size.\n",
    "  - There's also an issue of collisions: when two different objects hash to the same place.\n",
    "- Roughly speaking, we can insert, retrieve, and delete things in $O(1)$ time so long as we have a \"good\" hash function.\n",
    "  - The hash function will be \"good\" for default Python objects."
   ]
  },
  {
   "cell_type": "markdown",
   "metadata": {},
   "source": [
    "To get a better sense of how this works, let's build a very simple hash table with just four buckets (locations). First, we create a list with four **None** objects."
   ]
  },
  {
   "cell_type": "code",
   "execution_count": 1,
   "metadata": {},
   "outputs": [],
   "source": [
    "hash_table = [None]*4"
   ]
  },
  {
   "cell_type": "markdown",
   "metadata": {},
   "source": [
    "We put something in the hash table by using its hash function followed by the mod (%) operator to get a number in the correct range, which we then use as an index."
   ]
  },
  {
   "cell_type": "code",
   "execution_count": 2,
   "metadata": {},
   "outputs": [
    {
     "name": "stdout",
     "output_type": "stream",
     "text": [
      "0\n",
      "['hello', None, None, None]\n"
     ]
    }
   ],
   "source": [
    "item = \"hello\"\n",
    "index = hash(item) % 4\n",
    "print(index)\n",
    "hash_table[index] = item\n",
    "print(hash_table)"
   ]
  },
  {
   "cell_type": "markdown",
   "metadata": {},
   "source": [
    "We can use the same method to check to see if something is in the hash table"
   ]
  },
  {
   "cell_type": "code",
   "execution_count": 3,
   "metadata": {},
   "outputs": [
    {
     "name": "stdout",
     "output_type": "stream",
     "text": [
      "0\n",
      "Success!\n"
     ]
    }
   ],
   "source": [
    "test_item = \"hello\"\n",
    "index = hash(test_item) % 4\n",
    "print(index)\n",
    "assert hash_table[index] == test_item\n",
    "print(\"Success!\")"
   ]
  },
  {
   "cell_type": "markdown",
   "metadata": {},
   "source": [
    "Now let's add more stuff"
   ]
  },
  {
   "cell_type": "code",
   "execution_count": 3,
   "metadata": {},
   "outputs": [
    {
     "name": "stdout",
     "output_type": "stream",
     "text": [
      "my\n",
      "3\n",
      "dear\n",
      "0\n",
      "world\n",
      "3\n",
      "goodbye\n",
      "1\n",
      "['dear', 'goodbye', None, 'world']\n"
     ]
    }
   ],
   "source": [
    "items = [\"my\", \"dear\", \"world\",\"goodbye\"]\n",
    "for item in items:\n",
    "    print(item)\n",
    "    index = hash(item) % 4\n",
    "    print(index)\n",
    "    hash_table[index] = item\n",
    "print(hash_table)"
   ]
  },
  {
   "cell_type": "markdown",
   "metadata": {},
   "source": [
    "If we put more than four items in the hash table, we are guaranteed to have collision (as it happens, there is a randomness to the hash function, so your collisions will likely be different from mine!). To solve this, we would need some mechanism to have more than one object in each bucket. We might also consider inserting (key,value) tuples to create a dictionary, like Python `dict`.\n",
    "\n",
    "Note that a real hash table will have a number of buckets in the order of the number of objects being stored. Although there will be some collisions, the average lookup is still $O(1)$"
   ]
  },
  {
   "cell_type": "markdown",
   "metadata": {},
   "source": [
    "## T/F questions"
   ]
  },
  {
   "cell_type": "markdown",
   "metadata": {},
   "source": [
    "1. Searching for a key in a `dict` takes $O(1)$ time, but searching for a value takes $O(n)$.\n",
    "2. The elements of a `set` are maintained in sorted order for fast searching.\n",
    "3. The best sorting algorithms run in $O(n)$ time.\n",
    "4. If you hash two different Python objects, you will always get two different hashes.\n",
    "5. If I have to search inside a list $1000$ times, it is better to first sort the list and then use binary search, rather than just using linear search.\n",
    "6. A hash table with a fixed number of locations/buckets is $O(1)$ lookup regardless of the number of items it holds"
   ]
  }
 ],
 "metadata": {
  "kernelspec": {
   "display_name": "Python 3",
   "language": "python",
   "name": "python3"
  },
  "language_info": {
   "codemirror_mode": {
    "name": "ipython",
    "version": 3
   },
   "file_extension": ".py",
   "mimetype": "text/x-python",
   "name": "python",
   "nbconvert_exporter": "python",
   "pygments_lexer": "ipython3",
   "version": "3.7.3"
  }
 },
 "nbformat": 4,
 "nbformat_minor": 4
}
