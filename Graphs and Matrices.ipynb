{
 "cells": [
  {
   "cell_type": "markdown",
   "metadata": {},
   "source": [
    "### Graphs and Matrices"
   ]
  },
  {
   "cell_type": "code",
   "execution_count": null,
   "metadata": {},
   "outputs": [],
   "source": [
    "import matplotlib.pyplot as plt\n",
    "%matplotlib inline\n",
    "import altair as alt\n",
    "import numpy as np\n",
    "import pandas as pd\n",
    "from nltk.corpus import movie_reviews\n",
    "from sklearn.feature_extraction import DictVectorizer\n",
    "from functools import reduce \n",
    "\n",
    "import networkx as nx"
   ]
  },
  {
   "cell_type": "markdown",
   "metadata": {},
   "source": [
    "creating a The Romeo and Juliet graph"
   ]
  },
  {
   "cell_type": "code",
   "execution_count": null,
   "metadata": {},
   "outputs": [],
   "source": [
    "rj = nx.Graph()\n",
    "rj.add_nodes_from(['Nurse', \n",
    "                   # House of Capulet\n",
    "                   'Juliet', 'Tybalt', 'Capulet',\n",
    "                   \n",
    "                   'Friar Laurence', \n",
    "                   \n",
    "                   # House Montague\n",
    "                   'Romeo', 'Benvolio', 'Montague',\n",
    "                   \n",
    "                   # Ruling house of Verona\n",
    "                   'Escalus', 'Mercutio', 'Paris'\n",
    "                  ])\n",
    "\n",
    "rj.add_edges_from([('Juliet', 'Nurse'),\n",
    "                   ('Juliet', 'Tybalt'),\n",
    "                   ('Juliet', 'Capulet'),                   \n",
    "                   ('Juliet', 'Friar Laurence'),\n",
    "                   ('Juliet', 'Romeo'),\n",
    "                   \n",
    "                   ('Capulet', 'Tybalt'),                                      \n",
    "                   ('Capulet', 'Escalus'),\n",
    "                   ('Capulet', 'Paris'),                   \n",
    "                   \n",
    "                   ('Romeo', 'Friar Laurence'),\n",
    "                   ('Romeo', 'Benvolio'),\n",
    "                   ('Romeo', 'Montague'),\n",
    "                   ('Romeo', 'Mercutio'),                   \n",
    "                   \n",
    "                   ('Montague', 'Benvolio'),\n",
    "                   ('Montague', 'Escalus'),                   \n",
    "\n",
    "                   ('Escalus', 'Mercutio'),\n",
    "                   ('Escalus', 'Paris'),\n",
    "                   ('Paris', 'Mercutio')\n",
    "                  ])\n",
    "\n",
    "nx.draw(rj, with_labels=True)"
   ]
  },
  {
   "cell_type": "code",
   "execution_count": 1,
   "metadata": {},
   "outputs": [],
   "source": [
    "def highest_degree(G):\n",
    "    \"\"\"\n",
    "    Finds the vertices with the highest degree in the graph G.\n",
    "    Returns a tuple (max_degree, {nodes with that degree})\n",
    "    \"\"\"\n",
    "        \n",
    "    degrees = dict()\n",
    "    for node in G.nodes():\n",
    "        degrees[node] = nx.degree(G, node)\n",
    "    \n",
    "    max_degree = max(degrees.values())\n",
    "    return max_degree, {node for node in degrees if degrees[node] == max_degree}"
   ]
  },
  {
   "cell_type": "code",
   "execution_count": null,
   "metadata": {},
   "outputs": [],
   "source": [
    "def largest_distance(G):\n",
    "    \"\"\"\n",
    "    Finds the pairs of vertices with the highest degree of separation in the graph G.\n",
    "    Returns a tuple (max_distance, {node pairs with that degree})\n",
    "    \"\"\"\n",
    "    #your code here\n",
    "    distances = dict()\n",
    "    for v1 in G.nodes():\n",
    "        for v2 in G.nodes():\n",
    "            if v1 != v2 and (v2, v1) not in distances: # avoid self-distances and flipped pairs\n",
    "                dist = nx.shortest_path_length(rj, v1, v2)\n",
    "                distances[(v1,v2)] = dist\n",
    "\n",
    "    max_distance = max(distances.values())\n",
    "    return max_distance, {pair for pair in distances if distances[pair] == max_distance}"
   ]
  },
  {
   "cell_type": "markdown",
   "metadata": {},
   "source": [
    "Degrees of separation with BFS"
   ]
  },
  {
   "cell_type": "code",
   "execution_count": null,
   "metadata": {},
   "outputs": [],
   "source": [
    "def distance_BFS(g, node1, node2):\n",
    "    \"\"\" \n",
    "    Given a NetworkX Graph g, and start node node1 \n",
    "    and goal node node2, distance_BFS returns the\n",
    "    degree of separation between node1 and node2. \n",
    "    If they are not connected, returns -1.\n",
    "    \n",
    "    Arguments\n",
    "    g -- (networkx.classes.graph.Graph) the graph\n",
    "    node1 -- (str) first node\n",
    "    node2 -- (str) second node\n",
    "    \"\"\"\n",
    "    # your code here\n",
    "    queue = [(node1, 0)]\n",
    "    visited = set() \n",
    "\n",
    "    while queue:\n",
    "        vertex, distance = queue.pop(0)\n",
    "        if vertex == node2:\n",
    "            return distance\n",
    "        \n",
    "        for node in g.neighbors(vertex):\n",
    "            if node not in visited:\n",
    "                visited.add(node) # putting nodes in visited now means we won't expand same one twice\n",
    "                queue.append((node, distance + 1))\n",
    "    return -1"
   ]
  },
  {
   "cell_type": "code",
   "execution_count": null,
   "metadata": {},
   "outputs": [],
   "source": []
  },
  {
   "cell_type": "code",
   "execution_count": null,
   "metadata": {},
   "outputs": [],
   "source": []
  },
  {
   "cell_type": "code",
   "execution_count": null,
   "metadata": {},
   "outputs": [],
   "source": []
  },
  {
   "cell_type": "code",
   "execution_count": null,
   "metadata": {},
   "outputs": [],
   "source": []
  },
  {
   "cell_type": "code",
   "execution_count": null,
   "metadata": {},
   "outputs": [],
   "source": []
  }
 ],
 "metadata": {
  "kernelspec": {
   "display_name": "Python 3",
   "language": "python",
   "name": "python3"
  },
  "language_info": {
   "codemirror_mode": {
    "name": "ipython",
    "version": 3
   },
   "file_extension": ".py",
   "mimetype": "text/x-python",
   "name": "python",
   "nbconvert_exporter": "python",
   "pygments_lexer": "ipython3",
   "version": "3.7.3"
  }
 },
 "nbformat": 4,
 "nbformat_minor": 4
}
