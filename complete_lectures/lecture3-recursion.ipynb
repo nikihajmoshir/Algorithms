{
 "cells": [
  {
   "cell_type": "markdown",
   "metadata": {},
   "source": [
    "# DSCI 512 Lecture 3: Recursion\n",
    "\n",
    "Outline:\n",
    "\n",
    "- Recursion intro\n",
    "- Group activity\n",
    "- Multiple recursive calls \n",
    "- Group activity"
   ]
  },
  {
   "cell_type": "markdown",
   "metadata": {},
   "source": [
    "## Recursion intro"
   ]
  },
  {
   "cell_type": "markdown",
   "metadata": {},
   "source": [
    "Below: credit for the idea goes to [Dan Garcia](https://people.eecs.berkeley.edu/~ddgarcia/) and specifically his [talk at UBC](https://www.youtube.com/watch?v=3QEGzSXB3mc) about his course called [The Beauty and Joy of Computing](https://bjc.berkeley.edu/)."
   ]
  },
  {
   "cell_type": "code",
   "execution_count": 1,
   "metadata": {},
   "outputs": [],
   "source": [
    "import numpy as np\n",
    "import matplotlib.pyplot as plt\n",
    "%matplotlib inline\n",
    "\n",
    "def move_pen(x, y, angle, length):\n",
    "    new_x = x + length*np.sin(angle/180.0)\n",
    "    new_y = y + length*np.cos(angle/180.0)\n",
    "    return new_x, new_y\n",
    "\n",
    "def branch(x, y, angle, length=1, marker=\".\"):\n",
    "#     plt.plot([old_x, x], [old_y, y], 'k')\n",
    "    plt.plot(x, y, marker=marker, markersize=\"15\", markerfacecolor=\"None\", markeredgecolor=\"k\")\n",
    "\n",
    "def square(*args):\n",
    "    return branch(*args, marker=\"s\")\n",
    "\n",
    "def hexagon(*args):\n",
    "    return branch(*args, marker=\"h\")\n",
    "\n",
    "def star(*args, length=1):\n",
    "    return branch(*args, marker=\"*\")\n",
    "\n",
    "def vee(x=0, y=0, angle=0, length=1):\n",
    "    \n",
    "    # possible shapes\n",
    "    shapes = [square, hexagon, star, vee, vee]\n",
    "    \n",
    "    # branch left\n",
    "    shape = np.random.choice(shapes)\n",
    "    new_angle = angle - 20\n",
    "    new_x, new_y = move_pen(x, y, new_angle, length)\n",
    "    plt.plot([x, new_x], [y, new_y], 'k')\n",
    "    shape(new_x, new_y, new_angle, length)\n",
    "    \n",
    "    # branch right\n",
    "    shape = np.random.choice(shapes)\n",
    "    new_angle = angle + 20\n",
    "    new_x, new_y = move_pen(x, y, new_angle, length)\n",
    "    plt.plot([x, new_x], [y, new_y], 'k')\n",
    "    shape(new_x, new_y, new_angle, length)    \n",
    "    \n",
    "    plt.xticks(())\n",
    "    plt.yticks(())\n",
    "    plt.xlim((-2,2))\n",
    "    plt.ylim((0,10))\n",
    "#     plt.draw()\n",
    "#     plt.pause(0.05)\n"
   ]
  },
  {
   "cell_type": "code",
   "execution_count": 7,
   "metadata": {},
   "outputs": [
    {
     "data": {
      "image/png": "[encoded data removed]",
      "text/plain": [
       "<Figure size 432x288 with 1 Axes>"
      ]
     },
     "metadata": {},
     "output_type": "display_data"
    }
   ],
   "source": [
    "vee()"
   ]
  },
  {
   "cell_type": "markdown",
   "metadata": {},
   "source": [
    "#### Step 1: functions with outputs but no inputs\n",
    "\n",
    "Consider this function:"
   ]
  },
  {
   "cell_type": "code",
   "execution_count": 8,
   "metadata": {},
   "outputs": [],
   "source": [
    "def h():\n",
    "    return 0"
   ]
  },
  {
   "cell_type": "markdown",
   "metadata": {},
   "source": [
    "We can call it:"
   ]
  },
  {
   "cell_type": "code",
   "execution_count": 9,
   "metadata": {},
   "outputs": [
    {
     "data": {
      "text/plain": [
       "0"
      ]
     },
     "execution_count": 9,
     "metadata": {},
     "output_type": "execute_result"
    }
   ],
   "source": [
    "h()"
   ]
  },
  {
   "cell_type": "markdown",
   "metadata": {},
   "source": [
    "Now let's add a function `g` that calls `h`:"
   ]
  },
  {
   "cell_type": "code",
   "execution_count": 10,
   "metadata": {},
   "outputs": [],
   "source": [
    "def g():\n",
    "    return h() + 1"
   ]
  },
  {
   "cell_type": "code",
   "execution_count": 11,
   "metadata": {},
   "outputs": [
    {
     "data": {
      "text/plain": [
       "1"
      ]
     },
     "execution_count": 11,
     "metadata": {},
     "output_type": "execute_result"
    }
   ],
   "source": [
    "g()"
   ]
  },
  {
   "cell_type": "markdown",
   "metadata": {},
   "source": [
    "- What's happening here? `g` is calling `h`, which returns $0$.\n",
    "- It then adds this result, $0$, to $1$ and gets $1$.\n",
    "- So it returns $1$.\n",
    "\n",
    "Now let's add a function `f` that calls `g`:"
   ]
  },
  {
   "cell_type": "code",
   "execution_count": 12,
   "metadata": {},
   "outputs": [],
   "source": [
    "def f():\n",
    "    return g() + 1"
   ]
  },
  {
   "cell_type": "code",
   "execution_count": 13,
   "metadata": {},
   "outputs": [
    {
     "data": {
      "text/plain": [
       "2"
      ]
     },
     "execution_count": 13,
     "metadata": {},
     "output_type": "execute_result"
    }
   ],
   "source": [
    "f()"
   ]
  },
  {
   "cell_type": "markdown",
   "metadata": {},
   "source": [
    "- What's happening here? `f` is calling `g`.\n",
    "- We already know `g` returns $1$, so no need to go through that again.\n",
    "- So `f` adds $1+1$, and returns $2$.\n",
    "\n",
    "What's the idea here? That functions can call each other, and we can methodically \"unpack\" what happens when they call each other."
   ]
  },
  {
   "cell_type": "markdown",
   "metadata": {},
   "source": [
    "#### Step 2: functions with inputs but no outputs\n",
    "\n",
    "Now let's make it more interesting by letting the functions take arguments. Consider these functions:"
   ]
  },
  {
   "cell_type": "code",
   "execution_count": 14,
   "metadata": {},
   "outputs": [],
   "source": [
    "def h(n):\n",
    "    print(\"You called h with argument\", n)\n",
    "    print(\"Ending h with argument\", n)"
   ]
  },
  {
   "cell_type": "code",
   "execution_count": 15,
   "metadata": {},
   "outputs": [
    {
     "name": "stdout",
     "output_type": "stream",
     "text": [
      "You called h with argument 3\n",
      "Ending h with argument 3\n"
     ]
    }
   ],
   "source": [
    "h(3)"
   ]
  },
  {
   "cell_type": "code",
   "execution_count": 18,
   "metadata": {},
   "outputs": [
    {
     "name": "stdout",
     "output_type": "stream",
     "text": [
      "You called h with argument 2\n",
      "Ending h with argument 2\n"
     ]
    }
   ],
   "source": [
    "h(2)"
   ]
  },
  {
   "cell_type": "code",
   "execution_count": 19,
   "metadata": {},
   "outputs": [],
   "source": [
    "def g(n):\n",
    "    print(\"You called g with argument\", n)\n",
    "    h(n-1) # this line calls h but doesn't do anything with the result\n",
    "    print(\"Ending g with argument\", n)"
   ]
  },
  {
   "cell_type": "code",
   "execution_count": 20,
   "metadata": {},
   "outputs": [
    {
     "name": "stdout",
     "output_type": "stream",
     "text": [
      "You called g with argument 1\n",
      "You called h with argument 0\n",
      "Ending h with argument 0\n",
      "Ending g with argument 1\n"
     ]
    }
   ],
   "source": [
    "g(1)"
   ]
  },
  {
   "cell_type": "code",
   "execution_count": 21,
   "metadata": {},
   "outputs": [
    {
     "name": "stdout",
     "output_type": "stream",
     "text": [
      "You called g with argument 2\n",
      "You called h with argument 1\n",
      "Ending h with argument 1\n",
      "Ending g with argument 2\n"
     ]
    }
   ],
   "source": [
    "g(2)"
   ]
  },
  {
   "cell_type": "code",
   "execution_count": 22,
   "metadata": {},
   "outputs": [
    {
     "name": "stdout",
     "output_type": "stream",
     "text": [
      "You called g with argument 3\n",
      "You called h with argument 2\n",
      "Ending h with argument 2\n",
      "Ending g with argument 3\n"
     ]
    }
   ],
   "source": [
    "g(3)"
   ]
  },
  {
   "cell_type": "markdown",
   "metadata": {},
   "source": [
    "Ok, now let's add another function, `f`."
   ]
  },
  {
   "cell_type": "code",
   "execution_count": 23,
   "metadata": {},
   "outputs": [],
   "source": [
    "def f(n):\n",
    "    print(\"You called f with argument\", n)\n",
    "    g(n-1) # this line calls g but doesn't do anything with the result\n",
    "    print(\"Ending f with argument\", n)"
   ]
  },
  {
   "cell_type": "code",
   "execution_count": 24,
   "metadata": {},
   "outputs": [
    {
     "name": "stdout",
     "output_type": "stream",
     "text": [
      "You called f with argument 5\n",
      "You called g with argument 4\n",
      "You called h with argument 3\n",
      "Ending h with argument 3\n",
      "Ending g with argument 4\n",
      "Ending f with argument 5\n"
     ]
    }
   ],
   "source": [
    "f(5)"
   ]
  },
  {
   "cell_type": "code",
   "execution_count": null,
   "metadata": {},
   "outputs": [],
   "source": [
    "f(10)"
   ]
  },
  {
   "cell_type": "markdown",
   "metadata": {},
   "source": [
    "FYI (optional): what we're seeing above is a depiction of the functions' [call stack](https://en.wikipedia.org/wiki/Call_stack). "
   ]
  },
  {
   "cell_type": "markdown",
   "metadata": {},
   "source": [
    "#### Step 3: functions with inputs _and_ outputs\n",
    "\n",
    "Above, each function is passing data _into_ the next function.\n",
    "\n",
    "Below, we try passing data _out_ of each function as well."
   ]
  },
  {
   "cell_type": "code",
   "execution_count": 25,
   "metadata": {},
   "outputs": [],
   "source": [
    "def h(n):\n",
    "    print(\"Starting h with argument\", n)\n",
    "    value = 0\n",
    "    print(\"Ending h with value\", value)\n",
    "    return value"
   ]
  },
  {
   "cell_type": "code",
   "execution_count": 26,
   "metadata": {},
   "outputs": [
    {
     "name": "stdout",
     "output_type": "stream",
     "text": [
      "Starting h with argument 5\n",
      "Ending h with value 0\n"
     ]
    },
    {
     "data": {
      "text/plain": [
       "0"
      ]
     },
     "execution_count": 26,
     "metadata": {},
     "output_type": "execute_result"
    }
   ],
   "source": [
    "h(5)"
   ]
  },
  {
   "cell_type": "markdown",
   "metadata": {},
   "source": [
    "`h` is a weird function that ignores its input and just returns 0."
   ]
  },
  {
   "cell_type": "markdown",
   "metadata": {},
   "source": [
    "Below, `g` calls `h` will a smaller value of `n`, and then adds 1 to the result."
   ]
  },
  {
   "cell_type": "code",
   "execution_count": 27,
   "metadata": {},
   "outputs": [],
   "source": [
    "def g(n):\n",
    "    print(\"Starting g with argument\", n)\n",
    "    value = h(n-1) + 1\n",
    "    print(\"Ending g with value\", value)\n",
    "    return value"
   ]
  },
  {
   "cell_type": "code",
   "execution_count": 28,
   "metadata": {},
   "outputs": [
    {
     "name": "stdout",
     "output_type": "stream",
     "text": [
      "Starting g with argument 10\n",
      "Starting h with argument 9\n",
      "Ending h with value 0\n",
      "Ending g with value 1\n"
     ]
    },
    {
     "data": {
      "text/plain": [
       "1"
      ]
     },
     "execution_count": 28,
     "metadata": {},
     "output_type": "execute_result"
    }
   ],
   "source": [
    "g(10)"
   ]
  },
  {
   "cell_type": "markdown",
   "metadata": {},
   "source": [
    "Let's look at the _order_ of the print statements:\n",
    "\n",
    "1. We start `g`\n",
    "2. We start `h`\n",
    "3. We end `h`\n",
    "4. We end `g`\n",
    "\n",
    "This is critical to understanding what happens next."
   ]
  },
  {
   "cell_type": "code",
   "execution_count": 29,
   "metadata": {},
   "outputs": [],
   "source": [
    "def f(n):\n",
    "    print(\"Starting f with argument\", n)\n",
    "    value = g(n-1) + 1\n",
    "    print(\"Ending f with value\", value)\n",
    "    return value"
   ]
  },
  {
   "cell_type": "code",
   "execution_count": 30,
   "metadata": {},
   "outputs": [
    {
     "name": "stdout",
     "output_type": "stream",
     "text": [
      "Starting f with argument 11\n",
      "Starting g with argument 10\n",
      "Starting h with argument 9\n",
      "Ending h with value 0\n",
      "Ending g with value 1\n",
      "Ending f with value 2\n"
     ]
    },
    {
     "data": {
      "text/plain": [
       "2"
      ]
     },
     "execution_count": 30,
     "metadata": {},
     "output_type": "execute_result"
    }
   ],
   "source": [
    "f(11)"
   ]
  },
  {
   "cell_type": "markdown",
   "metadata": {},
   "source": [
    "Let's remove some of the print statements to make things more compact:"
   ]
  },
  {
   "cell_type": "code",
   "execution_count": 31,
   "metadata": {},
   "outputs": [],
   "source": [
    "def f(n):\n",
    "    print(\"Starting f with argument\", n)\n",
    "    return g(n-1) + 1\n",
    "\n",
    "def g(n):\n",
    "    print(\"Starting g with argument\", n)\n",
    "    return h(n-1) + 1\n",
    "\n",
    "def h(n):\n",
    "    print(\"Starting h with argument\", n)\n",
    "    return 0"
   ]
  },
  {
   "cell_type": "code",
   "execution_count": 32,
   "metadata": {},
   "outputs": [
    {
     "name": "stdout",
     "output_type": "stream",
     "text": [
      "Starting f with argument 11\n",
      "Starting g with argument 10\n",
      "Starting h with argument 9\n"
     ]
    },
    {
     "data": {
      "text/plain": [
       "2"
      ]
     },
     "execution_count": 32,
     "metadata": {},
     "output_type": "execute_result"
    }
   ],
   "source": [
    "f(11)"
   ]
  },
  {
   "cell_type": "markdown",
   "metadata": {},
   "source": [
    "So far, this isn't interesting because we're not using `n` for anything. We get the same result, $2$, for any value of `n`:"
   ]
  },
  {
   "cell_type": "code",
   "execution_count": 33,
   "metadata": {},
   "outputs": [
    {
     "name": "stdout",
     "output_type": "stream",
     "text": [
      "Starting f with argument 1000\n",
      "Starting g with argument 999\n",
      "Starting h with argument 998\n"
     ]
    },
    {
     "data": {
      "text/plain": [
       "2"
      ]
     },
     "execution_count": 33,
     "metadata": {},
     "output_type": "execute_result"
    }
   ],
   "source": [
    "f(1000)"
   ]
  },
  {
   "cell_type": "markdown",
   "metadata": {},
   "source": [
    "Now look at this code (we're getting close to the punch line):"
   ]
  },
  {
   "cell_type": "code",
   "execution_count": 34,
   "metadata": {},
   "outputs": [],
   "source": [
    "def f(n):\n",
    "    print(\"Starting f with argument\", n)\n",
    "    if n == 0:\n",
    "        return 0\n",
    "    else:\n",
    "        return g(n-1) + 1\n",
    "\n",
    "def g(n):\n",
    "    print(\"Starting g with argument\", n)\n",
    "    if n == 0:\n",
    "        return 0\n",
    "    else:\n",
    "        return h(n-1) + 1\n",
    "\n",
    "def h(n):\n",
    "    print(\"Starting h with argument\", n)\n",
    "    if n == 0:\n",
    "        return 0\n",
    "    else:\n",
    "        return i(n-1)\n",
    "\n",
    "# ...\n",
    "# ..."
   ]
  },
  {
   "cell_type": "markdown",
   "metadata": {},
   "source": [
    "This code actually uses `n`. Here's what it `f` outputs\n",
    "\n",
    "|  `n`   |   `f(n)` |\n",
    "|--------|--------|\n",
    "| 0      |    0   |\n",
    "| 1      |    1   |\n",
    "| 2      |    2   |\n",
    "| 3+     | error  |\n"
   ]
  },
  {
   "cell_type": "code",
   "execution_count": 35,
   "metadata": {},
   "outputs": [
    {
     "name": "stdout",
     "output_type": "stream",
     "text": [
      "Starting f with argument 0\n"
     ]
    },
    {
     "data": {
      "text/plain": [
       "0"
      ]
     },
     "execution_count": 35,
     "metadata": {},
     "output_type": "execute_result"
    }
   ],
   "source": [
    "f(0)"
   ]
  },
  {
   "cell_type": "code",
   "execution_count": 36,
   "metadata": {},
   "outputs": [
    {
     "name": "stdout",
     "output_type": "stream",
     "text": [
      "Starting f with argument 1\n",
      "Starting g with argument 0\n"
     ]
    },
    {
     "data": {
      "text/plain": [
       "1"
      ]
     },
     "execution_count": 36,
     "metadata": {},
     "output_type": "execute_result"
    }
   ],
   "source": [
    "f(1)"
   ]
  },
  {
   "cell_type": "code",
   "execution_count": 37,
   "metadata": {},
   "outputs": [
    {
     "name": "stdout",
     "output_type": "stream",
     "text": [
      "Starting f with argument 2\n",
      "Starting g with argument 1\n",
      "Starting h with argument 0\n"
     ]
    },
    {
     "data": {
      "text/plain": [
       "2"
      ]
     },
     "execution_count": 37,
     "metadata": {},
     "output_type": "execute_result"
    }
   ],
   "source": [
    "f(2)"
   ]
  },
  {
   "cell_type": "code",
   "execution_count": 38,
   "metadata": {
    "scrolled": true
   },
   "outputs": [
    {
     "name": "stdout",
     "output_type": "stream",
     "text": [
      "Starting f with argument 3\n",
      "Starting g with argument 2\n",
      "Starting h with argument 1\n"
     ]
    },
    {
     "ename": "NameError",
     "evalue": "name 'i' is not defined",
     "output_type": "error",
     "traceback": [
      "\u001b[1;31m---------------------------------------------------------------------------\u001b[0m",
      "\u001b[1;31mNameError\u001b[0m                                 Traceback (most recent call last)",
      "\u001b[1;32m<ipython-input-38-1bff2c73920e>\u001b[0m in \u001b[0;36m<module>\u001b[1;34m()\u001b[0m\n\u001b[1;32m----> 1\u001b[1;33m \u001b[0mf\u001b[0m\u001b[1;33m(\u001b[0m\u001b[1;36m3\u001b[0m\u001b[1;33m)\u001b[0m\u001b[1;33m\u001b[0m\u001b[0m\n\u001b[0m",
      "\u001b[1;32m<ipython-input-34-09f26b2a36a4>\u001b[0m in \u001b[0;36mf\u001b[1;34m(n)\u001b[0m\n\u001b[0;32m      4\u001b[0m         \u001b[1;32mreturn\u001b[0m \u001b[1;36m0\u001b[0m\u001b[1;33m\u001b[0m\u001b[0m\n\u001b[0;32m      5\u001b[0m     \u001b[1;32melse\u001b[0m\u001b[1;33m:\u001b[0m\u001b[1;33m\u001b[0m\u001b[0m\n\u001b[1;32m----> 6\u001b[1;33m         \u001b[1;32mreturn\u001b[0m \u001b[0mg\u001b[0m\u001b[1;33m(\u001b[0m\u001b[0mn\u001b[0m\u001b[1;33m-\u001b[0m\u001b[1;36m1\u001b[0m\u001b[1;33m)\u001b[0m \u001b[1;33m+\u001b[0m \u001b[1;36m1\u001b[0m\u001b[1;33m\u001b[0m\u001b[0m\n\u001b[0m\u001b[0;32m      7\u001b[0m \u001b[1;33m\u001b[0m\u001b[0m\n\u001b[0;32m      8\u001b[0m \u001b[1;32mdef\u001b[0m \u001b[0mg\u001b[0m\u001b[1;33m(\u001b[0m\u001b[0mn\u001b[0m\u001b[1;33m)\u001b[0m\u001b[1;33m:\u001b[0m\u001b[1;33m\u001b[0m\u001b[0m\n",
      "\u001b[1;32m<ipython-input-34-09f26b2a36a4>\u001b[0m in \u001b[0;36mg\u001b[1;34m(n)\u001b[0m\n\u001b[0;32m     11\u001b[0m         \u001b[1;32mreturn\u001b[0m \u001b[1;36m0\u001b[0m\u001b[1;33m\u001b[0m\u001b[0m\n\u001b[0;32m     12\u001b[0m     \u001b[1;32melse\u001b[0m\u001b[1;33m:\u001b[0m\u001b[1;33m\u001b[0m\u001b[0m\n\u001b[1;32m---> 13\u001b[1;33m         \u001b[1;32mreturn\u001b[0m \u001b[0mh\u001b[0m\u001b[1;33m(\u001b[0m\u001b[0mn\u001b[0m\u001b[1;33m-\u001b[0m\u001b[1;36m1\u001b[0m\u001b[1;33m)\u001b[0m \u001b[1;33m+\u001b[0m \u001b[1;36m1\u001b[0m\u001b[1;33m\u001b[0m\u001b[0m\n\u001b[0m\u001b[0;32m     14\u001b[0m \u001b[1;33m\u001b[0m\u001b[0m\n\u001b[0;32m     15\u001b[0m \u001b[1;32mdef\u001b[0m \u001b[0mh\u001b[0m\u001b[1;33m(\u001b[0m\u001b[0mn\u001b[0m\u001b[1;33m)\u001b[0m\u001b[1;33m:\u001b[0m\u001b[1;33m\u001b[0m\u001b[0m\n",
      "\u001b[1;32m<ipython-input-34-09f26b2a36a4>\u001b[0m in \u001b[0;36mh\u001b[1;34m(n)\u001b[0m\n\u001b[0;32m     18\u001b[0m         \u001b[1;32mreturn\u001b[0m \u001b[1;36m0\u001b[0m\u001b[1;33m\u001b[0m\u001b[0m\n\u001b[0;32m     19\u001b[0m     \u001b[1;32melse\u001b[0m\u001b[1;33m:\u001b[0m\u001b[1;33m\u001b[0m\u001b[0m\n\u001b[1;32m---> 20\u001b[1;33m         \u001b[1;32mreturn\u001b[0m \u001b[0mi\u001b[0m\u001b[1;33m(\u001b[0m\u001b[0mn\u001b[0m\u001b[1;33m-\u001b[0m\u001b[1;36m1\u001b[0m\u001b[1;33m)\u001b[0m\u001b[1;33m\u001b[0m\u001b[0m\n\u001b[0m\u001b[0;32m     21\u001b[0m \u001b[1;33m\u001b[0m\u001b[0m\n\u001b[0;32m     22\u001b[0m \u001b[1;31m# ...\u001b[0m\u001b[1;33m\u001b[0m\u001b[1;33m\u001b[0m\u001b[0m\n",
      "\u001b[1;31mNameError\u001b[0m: name 'i' is not defined"
     ]
    }
   ],
   "source": [
    "f(3)"
   ]
  },
  {
   "cell_type": "markdown",
   "metadata": {},
   "source": [
    "And now the key insight: all of the functions above are _exactly the same_. They check if `n` is zero. If so, they return zero. Otherwise, they call a function _identical to themselves_ with argument `n-1`, add `1` to the result, and return it.\n",
    "\n",
    "So why write"
   ]
  },
  {
   "cell_type": "code",
   "execution_count": null,
   "metadata": {},
   "outputs": [],
   "source": [
    "def f(n):\n",
    "    if n == 0:\n",
    "        return 0\n",
    "    else:\n",
    "        return g(n-1) + 1\n",
    "\n",
    "# def g(n):\n",
    "#     ...\n",
    "#     \n",
    "# def h(n):\n",
    "#     ..."
   ]
  },
  {
   "cell_type": "markdown",
   "metadata": {},
   "source": [
    "a million times when you can just write"
   ]
  },
  {
   "cell_type": "code",
   "execution_count": 39,
   "metadata": {},
   "outputs": [],
   "source": [
    "def f(n):\n",
    "    if n == 0:\n",
    "        return 0\n",
    "    else:\n",
    "        return f(n-1) + 1"
   ]
  },
  {
   "cell_type": "markdown",
   "metadata": {},
   "source": [
    "BAM! Recursion. \n",
    "\n",
    "- It is just incidental that all the functions have the same name, `f`. \n",
    "- It may be helpful for you to think of them as separate. \n",
    "- They do live in separate universes, with separate variables, like `n` and all other variables. \n",
    "- The fact that they are all named `f` is just a matter of convenience, to avoid writing an infinite amount of code."
   ]
  },
  {
   "cell_type": "code",
   "execution_count": 40,
   "metadata": {},
   "outputs": [
    {
     "data": {
      "text/plain": [
       "5"
      ]
     },
     "execution_count": 40,
     "metadata": {},
     "output_type": "execute_result"
    }
   ],
   "source": [
    "f(5)"
   ]
  },
  {
   "cell_type": "markdown",
   "metadata": {},
   "source": [
    "Let's put our print string back in..."
   ]
  },
  {
   "cell_type": "code",
   "execution_count": 41,
   "metadata": {},
   "outputs": [],
   "source": [
    "def f(n):\n",
    "    print(\"Starting f with argument\", n)\n",
    "    if n == 0:\n",
    "        print(\"Ending f with n =\", n, \"and returning 0 (base case)\");\n",
    "        return 0\n",
    "    else:\n",
    "        value = f(n-1) + 1\n",
    "        print(\"Ending f with n =\", n, \"and returning\", value);\n",
    "        return value"
   ]
  },
  {
   "cell_type": "code",
   "execution_count": 42,
   "metadata": {},
   "outputs": [
    {
     "name": "stdout",
     "output_type": "stream",
     "text": [
      "Starting f with argument 2\n",
      "Starting f with argument 1\n",
      "Starting f with argument 0\n",
      "Ending f with n = 0 and returning 0 (base case)\n",
      "Ending f with n = 1 and returning 1\n",
      "Ending f with n = 2 and returning 2\n"
     ]
    },
    {
     "data": {
      "text/plain": [
       "2"
      ]
     },
     "execution_count": 42,
     "metadata": {},
     "output_type": "execute_result"
    }
   ],
   "source": [
    "f(2)"
   ]
  },
  {
   "cell_type": "markdown",
   "metadata": {},
   "source": [
    "- Does this look familiar? It's the same \"call stack\" we saw before with our `f`, `g`, and `h`. Except now all the functions are named `f`. \n",
    "- The `if n == 0` part of the code is called the _base case_. This is like the function `h` earlier. It is the function that does _not_ call itself, and it's what causes the recursion to terminate.\n",
    "- The call to itself, in this case `f(n-1)` is the recursive step."
   ]
  },
  {
   "cell_type": "code",
   "execution_count": 43,
   "metadata": {},
   "outputs": [
    {
     "name": "stdout",
     "output_type": "stream",
     "text": [
      "Starting f with argument 5\n",
      "Starting f with argument 4\n",
      "Starting f with argument 3\n",
      "Starting f with argument 2\n",
      "Starting f with argument 1\n",
      "Starting f with argument 0\n",
      "Ending f with n = 0 and returning 0 (base case)\n",
      "Ending f with n = 1 and returning 1\n",
      "Ending f with n = 2 and returning 2\n",
      "Ending f with n = 3 and returning 3\n",
      "Ending f with n = 4 and returning 4\n",
      "Ending f with n = 5 and returning 5\n"
     ]
    },
    {
     "data": {
      "text/plain": [
       "5"
      ]
     },
     "execution_count": 43,
     "metadata": {},
     "output_type": "execute_result"
    }
   ],
   "source": [
    "f(5)"
   ]
  },
  {
   "cell_type": "markdown",
   "metadata": {},
   "source": [
    "## Binary search, revisited\n",
    "\n",
    "- Let's return to binary search from last class.\n",
    "- Here is a case where recursion works beautifully.\n",
    "- Compare with the messy code from Lecture 2."
   ]
  },
  {
   "cell_type": "code",
   "execution_count": 44,
   "metadata": {},
   "outputs": [],
   "source": [
    "def binary_search(data, key):\n",
    "    \"\"\"\n",
    "    Returns True of key is in data, otherwise False.\n",
    "    data must be sorted.\n",
    "    \n",
    "    Arguments:\n",
    "    data -- (list) the *sorted* list of elements in which we are searching\n",
    "    key -- the item to search for\n",
    "    \"\"\"\n",
    "    if len(data) == 1:\n",
    "        return data[0] == key   \n",
    "\n",
    "    mid = len(data)//2\n",
    "    if key < data[mid]:\n",
    "        return binary_search(data[:mid], key)\n",
    "    else:\n",
    "        return binary_search(data[mid:], key)"
   ]
  },
  {
   "cell_type": "code",
   "execution_count": 45,
   "metadata": {},
   "outputs": [
    {
     "name": "stdout",
     "output_type": "stream",
     "text": [
      "Success!\n"
     ]
    }
   ],
   "source": [
    "data = [-12,4,7,9,45,987,987,1000,2000]\n",
    "\n",
    "# Test cases for binary search\n",
    "# key is the first element in the list\n",
    "assert binary_search(data, -12)\n",
    "\n",
    "# key is the last element in the list\n",
    "assert binary_search(data, 2000)\n",
    "\n",
    "# key is the middle element in the list\n",
    "assert binary_search(data, 45)\n",
    "\n",
    "# key occurs multiple times in the list\n",
    "assert binary_search(data, 987)\n",
    "\n",
    "# key is larger than the largest element in the list\n",
    "assert not binary_search(data, 3000)\n",
    "\n",
    "# key is smaller than the smallest element in the list\n",
    "assert not binary_search(data, -18)\n",
    "print(\"Success!\")"
   ]
  },
  {
   "cell_type": "markdown",
   "metadata": {},
   "source": [
    "So elegant!!"
   ]
  },
  {
   "cell_type": "markdown",
   "metadata": {},
   "source": [
    "## Group activity\n",
    "\n",
    "Consider the code below:"
   ]
  },
  {
   "cell_type": "code",
   "execution_count": null,
   "metadata": {},
   "outputs": [],
   "source": [
    "def f(n):\n",
    "    ''' n must be greater'''\n",
    "    if n == 0:\n",
    "        return \"\"\n",
    "    elif n == 3:\n",
    "        return \"b\" + f(n-1) + \"c\"\n",
    "    else:\n",
    "        return \"a\" + f(n-1)"
   ]
  },
  {
   "cell_type": "markdown",
   "metadata": {},
   "source": [
    "**Without running the code**, fill in the table for what `f` returns:\n",
    "\n",
    "|  `n`   |   `f(n)` |\n",
    "|--------|--------|\n",
    "| -1     |undefined|\n",
    "| 0      |        |\n",
    "| 1      |    a   |\n",
    "| 2      |   aa   |\n",
    "| 3      |  baac  |\n",
    "| 4      |  abaac   |\n",
    "| 5      |  aabaac  |"
   ]
  },
  {
   "cell_type": "markdown",
   "metadata": {},
   "source": [
    "## Multiple recursive calls"
   ]
  },
  {
   "cell_type": "markdown",
   "metadata": {},
   "source": [
    "Consider the function below."
   ]
  },
  {
   "cell_type": "code",
   "execution_count": 46,
   "metadata": {},
   "outputs": [],
   "source": [
    "def f(n):\n",
    "    if n == 1 or n == 2:\n",
    "        return 1\n",
    "    return f(n-1) + f(n-2)"
   ]
  },
  {
   "cell_type": "markdown",
   "metadata": {},
   "source": [
    "What is returned by `f(3)`?\n",
    "What is returned by `f(4)`?\n"
   ]
  },
  {
   "cell_type": "code",
   "execution_count": 47,
   "metadata": {},
   "outputs": [
    {
     "data": {
      "text/plain": [
       "3"
      ]
     },
     "execution_count": 47,
     "metadata": {},
     "output_type": "execute_result"
    }
   ],
   "source": [
    "f(4)"
   ]
  },
  {
   "cell_type": "code",
   "execution_count": 48,
   "metadata": {},
   "outputs": [],
   "source": [
    "def f(n):\n",
    "    print(\"Starting f with argument\", n);\n",
    "    if n == 1 or n == 2:\n",
    "        return 1\n",
    "    return f(n-1) + f(n-2)"
   ]
  },
  {
   "cell_type": "code",
   "execution_count": 49,
   "metadata": {},
   "outputs": [
    {
     "name": "stdout",
     "output_type": "stream",
     "text": [
      "Starting f with argument 4\n",
      "Starting f with argument 3\n",
      "Starting f with argument 2\n",
      "Starting f with argument 1\n",
      "Starting f with argument 2\n"
     ]
    },
    {
     "data": {
      "text/plain": [
       "3"
      ]
     },
     "execution_count": 49,
     "metadata": {},
     "output_type": "execute_result"
    }
   ],
   "source": [
    "f(4)"
   ]
  },
  {
   "cell_type": "markdown",
   "metadata": {},
   "source": [
    "Note this is equivalent to:"
   ]
  },
  {
   "cell_type": "code",
   "execution_count": null,
   "metadata": {},
   "outputs": [],
   "source": [
    "def f(n):\n",
    "    print(\"Starting f with argument\", n);\n",
    "    if n == 1 or n == 2:\n",
    "        return 1\n",
    "    val1 = f(n-1)\n",
    "    val2 = f(n-2)\n",
    "    return val1 + val2\n",
    "\n",
    "f(4)"
   ]
  },
  {
   "cell_type": "markdown",
   "metadata": {},
   "source": [
    "In other words, there's no significance to the two recursive calls being on the same line."
   ]
  },
  {
   "cell_type": "markdown",
   "metadata": {},
   "source": [
    "Let's draw out the execution tree."
   ]
  },
  {
   "cell_type": "markdown",
   "metadata": {},
   "source": [
    "- First, `f(4)` is called.\n",
    "- The first thing it does is call `f(n-1) = f(3)`\n",
    "\n",
    "![](recursion-example/1s.png)\n",
    "\n",
    "- The first thing `f(3)` does is call `f(n-1)=f(2)`.\n",
    "\n",
    "![](recursion-example/2s.png)\n",
    "\n",
    "- `f(2)` triggers the base case and immediately returns $1$.\n",
    "\n",
    "![](recursion-example/3s.png)\n",
    "\n",
    "- The return value $1$ is passed back up to `f(3)`. \n",
    "- `f(3)` is trying to call `f(n-1) + f(n-2)`, and the first of those has just returned with value $1$.\n",
    "- So it now proceeds to call the second one, namely `f(n-2)` or `f(1)`.\n",
    "\n",
    "![](recursion-example/4s.png)\n",
    "\n",
    "- `f(1)` triggers the base case and immediately returns $1$.\n",
    "- The return value $1$ is passed back up to `f(3)`. \n",
    "\n",
    "![](recursion-example/5s.png)\n",
    "\n",
    "- `f(3)` is now done, because it has computed $f(n-1) + f(n-2) = 1 + 1 = 2$\n",
    "\n",
    "![](recursion-example/6s.png)\n",
    "\n",
    "- It passes this value, $2$ up to its caller, namely `f(4)`.\n",
    "- `f(4)` is trying to call `f(n-1) + f(n-2)`, and the first of those has just returned with value $2$.\n",
    "- So it now proceeds to call the second one, namely `f(n-2)` or `f(2)`.\n",
    "\n",
    "![](recursion-example/7s.png)\n",
    "\n",
    "- `f(2)` triggers the base case and immediately returns $1$.\n",
    "\n",
    "![](recursion-example/8s.png)\n",
    "\n",
    "- $f(4)$ is now done, because it has computed $f(n-1) + f(n-2) = 2 + 1 = 3$\n",
    "\n",
    "![](recursion-example/9s.png)"
   ]
  },
  {
   "cell_type": "markdown",
   "metadata": {},
   "source": [
    "- The function above implements the [Fibonacci sequence](https://en.wikipedia.org/wiki/Fibonacci_number): $F_n=F_{n-1}+F_{n-2}$.\n",
    "- In this case we need 2 base cases to get things started, because $F_n$ depends on the previous 2 steps.\n",
    "- Recursive functions don't need to be sequences, as we'll see.\n",
    "- The time complexity here is something like $O(2^n)$ (slightly less than $2^n$ steps but close enough).\n",
    "- This is not a good implementation for the Fibonacci numbers!"
   ]
  },
  {
   "cell_type": "markdown",
   "metadata": {},
   "source": [
    "Let's look at a different kind of algorithm with multiple recursive calls. \n",
    "\n",
    "Mergesort is a divide-and-conquer sorting algorithm which uses recursion. It sorts by splitting lists in half, sorting them independently, then merging them. The base case is a list of one element, which is always trivially sorted.\n",
    "\n",
    "Don't worry about the merge helper function (except to note that it is accomplished in single loop which iterates over both lists simultaneously), the interesting recursive part is in the main mergesort."
   ]
  },
  {
   "cell_type": "code",
   "execution_count": 50,
   "metadata": {},
   "outputs": [
    {
     "name": "stdout",
     "output_type": "stream",
     "text": [
      "mergesorting  [7, 2000, 9, 4, 1000, 45, -12, 987, 45]\n",
      "divided into  [7, 2000, 9, 4] and [1000, 45, -12, 987, 45] for sorting\n",
      "mergesorting  [7, 2000, 9, 4]\n",
      "divided into  [7, 2000] and [9, 4] for sorting\n",
      "mergesorting  [7, 2000]\n",
      "divided into  [7] and [2000] for sorting\n",
      "base case [7]\n",
      "base case [2000]\n",
      "merging  [7] and [2000]\n",
      "returning sorted [7, 2000]\n",
      "mergesorting  [9, 4]\n",
      "divided into  [9] and [4] for sorting\n",
      "base case [9]\n",
      "base case [4]\n",
      "merging  [9] and [4]\n",
      "returning sorted [4, 9]\n",
      "merging  [7, 2000] and [4, 9]\n",
      "returning sorted [4, 7, 9, 2000]\n",
      "mergesorting  [1000, 45, -12, 987, 45]\n",
      "divided into  [1000, 45] and [-12, 987, 45] for sorting\n",
      "mergesorting  [1000, 45]\n",
      "divided into  [1000] and [45] for sorting\n",
      "base case [1000]\n",
      "base case [45]\n",
      "merging  [1000] and [45]\n",
      "returning sorted [45, 1000]\n",
      "mergesorting  [-12, 987, 45]\n",
      "divided into  [-12] and [987, 45] for sorting\n",
      "base case [-12]\n",
      "mergesorting  [987, 45]\n",
      "divided into  [987] and [45] for sorting\n",
      "base case [987]\n",
      "base case [45]\n",
      "merging  [987] and [45]\n",
      "returning sorted [45, 987]\n",
      "merging  [-12] and [45, 987]\n",
      "returning sorted [-12, 45, 987]\n",
      "merging  [45, 1000] and [-12, 45, 987]\n",
      "returning sorted [-12, 45, 45, 987, 1000]\n",
      "merging  [4, 7, 9, 2000] and [-12, 45, 45, 987, 1000]\n",
      "returning sorted [-12, 4, 7, 9, 45, 45, 987, 1000, 2000]\n"
     ]
    },
    {
     "data": {
      "text/plain": [
       "[-12, 4, 7, 9, 45, 45, 987, 1000, 2000]"
      ]
     },
     "execution_count": 50,
     "metadata": {},
     "output_type": "execute_result"
    }
   ],
   "source": [
    "import random\n",
    "\n",
    "def merge(L1,L2):\n",
    "    ''' merge two sorted lists into a single sorted list'''\n",
    "    L = []\n",
    "    i = 0\n",
    "    j = 0\n",
    "    while i < len(L1) and j < len(L2):\n",
    "        if L1[i] < L2[j]:\n",
    "            L.append(L1[i])\n",
    "            i += 1\n",
    "        else:\n",
    "            L.append(L2[j])\n",
    "            j += 1\n",
    "    if i < len(L1):\n",
    "        L.extend(L1[i:])\n",
    "    elif j < len(L2):\n",
    "        L.extend(L2[j:])\n",
    "    return L\n",
    "        \n",
    "def mergesort(L):\n",
    "    if len(L) == 1:\n",
    "        print(\"base case\", L)\n",
    "        return L\n",
    "         \n",
    "    print(\"mergesorting \",L)\n",
    "    mid_ind = len(L) // 2\n",
    "    L1 = L[:mid_ind]\n",
    "    L2 = L[mid_ind:]\n",
    "    print(\"divided into \", L1, \"and\", L2, \"for sorting\")\n",
    "    L1 = mergesort(L1)\n",
    "    L2 = mergesort(L2)\n",
    "    print(\"merging \", L1, \"and\", L2)\n",
    "    L = merge(L1,L2)\n",
    "    print(\"returning sorted\", L)\n",
    "    return L\n",
    "\n",
    "data = [-12,4,7,9,45,45,987,1000,2000]\n",
    "random.shuffle(data)\n",
    "mergesort(data)"
   ]
  },
  {
   "cell_type": "markdown",
   "metadata": {},
   "source": [
    "**Question:** What's the complexity of mergesort? Can you explain why?"
   ]
  },
  {
   "cell_type": "markdown",
   "metadata": {},
   "source": [
    "**Answer:** As mentioned last lecture, it's $O(n\\log n)$. It's actually easy to see why if you look at the representation of the process below\n",
    "\n",
    "\\[-12, 4, 7, 9, 45, 987, 1000, 2000\\] <br>\n",
    "\\[-12, 7, 45, 1000\\] \\[4, 9, 45, 987, 2000\\] <br>\n",
    "\\[7, 45\\] \\[-12, 1000\\] \\[45, 987\\] \\[9, 2000\\] <br>\n",
    "\\[45\\] \\[7\\] \\[-12\\] \\[1000\\] \\[45\\] \\[987\\] \\[9\\] \\[2000\\]\n",
    "\n",
    "To step from each line to the one above it, there is a one or more calls to `merge` that we know can be accomplished in the equivalent of one single pass over the data, i.e. $O(n)$. There are $3$ such steps here for an input size of $8$, (i.e. $2^3$); generally the number of such steps in a mergesort will be $\\log n$, and so the overall complexity is $O(n\\log n)$\n"
   ]
  },
  {
   "cell_type": "markdown",
   "metadata": {},
   "source": [
    "## Group activity\n",
    "\n",
    "Consider the code below:"
   ]
  },
  {
   "cell_type": "code",
   "execution_count": null,
   "metadata": {},
   "outputs": [],
   "source": [
    "def f(n):\n",
    "    if n < 3:\n",
    "        return 1\n",
    "    if f(n-1) > f(n-2):\n",
    "        return f(n-2) - 1\n",
    "    else:\n",
    "        return f(n-3) + 1"
   ]
  },
  {
   "cell_type": "markdown",
   "metadata": {},
   "source": [
    "**Without running the code**, fill in the table for what `f` returns:\n",
    "\n",
    "|  `n`   |   `f(n)` |\n",
    "|--------|--------|\n",
    "| 0      |    1   |\n",
    "| 1      |    1   |\n",
    "| 2      |    1   |\n",
    "| 3      |    2   |\n",
    "| 4      |    0   |\n",
    "| 5      |    2   |\n",
    "| 6      |    -1  |\n",
    "| 7      |    1   |\n",
    "| 8      |    -2  |"
   ]
  },
  {
   "cell_type": "code",
   "execution_count": null,
   "metadata": {},
   "outputs": [],
   "source": []
  }
 ],
 "metadata": {
  "kernelspec": {
   "display_name": "Python 3",
   "language": "python",
   "name": "python3"
  },
  "language_info": {
   "codemirror_mode": {
    "name": "ipython",
    "version": 3
   },
   "file_extension": ".py",
   "mimetype": "text/x-python",
   "name": "python",
   "nbconvert_exporter": "python",
   "pygments_lexer": "ipython3",
   "version": "3.6.5"
  }
 },
 "nbformat": 4,
 "nbformat_minor": 4
}
