{
 "cells": [
  {
   "cell_type": "code",
   "execution_count": null,
   "metadata": {},
   "outputs": [],
   "source": [
    "### modelling virality"
   ]
  },
  {
   "cell_type": "code",
   "execution_count": null,
   "metadata": {},
   "outputs": [],
   "source": [
    "import matplotlib.pyplot as plt\n",
    "%matplotlib inline\n",
    "import altair as alt\n",
    "import numpy as np\n",
    "import pandas as pd\n",
    "from nltk.corpus import movie_reviews\n",
    "from sklearn.feature_extraction import DictVectorizer\n",
    "from functools import reduce \n",
    "\n",
    "import networkx as nx"
   ]
  },
  {
   "cell_type": "code",
   "execution_count": null,
   "metadata": {},
   "outputs": [],
   "source": [
    "facebook_edges = pd.read_csv(\"facebook-links.txt\", sep='\\t')\n",
    "facebook_edges.columns = [\"from\", \"to\", \"timestamp\"]\n",
    "facebook_edges.head()"
   ]
  },
  {
   "cell_type": "code",
   "execution_count": null,
   "metadata": {},
   "outputs": [],
   "source": [
    "adjacency_matrix = nx.adjacency_matrix(facebook_graph)\n",
    "\n",
    "degrees = np.sum(adjacency_matrix, axis=1)"
   ]
  },
  {
   "cell_type": "markdown",
   "metadata": {},
   "source": [
    "1. pick some virality coefficient $\\xi\\in (0,1)$\n",
    "2. select one person (node) at random to be initially \"infected\"\n",
    "3. each currently infected person loses interest with probability $\\alpha$ and becomes _permanently_ un-infected. By default we'll use $\\alpha=0.01$.\n",
    "4. for each infected person, each neighbour in the graph who isn't already infected or immune becomes infected with probability $\\xi$. Note: if multiple neighbours of an un-infected node are infected, repeat this step multiple times. For example, if Mercutio and Paris like _Gangnam Style_, then Escalus has two chances of being infected at the current time step. Mathematically, the probability of infection is $1-(1-\\xi)^2 = 2\\xi-\\xi^2$, but you don't need to calculate this in your code because you can just repeatedly try to infect the person.\n",
    "5. repeat steps 3-4 some number of times, by default $100$. \n",
    "\n",
    "model should return the proportion of people infected, and graph the change over time. "
   ]
  },
  {
   "cell_type": "code",
   "execution_count": null,
   "metadata": {},
   "outputs": [],
   "source": [
    "def virality_sim(G, ξ, α=0.01, iters=100):\n",
    "    \"\"\"\n",
    "    Monte Carlo simulation of virality using an infection model.\n",
    "    Returns the proportion infected people. \n",
    "    \n",
    "    Arguments: \n",
    "    G -- (networkx.classes.graph.Graph) the graph\n",
    "    ξ -- (float) the probability of infection by a neighbour, at each iteration\n",
    "    α -- (float) the probability of immunity for each node, at each iteration (default: 0.01)\n",
    "    iters -- (int) the number of iterations to run the simulation (default: 1000)\n",
    "    \"\"\"\n",
    "\n",
    "    infected = set()\n",
    "    immune = set()\n",
    "        \n",
    "    infected.add(np.random.choice(G.nodes()))\n",
    "    \n",
    "    percent_infected = []\n",
    "            \n",
    "    for i in range(iters):\n",
    "\n",
    "        # immunity\n",
    "        for node in G.nodes():\n",
    "            if np.random.rand() < α:\n",
    "                immune.add(node)\n",
    "                \n",
    "        # infection\n",
    "        about_to_be_infected = set()\n",
    "        for infected_node in infected:            \n",
    "            for neighbour in G[infected_node]:\n",
    "                if neighbour not in immune and neighbour not in infected:\n",
    "                    if np.random.rand() < ξ:\n",
    "                        about_to_be_infected.add(neighbour)\n",
    "        infected |= about_to_be_infected\n",
    "        percent_infected.append(len(infected)/len(G.nodes()))   \n",
    "\n",
    "    plt.scatter(range(len(percent_infected)), percent_infected)\n",
    "    plt.xlabel(\"iteration\")\n",
    "    plt.ylabel(\"percent infected\")\n",
    "    plt.show()\n",
    "    plt.clf()"
   ]
  },
  {
   "cell_type": "markdown",
   "metadata": {},
   "source": []
  },
  {
   "cell_type": "code",
   "execution_count": null,
   "metadata": {},
   "outputs": [],
   "source": []
  },
  {
   "cell_type": "markdown",
   "metadata": {},
   "source": []
  },
  {
   "cell_type": "code",
   "execution_count": null,
   "metadata": {},
   "outputs": [],
   "source": []
  },
  {
   "cell_type": "code",
   "execution_count": null,
   "metadata": {},
   "outputs": [],
   "source": []
  },
  {
   "cell_type": "code",
   "execution_count": null,
   "metadata": {},
   "outputs": [],
   "source": []
  },
  {
   "cell_type": "code",
   "execution_count": null,
   "metadata": {},
   "outputs": [],
   "source": []
  }
 ],
 "metadata": {
  "kernelspec": {
   "display_name": "Python 3",
   "language": "python",
   "name": "python3"
  },
  "language_info": {
   "codemirror_mode": {
    "name": "ipython",
    "version": 3
   },
   "file_extension": ".py",
   "mimetype": "text/x-python",
   "name": "python",
   "nbconvert_exporter": "python",
   "pygments_lexer": "ipython3",
   "version": "3.7.3"
  }
 },
 "nbformat": 4,
 "nbformat_minor": 4
}
